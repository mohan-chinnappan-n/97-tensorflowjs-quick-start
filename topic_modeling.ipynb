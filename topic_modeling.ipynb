{
  "nbformat": 4,
  "nbformat_minor": 0,
  "metadata": {
    "colab": {
      "name": "topic-modeling.ipynb",
      "version": "0.3.2",
      "provenance": [],
      "include_colab_link": true
    },
    "kernelspec": {
      "name": "python3",
      "display_name": "Python 3"
    }
  },
  "cells": [
    {
      "cell_type": "markdown",
      "metadata": {
        "id": "view-in-github",
        "colab_type": "text"
      },
      "source": [
        "<a href=\"https://colab.research.google.com/github/mohan-chinnappan-n/97-tensorflowjs-quick-start/blob/master/topic_modeling.ipynb\" target=\"_parent\"><img src=\"https://colab.research.google.com/assets/colab-badge.svg\" alt=\"Open In Colab\"/></a>"
      ]
    },
    {
      "metadata": {
        "id": "0YZVIH65wFig",
        "colab_type": "code",
        "outputId": "b8864b53-6223-4ce4-f047-6efe860fc2ba",
        "colab": {
          "base_uri": "https://localhost:8080/",
          "height": 68
        }
      },
      "cell_type": "code",
      "source": [
        "import nltk; nltk.download('stopwords')\n"
      ],
      "execution_count": 0,
      "outputs": [
        {
          "output_type": "stream",
          "text": [
            "[nltk_data] Downloading package stopwords to /root/nltk_data...\n",
            "[nltk_data]   Unzipping corpora/stopwords.zip.\n"
          ],
          "name": "stdout"
        },
        {
          "output_type": "execute_result",
          "data": {
            "text/plain": [
              "True"
            ]
          },
          "metadata": {
            "tags": []
          },
          "execution_count": 1
        }
      ]
    },
    {
      "metadata": {
        "id": "OQQK4jXY5Rja",
        "colab_type": "text"
      },
      "cell_type": "markdown",
      "source": [
        "ref: https://www.machinelearningplus.com/nlp/topic-modeling-gensim-python/\n"
      ]
    },
    {
      "metadata": {
        "id": "VyNqs0zFxlRk",
        "colab_type": "text"
      },
      "cell_type": "markdown",
      "source": [
        "how to install extra packages: https://stackoverflow.com/questions/47276071/how-to-install-extra-packages-in-google-colaboratorys-vm"
      ]
    },
    {
      "metadata": {
        "id": "m7mZBm2MxMpi",
        "colab_type": "code",
        "colab": {
          "base_uri": "https://localhost:8080/",
          "height": 734
        },
        "outputId": "e81841c4-f1e2-4166-a2e6-799b55f2bff8"
      },
      "cell_type": "code",
      "source": [
        "!pip install gensim"
      ],
      "execution_count": 3,
      "outputs": [
        {
          "output_type": "stream",
          "text": [
            "Collecting gensim\n",
            "\u001b[?25l  Downloading https://files.pythonhosted.org/packages/27/a4/d10c0acc8528d838cda5eede0ee9c784caa598dbf40bd0911ff8d067a7eb/gensim-3.6.0-cp36-cp36m-manylinux1_x86_64.whl (23.6MB)\n",
            "\u001b[K    100% |████████████████████████████████| 23.6MB 664kB/s \n",
            "\u001b[?25hRequirement already satisfied: numpy>=1.11.3 in /usr/local/lib/python3.6/dist-packages (from gensim) (1.14.6)\n",
            "Requirement already satisfied: six>=1.5.0 in /usr/local/lib/python3.6/dist-packages (from gensim) (1.11.0)\n",
            "Requirement already satisfied: scipy>=0.18.1 in /usr/local/lib/python3.6/dist-packages (from gensim) (1.1.0)\n",
            "Collecting smart-open>=1.2.1 (from gensim)\n",
            "  Downloading https://files.pythonhosted.org/packages/4b/1f/6f27e3682124de63ac97a0a5876da6186de6c19410feab66c1543afab055/smart_open-1.7.1.tar.gz\n",
            "Collecting boto>=2.32 (from smart-open>=1.2.1->gensim)\n",
            "\u001b[?25l  Downloading https://files.pythonhosted.org/packages/23/10/c0b78c27298029e4454a472a1919bde20cb182dab1662cec7f2ca1dcc523/boto-2.49.0-py2.py3-none-any.whl (1.4MB)\n",
            "\u001b[K    100% |████████████████████████████████| 1.4MB 15.5MB/s \n",
            "\u001b[?25hCollecting bz2file (from smart-open>=1.2.1->gensim)\n",
            "  Downloading https://files.pythonhosted.org/packages/61/39/122222b5e85cd41c391b68a99ee296584b2a2d1d233e7ee32b4532384f2d/bz2file-0.98.tar.gz\n",
            "Requirement already satisfied: requests in /usr/local/lib/python3.6/dist-packages (from smart-open>=1.2.1->gensim) (2.18.4)\n",
            "Collecting boto3 (from smart-open>=1.2.1->gensim)\n",
            "\u001b[?25l  Downloading https://files.pythonhosted.org/packages/20/91/10fda0a4b08aef3751b1c56c00e820666b3c7c708ebd2c1271469c056bb8/boto3-1.9.60-py2.py3-none-any.whl (128kB)\n",
            "\u001b[K    100% |████████████████████████████████| 133kB 27.3MB/s \n",
            "\u001b[?25hRequirement already satisfied: idna<2.7,>=2.5 in /usr/local/lib/python3.6/dist-packages (from requests->smart-open>=1.2.1->gensim) (2.6)\n",
            "Requirement already satisfied: certifi>=2017.4.17 in /usr/local/lib/python3.6/dist-packages (from requests->smart-open>=1.2.1->gensim) (2018.11.29)\n",
            "Requirement already satisfied: urllib3<1.23,>=1.21.1 in /usr/local/lib/python3.6/dist-packages (from requests->smart-open>=1.2.1->gensim) (1.22)\n",
            "Requirement already satisfied: chardet<3.1.0,>=3.0.2 in /usr/local/lib/python3.6/dist-packages (from requests->smart-open>=1.2.1->gensim) (3.0.4)\n",
            "Collecting jmespath<1.0.0,>=0.7.1 (from boto3->smart-open>=1.2.1->gensim)\n",
            "  Downloading https://files.pythonhosted.org/packages/b7/31/05c8d001f7f87f0f07289a5fc0fc3832e9a57f2dbd4d3b0fee70e0d51365/jmespath-0.9.3-py2.py3-none-any.whl\n",
            "Collecting botocore<1.13.0,>=1.12.60 (from boto3->smart-open>=1.2.1->gensim)\n",
            "\u001b[?25l  Downloading https://files.pythonhosted.org/packages/53/cb/9a2571dab1b365f6f3dc21e0ec9d6b66d1b2abbda8ab227c83928630dd14/botocore-1.12.60-py2.py3-none-any.whl (5.1MB)\n",
            "\u001b[K    100% |████████████████████████████████| 5.1MB 5.8MB/s \n",
            "\u001b[?25hCollecting s3transfer<0.2.0,>=0.1.10 (from boto3->smart-open>=1.2.1->gensim)\n",
            "\u001b[?25l  Downloading https://files.pythonhosted.org/packages/d7/14/2a0004d487464d120c9fb85313a75cd3d71a7506955be458eebfe19a6b1d/s3transfer-0.1.13-py2.py3-none-any.whl (59kB)\n",
            "\u001b[K    100% |████████████████████████████████| 61kB 22.0MB/s \n",
            "\u001b[?25hRequirement already satisfied: python-dateutil<3.0.0,>=2.1; python_version >= \"2.7\" in /usr/local/lib/python3.6/dist-packages (from botocore<1.13.0,>=1.12.60->boto3->smart-open>=1.2.1->gensim) (2.5.3)\n",
            "Collecting docutils>=0.10 (from botocore<1.13.0,>=1.12.60->boto3->smart-open>=1.2.1->gensim)\n",
            "\u001b[?25l  Downloading https://files.pythonhosted.org/packages/36/fa/08e9e6e0e3cbd1d362c3bbee8d01d0aedb2155c4ac112b19ef3cae8eed8d/docutils-0.14-py3-none-any.whl (543kB)\n",
            "\u001b[K    100% |████████████████████████████████| 552kB 23.7MB/s \n",
            "\u001b[?25hBuilding wheels for collected packages: smart-open, bz2file\n",
            "  Running setup.py bdist_wheel for smart-open ... \u001b[?25l-\b \b\\\b \bdone\n",
            "\u001b[?25h  Stored in directory: /root/.cache/pip/wheels/23/00/44/e5b939f7a80c04e32297dbd6d96fa3065af89ecf57e2b5f89f\n",
            "  Running setup.py bdist_wheel for bz2file ... \u001b[?25l-\b \bdone\n",
            "\u001b[?25h  Stored in directory: /root/.cache/pip/wheels/81/75/d6/e1317bf09bf1af5a30befc2a007869fa6e1f516b8f7c591cb9\n",
            "Successfully built smart-open bz2file\n",
            "Installing collected packages: boto, bz2file, jmespath, docutils, botocore, s3transfer, boto3, smart-open, gensim\n",
            "Successfully installed boto-2.49.0 boto3-1.9.60 botocore-1.12.60 bz2file-0.98 docutils-0.14 gensim-3.6.0 jmespath-0.9.3 s3transfer-0.1.13 smart-open-1.7.1\n"
          ],
          "name": "stdout"
        }
      ]
    },
    {
      "metadata": {
        "id": "P9y6PPLixXPF",
        "colab_type": "code",
        "colab": {
          "base_uri": "https://localhost:8080/",
          "height": 581
        },
        "outputId": "16a70211-fa1d-4b88-ecea-b3f43bdec647"
      },
      "cell_type": "code",
      "source": [
        "!pip install pyLDAvis\n"
      ],
      "execution_count": 5,
      "outputs": [
        {
          "output_type": "stream",
          "text": [
            "Collecting pyLDAvis\n",
            "\u001b[?25l  Downloading https://files.pythonhosted.org/packages/a5/3a/af82e070a8a96e13217c8f362f9a73e82d61ac8fff3a2561946a97f96266/pyLDAvis-2.1.2.tar.gz (1.6MB)\n",
            "\u001b[K    100% |████████████████████████████████| 1.6MB 13.1MB/s \n",
            "\u001b[?25hRequirement already satisfied: wheel>=0.23.0 in /usr/local/lib/python3.6/dist-packages (from pyLDAvis) (0.32.3)\n",
            "Requirement already satisfied: numpy>=1.9.2 in /usr/local/lib/python3.6/dist-packages (from pyLDAvis) (1.14.6)\n",
            "Requirement already satisfied: scipy>=0.18.0 in /usr/local/lib/python3.6/dist-packages (from pyLDAvis) (1.1.0)\n",
            "Requirement already satisfied: pandas>=0.17.0 in /usr/local/lib/python3.6/dist-packages (from pyLDAvis) (0.22.0)\n",
            "Requirement already satisfied: joblib>=0.8.4 in /usr/local/lib/python3.6/dist-packages (from pyLDAvis) (0.13.0)\n",
            "Requirement already satisfied: jinja2>=2.7.2 in /usr/local/lib/python3.6/dist-packages (from pyLDAvis) (2.10)\n",
            "Collecting numexpr (from pyLDAvis)\n",
            "\u001b[?25l  Downloading https://files.pythonhosted.org/packages/db/ea/efd9e16283637eb5b6c0042b6cc3521f1b9a5b47767ac463c88bbd37670c/numexpr-2.6.8-cp36-cp36m-manylinux1_x86_64.whl (162kB)\n",
            "\u001b[K    100% |████████████████████████████████| 163kB 26.5MB/s \n",
            "\u001b[?25hRequirement already satisfied: pytest in /usr/local/lib/python3.6/dist-packages (from pyLDAvis) (3.10.1)\n",
            "Requirement already satisfied: future in /usr/local/lib/python3.6/dist-packages (from pyLDAvis) (0.16.0)\n",
            "Collecting funcy (from pyLDAvis)\n",
            "  Downloading https://files.pythonhosted.org/packages/47/a4/204fa23012e913839c2da4514b92f17da82bf5fc8c2c3d902fa3fa3c6eec/funcy-1.11-py2.py3-none-any.whl\n",
            "Requirement already satisfied: python-dateutil>=2 in /usr/local/lib/python3.6/dist-packages (from pandas>=0.17.0->pyLDAvis) (2.5.3)\n",
            "Requirement already satisfied: pytz>=2011k in /usr/local/lib/python3.6/dist-packages (from pandas>=0.17.0->pyLDAvis) (2018.7)\n",
            "Requirement already satisfied: MarkupSafe>=0.23 in /usr/local/lib/python3.6/dist-packages (from jinja2>=2.7.2->pyLDAvis) (1.1.0)\n",
            "Requirement already satisfied: more-itertools>=4.0.0 in /usr/local/lib/python3.6/dist-packages (from pytest->pyLDAvis) (4.3.0)\n",
            "Requirement already satisfied: setuptools in /usr/local/lib/python3.6/dist-packages (from pytest->pyLDAvis) (40.6.2)\n",
            "Requirement already satisfied: pluggy>=0.7 in /usr/local/lib/python3.6/dist-packages (from pytest->pyLDAvis) (0.8.0)\n",
            "Requirement already satisfied: atomicwrites>=1.0 in /usr/local/lib/python3.6/dist-packages (from pytest->pyLDAvis) (1.2.1)\n",
            "Requirement already satisfied: py>=1.5.0 in /usr/local/lib/python3.6/dist-packages (from pytest->pyLDAvis) (1.7.0)\n",
            "Requirement already satisfied: attrs>=17.4.0 in /usr/local/lib/python3.6/dist-packages (from pytest->pyLDAvis) (18.2.0)\n",
            "Requirement already satisfied: six>=1.10.0 in /usr/local/lib/python3.6/dist-packages (from pytest->pyLDAvis) (1.11.0)\n",
            "Building wheels for collected packages: pyLDAvis\n",
            "  Running setup.py bdist_wheel for pyLDAvis ... \u001b[?25l-\b \b\\\b \bdone\n",
            "\u001b[?25h  Stored in directory: /root/.cache/pip/wheels/98/71/24/513a99e58bb6b8465bae4d2d5e9dba8f0bef8179e3051ac414\n",
            "Successfully built pyLDAvis\n",
            "Installing collected packages: numexpr, funcy, pyLDAvis\n",
            "Successfully installed funcy-1.11 numexpr-2.6.8 pyLDAvis-2.1.2\n"
          ],
          "name": "stdout"
        }
      ]
    },
    {
      "metadata": {
        "id": "8XFJeyyaxzUA",
        "colab_type": "code",
        "colab": {
          "base_uri": "https://localhost:8080/",
          "height": 238
        },
        "outputId": "97e07c44-4e99-4e87-a45a-96d045ea6ccc"
      },
      "cell_type": "code",
      "source": [
        "!python -m spacy download en"
      ],
      "execution_count": 6,
      "outputs": [
        {
          "output_type": "stream",
          "text": [
            "Collecting en_core_web_sm==2.0.0 from https://github.com/explosion/spacy-models/releases/download/en_core_web_sm-2.0.0/en_core_web_sm-2.0.0.tar.gz#egg=en_core_web_sm==2.0.0\n",
            "\u001b[?25l  Downloading https://github.com/explosion/spacy-models/releases/download/en_core_web_sm-2.0.0/en_core_web_sm-2.0.0.tar.gz (37.4MB)\n",
            "\u001b[K    100% |████████████████████████████████| 37.4MB 82.5MB/s \n",
            "\u001b[?25hInstalling collected packages: en-core-web-sm\n",
            "  Running setup.py install for en-core-web-sm ... \u001b[?25l-\b \b\\\b \b|\b \b/\b \bdone\n",
            "\u001b[?25hSuccessfully installed en-core-web-sm-2.0.0\n",
            "\n",
            "\u001b[93m    Linking successful\u001b[0m\n",
            "    /usr/local/lib/python3.6/dist-packages/en_core_web_sm -->\n",
            "    /usr/local/lib/python3.6/dist-packages/spacy/data/en\n",
            "\n",
            "    You can now load the model via spacy.load('en')\n",
            "\n"
          ],
          "name": "stdout"
        }
      ]
    },
    {
      "metadata": {
        "id": "uDs_J2aewlF5",
        "colab_type": "code",
        "colab": {}
      },
      "cell_type": "code",
      "source": [
        "import re\n",
        "import numpy as np\n",
        "import pandas as pd\n",
        "from pprint import pprint\n",
        "\n",
        "# Gensim\n",
        "import gensim\n",
        "import gensim.corpora as corpora\n",
        "from gensim.utils import simple_preprocess\n",
        "from gensim.models import CoherenceModel\n",
        "\n",
        "# spacy for lemmatization\n",
        "import spacy\n",
        "\n",
        "# Plotting tools\n",
        "import pyLDAvis\n",
        "import pyLDAvis.gensim  # don't skip this\n",
        "import matplotlib.pyplot as plt\n",
        "%matplotlib inline\n",
        "\n",
        "# Enable logging for gensim - optional\n",
        "import logging\n",
        "logging.basicConfig(format='%(asctime)s : %(levelname)s : %(message)s', level=logging.ERROR)\n",
        "\n",
        "import warnings\n",
        "warnings.filterwarnings(\"ignore\",category=DeprecationWarning)"
      ],
      "execution_count": 0,
      "outputs": []
    },
    {
      "metadata": {
        "id": "lIoIcPYFyAH3",
        "colab_type": "code",
        "colab": {}
      },
      "cell_type": "code",
      "source": [
        "# NLTK Stop words\n",
        "from nltk.corpus import stopwords\n",
        "stop_words = stopwords.words('english')\n",
        "stop_words.extend(['from', 'subject', 're', 'edu', 'use'])"
      ],
      "execution_count": 0,
      "outputs": []
    },
    {
      "metadata": {
        "id": "Jvh5l5IayJGt",
        "colab_type": "code",
        "colab": {
          "base_uri": "https://localhost:8080/",
          "height": 119
        },
        "outputId": "b15ed87d-8c20-4cf5-c6bb-5105e9723bb0"
      },
      "cell_type": "code",
      "source": [
        "# Import Dataset - Import Newsgroups Data\n",
        "\n",
        "df = pd.read_json('https://raw.githubusercontent.com/selva86/datasets/master/newsgroups.json')\n",
        "print(df.target_names.unique())\n"
      ],
      "execution_count": 9,
      "outputs": [
        {
          "output_type": "stream",
          "text": [
            "['rec.autos' 'comp.sys.mac.hardware' 'rec.motorcycles' 'misc.forsale'\n",
            " 'comp.os.ms-windows.misc' 'alt.atheism' 'comp.graphics'\n",
            " 'rec.sport.baseball' 'rec.sport.hockey' 'sci.electronics' 'sci.space'\n",
            " 'talk.politics.misc' 'sci.med' 'talk.politics.mideast'\n",
            " 'soc.religion.christian' 'comp.windows.x' 'comp.sys.ibm.pc.hardware'\n",
            " 'talk.politics.guns' 'talk.religion.misc' 'sci.crypt']\n"
          ],
          "name": "stdout"
        }
      ]
    },
    {
      "metadata": {
        "id": "T0WMq0KMyV7d",
        "colab_type": "code",
        "colab": {
          "base_uri": "https://localhost:8080/",
          "height": 359
        },
        "outputId": "eabea3d1-59a0-4ab7-8aae-8ed927c27b69"
      },
      "cell_type": "code",
      "source": [
        "df.head(10)"
      ],
      "execution_count": 10,
      "outputs": [
        {
          "output_type": "execute_result",
          "data": {
            "text/html": [
              "<div>\n",
              "<style scoped>\n",
              "    .dataframe tbody tr th:only-of-type {\n",
              "        vertical-align: middle;\n",
              "    }\n",
              "\n",
              "    .dataframe tbody tr th {\n",
              "        vertical-align: top;\n",
              "    }\n",
              "\n",
              "    .dataframe thead th {\n",
              "        text-align: right;\n",
              "    }\n",
              "</style>\n",
              "<table border=\"1\" class=\"dataframe\">\n",
              "  <thead>\n",
              "    <tr style=\"text-align: right;\">\n",
              "      <th></th>\n",
              "      <th>content</th>\n",
              "      <th>target</th>\n",
              "      <th>target_names</th>\n",
              "    </tr>\n",
              "  </thead>\n",
              "  <tbody>\n",
              "    <tr>\n",
              "      <th>0</th>\n",
              "      <td>From: lerxst@wam.umd.edu (where's my thing)\\nS...</td>\n",
              "      <td>7</td>\n",
              "      <td>rec.autos</td>\n",
              "    </tr>\n",
              "    <tr>\n",
              "      <th>1</th>\n",
              "      <td>From: guykuo@carson.u.washington.edu (Guy Kuo)...</td>\n",
              "      <td>4</td>\n",
              "      <td>comp.sys.mac.hardware</td>\n",
              "    </tr>\n",
              "    <tr>\n",
              "      <th>10</th>\n",
              "      <td>From: irwin@cmptrc.lonestar.org (Irwin Arnstei...</td>\n",
              "      <td>8</td>\n",
              "      <td>rec.motorcycles</td>\n",
              "    </tr>\n",
              "    <tr>\n",
              "      <th>100</th>\n",
              "      <td>From: tchen@magnus.acs.ohio-state.edu (Tsung-K...</td>\n",
              "      <td>6</td>\n",
              "      <td>misc.forsale</td>\n",
              "    </tr>\n",
              "    <tr>\n",
              "      <th>1000</th>\n",
              "      <td>From: dabl2@nlm.nih.gov (Don A.B. Lindbergh)\\n...</td>\n",
              "      <td>2</td>\n",
              "      <td>comp.os.ms-windows.misc</td>\n",
              "    </tr>\n",
              "    <tr>\n",
              "      <th>10000</th>\n",
              "      <td>From: a207706@moe.dseg.ti.com (Robert Loper)\\n...</td>\n",
              "      <td>7</td>\n",
              "      <td>rec.autos</td>\n",
              "    </tr>\n",
              "    <tr>\n",
              "      <th>10001</th>\n",
              "      <td>From: kimman@magnus.acs.ohio-state.edu (Kim Ri...</td>\n",
              "      <td>6</td>\n",
              "      <td>misc.forsale</td>\n",
              "    </tr>\n",
              "    <tr>\n",
              "      <th>10002</th>\n",
              "      <td>From: kwilson@casbah.acns.nwu.edu (Kirtley Wil...</td>\n",
              "      <td>2</td>\n",
              "      <td>comp.os.ms-windows.misc</td>\n",
              "    </tr>\n",
              "    <tr>\n",
              "      <th>10003</th>\n",
              "      <td>Subject: Re: Don't more innocents die without ...</td>\n",
              "      <td>0</td>\n",
              "      <td>alt.atheism</td>\n",
              "    </tr>\n",
              "    <tr>\n",
              "      <th>10004</th>\n",
              "      <td>From: livesey@solntze.wpd.sgi.com (Jon Livesey...</td>\n",
              "      <td>0</td>\n",
              "      <td>alt.atheism</td>\n",
              "    </tr>\n",
              "  </tbody>\n",
              "</table>\n",
              "</div>"
            ],
            "text/plain": [
              "                                                 content  target  \\\n",
              "0      From: lerxst@wam.umd.edu (where's my thing)\\nS...       7   \n",
              "1      From: guykuo@carson.u.washington.edu (Guy Kuo)...       4   \n",
              "10     From: irwin@cmptrc.lonestar.org (Irwin Arnstei...       8   \n",
              "100    From: tchen@magnus.acs.ohio-state.edu (Tsung-K...       6   \n",
              "1000   From: dabl2@nlm.nih.gov (Don A.B. Lindbergh)\\n...       2   \n",
              "10000  From: a207706@moe.dseg.ti.com (Robert Loper)\\n...       7   \n",
              "10001  From: kimman@magnus.acs.ohio-state.edu (Kim Ri...       6   \n",
              "10002  From: kwilson@casbah.acns.nwu.edu (Kirtley Wil...       2   \n",
              "10003  Subject: Re: Don't more innocents die without ...       0   \n",
              "10004  From: livesey@solntze.wpd.sgi.com (Jon Livesey...       0   \n",
              "\n",
              "                  target_names  \n",
              "0                    rec.autos  \n",
              "1        comp.sys.mac.hardware  \n",
              "10             rec.motorcycles  \n",
              "100               misc.forsale  \n",
              "1000   comp.os.ms-windows.misc  \n",
              "10000                rec.autos  \n",
              "10001             misc.forsale  \n",
              "10002  comp.os.ms-windows.misc  \n",
              "10003              alt.atheism  \n",
              "10004              alt.atheism  "
            ]
          },
          "metadata": {
            "tags": []
          },
          "execution_count": 10
        }
      ]
    },
    {
      "metadata": {
        "id": "QAvxCP_NyZid",
        "colab_type": "code",
        "colab": {
          "base_uri": "https://localhost:8080/",
          "height": 187
        },
        "outputId": "c6257c32-5a02-44e0-e993-2a68bec3ca8b"
      },
      "cell_type": "code",
      "source": [
        "# 7. Remove emails and newline characters\n",
        "# Convert to list\n",
        "data = df.content.values.tolist()\n",
        "\n",
        "# Remove Emails\n",
        "data = [re.sub('\\S*@\\S*\\s?', '', sent) for sent in data]\n",
        "\n",
        "# Remove new line characters\n",
        "data = [re.sub('\\s+', ' ', sent) for sent in data]\n",
        "\n",
        "# Remove distracting single quotes\n",
        "data = [re.sub(\"\\'\", \"\", sent) for sent in data]\n",
        "\n",
        "pprint(data[:1])\n",
        "       "
      ],
      "execution_count": 11,
      "outputs": [
        {
          "output_type": "stream",
          "text": [
            "['From: (wheres my thing) Subject: WHAT car is this!? Nntp-Posting-Host: '\n",
            " 'rac3.wam.umd.edu Organization: University of Maryland, College Park Lines: '\n",
            " '15 I was wondering if anyone out there could enlighten me on this car I saw '\n",
            " 'the other day. It was a 2-door sports car, looked to be from the late 60s/ '\n",
            " 'early 70s. It was called a Bricklin. The doors were really small. In '\n",
            " 'addition, the front bumper was separate from the rest of the body. This is '\n",
            " 'all I know. If anyone can tellme a model name, engine specs, years of '\n",
            " 'production, where this car is made, history, or whatever info you have on '\n",
            " 'this funky looking car, please e-mail. Thanks, - IL ---- brought to you by '\n",
            " 'your neighborhood Lerxst ---- ']\n"
          ],
          "name": "stdout"
        }
      ]
    },
    {
      "metadata": {
        "id": "QIw5XJLnz58M",
        "colab_type": "code",
        "colab": {
          "base_uri": "https://localhost:8080/",
          "height": 54
        },
        "outputId": "4621efb4-37d7-4410-b15a-6a815842cc5b"
      },
      "cell_type": "code",
      "source": [
        "# break down each sentence into a list of words through tokenization, \n",
        "#  while clearing up all the messy text in the process.\n",
        "# Gensim’s simple_preprocess is used for this.\n",
        "\n",
        "\n",
        "\n",
        "def sent_to_words(sentences):\n",
        "    for sentence in sentences:\n",
        "        yield(gensim.utils.simple_preprocess(str(sentence), deacc=True))  # deacc=True removes punctuations\n",
        "\n",
        "data_words = list(sent_to_words(data))\n",
        "\n",
        "print(data_words[:1])"
      ],
      "execution_count": 12,
      "outputs": [
        {
          "output_type": "stream",
          "text": [
            "[['from', 'wheres', 'my', 'thing', 'subject', 'what', 'car', 'is', 'this', 'nntp', 'posting', 'host', 'rac', 'wam', 'umd', 'edu', 'organization', 'university', 'of', 'maryland', 'college', 'park', 'lines', 'was', 'wondering', 'if', 'anyone', 'out', 'there', 'could', 'enlighten', 'me', 'on', 'this', 'car', 'saw', 'the', 'other', 'day', 'it', 'was', 'door', 'sports', 'car', 'looked', 'to', 'be', 'from', 'the', 'late', 'early', 'it', 'was', 'called', 'bricklin', 'the', 'doors', 'were', 'really', 'small', 'in', 'addition', 'the', 'front', 'bumper', 'was', 'separate', 'from', 'the', 'rest', 'of', 'the', 'body', 'this', 'is', 'all', 'know', 'if', 'anyone', 'can', 'tellme', 'model', 'name', 'engine', 'specs', 'years', 'of', 'production', 'where', 'this', 'car', 'is', 'made', 'history', 'or', 'whatever', 'info', 'you', 'have', 'on', 'this', 'funky', 'looking', 'car', 'please', 'mail', 'thanks', 'il', 'brought', 'to', 'you', 'by', 'your', 'neighborhood', 'lerxst']]\n"
          ],
          "name": "stdout"
        }
      ]
    },
    {
      "metadata": {
        "id": "3JMZ8SLt0Kzd",
        "colab_type": "code",
        "colab": {
          "base_uri": "https://localhost:8080/",
          "height": 88
        },
        "outputId": "20db2886-c3cc-4820-ae98-9271f15b3c17"
      },
      "cell_type": "code",
      "source": [
        "# 9. Creating Bigram and Trigram Models\n",
        "# Bigrams are two words frequently occurring together in the document.\n",
        "# Trigrams are 3 words frequently occurring\n",
        "# Some examples in our example are: ‘front_bumper’, ‘oil_leak’, ‘maryland_college_park’ etc.\n",
        "\n",
        "# Build the bigram and trigram models\n",
        "bigram = gensim.models.Phrases(data_words, min_count=5, threshold=100) # higher threshold fewer phrases.\n",
        "trigram = gensim.models.Phrases(bigram[data_words], threshold=100)  \n",
        "\n",
        "# Faster way to get a sentence clubbed as a trigram/bigram\n",
        "bigram_mod = gensim.models.phrases.Phraser(bigram)\n",
        "trigram_mod = gensim.models.phrases.Phraser(trigram)\n",
        "\n",
        "# See trigram example\n",
        "print(trigram_mod[bigram_mod[data_words[0]]])"
      ],
      "execution_count": 13,
      "outputs": [
        {
          "output_type": "stream",
          "text": [
            "/usr/local/lib/python3.6/dist-packages/gensim/models/phrases.py:598: UserWarning: For a faster implementation, use the gensim.models.phrases.Phraser class\n",
            "  warnings.warn(\"For a faster implementation, use the gensim.models.phrases.Phraser class\")\n"
          ],
          "name": "stderr"
        },
        {
          "output_type": "stream",
          "text": [
            "['from', 'wheres', 'my', 'thing', 'subject', 'what', 'car', 'is', 'this', 'nntp_posting_host', 'rac_wam_umd_edu', 'organization', 'university', 'of', 'maryland_college_park', 'lines', 'was', 'wondering', 'if', 'anyone', 'out', 'there', 'could', 'enlighten', 'me', 'on', 'this', 'car', 'saw', 'the', 'other', 'day', 'it', 'was', 'door', 'sports', 'car', 'looked', 'to', 'be', 'from', 'the', 'late', 'early', 'it', 'was', 'called', 'bricklin', 'the', 'doors', 'were', 'really', 'small', 'in', 'addition', 'the', 'front_bumper', 'was', 'separate', 'from', 'the', 'rest', 'of', 'the', 'body', 'this', 'is', 'all', 'know', 'if', 'anyone', 'can', 'tellme', 'model', 'name', 'engine', 'specs', 'years', 'of', 'production', 'where', 'this', 'car', 'is', 'made', 'history', 'or', 'whatever', 'info', 'you', 'have', 'on', 'this', 'funky', 'looking', 'car', 'please', 'mail', 'thanks', 'il', 'brought', 'to', 'you', 'by', 'your', 'neighborhood', 'lerxst']\n"
          ],
          "name": "stdout"
        }
      ]
    },
    {
      "metadata": {
        "id": "GhYi5urS1DoF",
        "colab_type": "code",
        "colab": {}
      },
      "cell_type": "code",
      "source": [
        "# 10. Remove Stopwords, Make Bigrams and Lemmatize\n",
        "# The bigrams model is ready. Let’s define the functions to remove the stopwords,\n",
        "# make bigrams and lemmatization and call them sequentially.\n",
        "\n",
        "# Define functions for stopwords, bigrams, trigrams and lemmatization\n",
        "def remove_stopwords(texts):\n",
        "    return [[word for word in simple_preprocess(str(doc)) if word not in stop_words] for doc in texts]\n",
        "\n",
        "def make_bigrams(texts):\n",
        "    return [bigram_mod[doc] for doc in texts]\n",
        "\n",
        "def make_trigrams(texts):\n",
        "    return [trigram_mod[bigram_mod[doc]] for doc in texts]\n",
        "\n",
        "def lemmatization(texts, allowed_postags=['NOUN', 'ADJ', 'VERB', 'ADV']):\n",
        "    \"\"\"https://spacy.io/api/annotation\"\"\"\n",
        "    texts_out = []\n",
        "    for sent in texts:\n",
        "        doc = nlp(\" \".join(sent)) \n",
        "        texts_out.append([token.lemma_ for token in doc if token.pos_ in allowed_postags])\n",
        "    return texts_out"
      ],
      "execution_count": 0,
      "outputs": []
    },
    {
      "metadata": {
        "id": "J4NafIDU1oDn",
        "colab_type": "code",
        "colab": {
          "base_uri": "https://localhost:8080/",
          "height": 54
        },
        "outputId": "1bd73223-0ff1-4882-ad52-4498c6c6f578"
      },
      "cell_type": "code",
      "source": [
        "# let us call these funcations in order\n",
        "# Remove Stop Words\n",
        "data_words_nostops = remove_stopwords(data_words)\n",
        "\n",
        "# Form Bigrams\n",
        "data_words_bigrams = make_bigrams(data_words_nostops)\n",
        "\n",
        "# Initialize spacy 'en' model, keeping only tagger component (for efficiency)\n",
        "# python3 -m spacy download en\n",
        "nlp = spacy.load('en', disable=['parser', 'ner'])\n",
        "\n",
        "# Do lemmatization keeping only noun, adj, vb, adv\n",
        "data_lemmatized = lemmatization(data_words_bigrams, allowed_postags=['NOUN', 'ADJ', 'VERB', 'ADV'])\n",
        "\n",
        "print(data_lemmatized[:1])"
      ],
      "execution_count": 16,
      "outputs": [
        {
          "output_type": "stream",
          "text": [
            "[['where', 's', 'thing', 'car', 'nntp_post', 'host', 'rac_wam', 'umd', 'organization', 'university', 'maryland_college', 'park', 'line', 'wonder', 'anyone', 'could', 'enlighten', 'car', 'see', 'day', 'door', 'sport', 'car', 'look', 'late', 'early', 'call', 'bricklin', 'door', 'really', 'small', 'addition', 'front_bumper', 'separate', 'rest', 'body', 'know', 'anyone', 'tellme', 'model', 'name', 'engine', 'spec', 'year', 'production', 'car', 'make', 'history', 'whatev', 'info', 'funky', 'look', 'car', 'mail', 'thank', 'bring', 'neighborhood', 'lerxst']]\n"
          ],
          "name": "stdout"
        }
      ]
    },
    {
      "metadata": {
        "id": "JnTn8X4r2UU_",
        "colab_type": "code",
        "colab": {
          "base_uri": "https://localhost:8080/",
          "height": 54
        },
        "outputId": "1f9e5660-fed5-4907-b89e-8cf0a34f964b"
      },
      "cell_type": "code",
      "source": [
        "# 11. Create the Dictionary and Corpus needed for Topic Modeling\n",
        "# The two main inputs to the LDA topic model are the dictionary(id2word) and the corpus. Let’s create them.\n",
        "# Create Dictionary\n",
        "id2word = corpora.Dictionary(data_lemmatized)\n",
        "\n",
        "# Create Corpus\n",
        "texts = data_lemmatized\n",
        "\n",
        "# Term Document Frequency\n",
        "corpus = [id2word.doc2bow(text) for text in texts]\n",
        "\n",
        "# View\n",
        "print(corpus[:1])"
      ],
      "execution_count": 17,
      "outputs": [
        {
          "output_type": "stream",
          "text": [
            "[[(0, 1), (1, 2), (2, 1), (3, 1), (4, 1), (5, 1), (6, 5), (7, 1), (8, 1), (9, 2), (10, 1), (11, 1), (12, 1), (13, 1), (14, 1), (15, 1), (16, 1), (17, 1), (18, 1), (19, 1), (20, 1), (21, 1), (22, 2), (23, 1), (24, 1), (25, 1), (26, 1), (27, 1), (28, 1), (29, 1), (30, 1), (31, 1), (32, 1), (33, 1), (34, 1), (35, 1), (36, 1), (37, 1), (38, 1), (39, 1), (40, 1), (41, 1), (42, 1), (43, 1), (44, 1), (45, 1), (46, 1), (47, 1), (48, 1), (49, 1), (50, 1)]]\n"
          ],
          "name": "stdout"
        }
      ]
    },
    {
      "metadata": {
        "id": "saStAmdU2gmk",
        "colab_type": "code",
        "colab": {
          "base_uri": "https://localhost:8080/",
          "height": 34
        },
        "outputId": "a2279956-4f09-4745-ab99-b82397de8ebf"
      },
      "cell_type": "code",
      "source": [
        "# Gensim creates a unique id for each word in the document. \n",
        "# The produced corpus shown above is a mapping of (word_id, word_frequency).\n",
        "# For example, (0, 1) above implies, word id 0 occurs once in the first document. Likewise, word id 1 occurs twice and so on.\n",
        "# This is used as the input by the LDA model.\n",
        "\n",
        "# If you want to see what word a given id corresponds to, pass the id as a key to the dictionary.\n",
        "\n",
        "id2word[0]"
      ],
      "execution_count": 18,
      "outputs": [
        {
          "output_type": "execute_result",
          "data": {
            "text/plain": [
              "'addition'"
            ]
          },
          "metadata": {
            "tags": []
          },
          "execution_count": 18
        }
      ]
    },
    {
      "metadata": {
        "id": "yXuXXUg21oDA",
        "colab_type": "code",
        "colab": {
          "base_uri": "https://localhost:8080/",
          "height": 884
        },
        "outputId": "b529bb1e-f84f-4383-da71-afa112b3ae85"
      },
      "cell_type": "code",
      "source": [
        "# Human readable format of corpus (term-frequency)\n",
        "[[(id2word[id], freq) for id, freq in cp] for cp in corpus[:1]]"
      ],
      "execution_count": 19,
      "outputs": [
        {
          "output_type": "execute_result",
          "data": {
            "text/plain": [
              "[[('addition', 1),\n",
              "  ('anyone', 2),\n",
              "  ('body', 1),\n",
              "  ('bricklin', 1),\n",
              "  ('bring', 1),\n",
              "  ('call', 1),\n",
              "  ('car', 5),\n",
              "  ('could', 1),\n",
              "  ('day', 1),\n",
              "  ('door', 2),\n",
              "  ('early', 1),\n",
              "  ('engine', 1),\n",
              "  ('enlighten', 1),\n",
              "  ('front_bumper', 1),\n",
              "  ('funky', 1),\n",
              "  ('history', 1),\n",
              "  ('host', 1),\n",
              "  ('info', 1),\n",
              "  ('know', 1),\n",
              "  ('late', 1),\n",
              "  ('lerxst', 1),\n",
              "  ('line', 1),\n",
              "  ('look', 2),\n",
              "  ('mail', 1),\n",
              "  ('make', 1),\n",
              "  ('maryland_college', 1),\n",
              "  ('model', 1),\n",
              "  ('name', 1),\n",
              "  ('neighborhood', 1),\n",
              "  ('nntp_post', 1),\n",
              "  ('organization', 1),\n",
              "  ('park', 1),\n",
              "  ('production', 1),\n",
              "  ('rac_wam', 1),\n",
              "  ('really', 1),\n",
              "  ('rest', 1),\n",
              "  ('s', 1),\n",
              "  ('see', 1),\n",
              "  ('separate', 1),\n",
              "  ('small', 1),\n",
              "  ('spec', 1),\n",
              "  ('sport', 1),\n",
              "  ('tellme', 1),\n",
              "  ('thank', 1),\n",
              "  ('thing', 1),\n",
              "  ('umd', 1),\n",
              "  ('university', 1),\n",
              "  ('whatev', 1),\n",
              "  ('where', 1),\n",
              "  ('wonder', 1),\n",
              "  ('year', 1)]]"
            ]
          },
          "metadata": {
            "tags": []
          },
          "execution_count": 19
        }
      ]
    },
    {
      "metadata": {
        "id": "rRa1ihRX2n47",
        "colab_type": "code",
        "colab": {}
      },
      "cell_type": "code",
      "source": [
        "# 12. Building the Topic Model\n",
        "# We have everything required to train the LDA model. \n",
        "# In addition to the corpus and dictionary, you need to provide the number of topics (20) as well.\n",
        "\n",
        "# Apart from that, alpha and eta are hyperparameters that affect sparsity of the topics. \n",
        "# According to the Gensim docs, both defaults to 1.0/num_topics prior.\n",
        "\n",
        "# chunksize (100) is the number of documents to be used in each training chunk. \n",
        "# update_every (1) determines how often the model parameters should be updated \n",
        "# and passes is the total number of training passes (10)\n",
        "\n",
        "\n",
        "# Build LDA model\n",
        "lda_model = gensim.models.ldamodel.LdaModel(corpus=corpus,\n",
        "                                           id2word=id2word,\n",
        "                                           num_topics=20, \n",
        "                                           random_state=100,\n",
        "                                           update_every=1,\n",
        "                                           chunksize=100,\n",
        "                                           passes=10,\n",
        "                                           alpha='auto',\n",
        "                                           per_word_topics=True)"
      ],
      "execution_count": 0,
      "outputs": []
    },
    {
      "metadata": {
        "id": "sPspdaiE3Th-",
        "colab_type": "code",
        "colab": {
          "base_uri": "https://localhost:8080/",
          "height": 1360
        },
        "outputId": "5394a748-46b0-4cd6-abba-157283f119f7"
      },
      "cell_type": "code",
      "source": [
        "# 13. View the topics in LDA model\n",
        "# The above LDA model is built with 20 different topics (num_topics)\n",
        "#  where each topic is a combination of keywords and each keyword contributes\n",
        "#  a certain weightage to the topic.\n",
        "\n",
        "# You can see the keywords for each topic and the weightage(importance) of each keyword\n",
        "#  using lda_model.print_topics() as shown next.\n",
        "\n",
        "# Print the Keyword in the 10 topics\n",
        "pprint(lda_model.print_topics())\n",
        "doc_lda = lda_model[corpus]"
      ],
      "execution_count": 21,
      "outputs": [
        {
          "output_type": "stream",
          "text": [
            "[(0,\n",
            "  '0.034*\"_\" + 0.029*\"blue\" + 0.021*\"tank\" + 0.014*\"cubs_suck\" + 0.012*\"eg\" + '\n",
            "  '0.012*\"gas\" + 0.011*\"hi\" + 0.007*\"henry_spencer\" + 0.007*\"cigarette\" + '\n",
            "  '0.006*\"xlib\"'),\n",
            " (1,\n",
            "  '0.020*\"value\" + 0.020*\"bus\" + 0.019*\"specifically\" + 0.015*\"function\" + '\n",
            "  '0.015*\"associate\" + 0.013*\"motorcycle\" + 0.011*\"properly\" + 0.010*\"code\" + '\n",
            "  '0.008*\"confuse\" + 0.008*\"error\"'),\n",
            " (2,\n",
            "  '0.023*\"window\" + 0.020*\"card\" + 0.017*\"file\" + 0.014*\"drive\" + 0.013*\"use\" '\n",
            "  '+ 0.013*\"system\" + 0.011*\"problem\" + 0.010*\"run\" + 0.009*\"color\" + '\n",
            "  '0.009*\"do\"'),\n",
            " (3,\n",
            "  '0.035*\"game\" + 0.033*\"team\" + 0.019*\"player\" + 0.017*\"play\" + 0.017*\"win\" + '\n",
            "  '0.016*\"hockey\" + 0.013*\"season\" + 0.011*\"contact\" + 0.011*\"year\" + '\n",
            "  '0.010*\"nhl\"'),\n",
            " (4,\n",
            "  '0.026*\"wire\" + 0.017*\"circuit\" + 0.015*\"faq\" + 0.015*\"connect\" + '\n",
            "  '0.013*\"wiring\" + 0.013*\"voice\" + 0.013*\"cover\" + 0.011*\"outlet\" + '\n",
            "  '0.011*\"neutral\" + 0.010*\"conference\"'),\n",
            " (5,\n",
            "  '0.030*\"government\" + 0.024*\"gun\" + 0.022*\"law\" + 0.017*\"state\" + '\n",
            "  '0.015*\"right\" + 0.013*\"public\" + 0.012*\"protect\" + 0.011*\"american\" + '\n",
            "  '0.010*\"police\" + 0.010*\"criminal\"'),\n",
            " (6,\n",
            "  '0.074*\"max\" + 0.018*\"cost\" + 0.015*\"price\" + 0.014*\"year\" + 0.012*\"sale\" + '\n",
            "  '0.011*\"sell\" + 0.010*\"obvious\" + 0.009*\"pay\" + 0.007*\"canada\" + '\n",
            "  '0.007*\"total\"'),\n",
            " (7,\n",
            "  '0.047*\"line\" + 0.042*\"organization\" + 0.031*\"write\" + 0.026*\"article\" + '\n",
            "  '0.019*\"would\" + 0.018*\"university\" + 0.017*\"nntp_post\" + 0.015*\"host\" + '\n",
            "  '0.015*\"not\" + 0.014*\"get\"'),\n",
            " (8,\n",
            "  '0.019*\"science\" + 0.014*\"computer_science\" + 0.012*\"prove\" + '\n",
            "  '0.011*\"homeopathy\" + 0.010*\"review\" + 0.010*\"development\" + 0.010*\"object\" '\n",
            "  '+ 0.010*\"univ\" + 0.010*\"text\" + 0.010*\"gordon_bank\"'),\n",
            " (9,\n",
            "  '0.039*\"space\" + 0.011*\"power\" + 0.009*\"launch\" + 0.008*\"ground\" + '\n",
            "  '0.008*\"switch\" + 0.008*\"build\" + 0.007*\"project\" + 0.007*\"high\" + '\n",
            "  '0.007*\"radio\" + 0.007*\"mon\"'),\n",
            " (10,\n",
            "  '0.815*\"ax\" + 0.003*\"nyi\" + 0.003*\"stl\" + 0.003*\"buffalo\" + 0.002*\"pool\" + '\n",
            "  '0.002*\"brian_kendig\" + 0.002*\"sunday\" + 0.002*\"finland\" + 0.002*\"espn\" + '\n",
            "  '0.002*\"lemieux\"'),\n",
            " (11,\n",
            "  '0.040*\"armenian\" + 0.013*\"league\" + 0.011*\"turk\" + 0.011*\"turkish\" + '\n",
            "  '0.011*\"greek\" + 0.011*\"baseball\" + 0.010*\"serdar_argic\" + 0.007*\"road\" + '\n",
            "  '0.006*\"cal\" + 0.006*\"hug\"'),\n",
            " (12,\n",
            "  '0.011*\"national\" + 0.009*\"center\" + 0.009*\"year\" + 0.009*\"april\" + '\n",
            "  '0.009*\"study\" + 0.007*\"george\" + 0.007*\"research\" + 0.006*\"march\" + '\n",
            "  '0.006*\"mission\" + 0.006*\"student\"'),\n",
            " (13,\n",
            "  '0.011*\"may\" + 0.010*\"would\" + 0.009*\"make\" + 0.007*\"people\" + '\n",
            "  '0.007*\"question\" + 0.007*\"also\" + 0.007*\"many\" + 0.007*\"point\" + '\n",
            "  '0.007*\"mean\" + 0.006*\"must\"'),\n",
            " (14,\n",
            "  '0.015*\"israel\" + 0.012*\"israeli\" + 0.009*\"attack\" + 0.009*\"kill\" + '\n",
            "  '0.009*\"military\" + 0.008*\"hour\" + 0.008*\"land\" + 0.008*\"international\" + '\n",
            "  '0.008*\"committee\" + 0.007*\"soldier\"'),\n",
            " (15,\n",
            "  '0.020*\"mail\" + 0.017*\"information\" + 0.015*\"available\" + 0.015*\"include\" + '\n",
            "  '0.013*\"send\" + 0.012*\"program\" + 0.011*\"list\" + 0.010*\"ca\" + 0.010*\"also\" + '\n",
            "  '0.010*\"internet\"'),\n",
            " (16,\n",
            "  '0.029*\"key\" + 0.022*\"chip\" + 0.014*\"use\" + 0.013*\"system\" + 0.011*\"phone\" + '\n",
            "  '0.010*\"encryption\" + 0.010*\"bit\" + 0.010*\"technology\" + 0.009*\"wiretap\" + '\n",
            "  '0.009*\"device\"'),\n",
            " (17,\n",
            "  '0.025*\"christian\" + 0.023*\"god\" + 0.012*\"man\" + 0.011*\"life\" + '\n",
            "  '0.011*\"religion\" + 0.010*\"bible\" + 0.009*\"believe\" + 0.008*\"law\" + '\n",
            "  '0.008*\"belief\" + 0.008*\"love\"'),\n",
            " (18,\n",
            "  '0.051*\"not\" + 0.032*\"do\" + 0.022*\"say\" + 0.021*\"go\" + 0.019*\"would\" + '\n",
            "  '0.018*\"be\" + 0.015*\"think\" + 0.014*\"know\" + 0.014*\"s\" + 0.013*\"people\"'),\n",
            " (19,\n",
            "  '0.017*\"light\" + 0.015*\"rise\" + 0.015*\"paul\" + 0.012*\"fire\" + 0.011*\"edge\" + '\n",
            "  '0.010*\"building\" + 0.009*\"water\" + 0.009*\"teach\" + 0.008*\"mother\" + '\n",
            "  '0.008*\"girl\"')]\n"
          ],
          "name": "stdout"
        }
      ]
    },
    {
      "metadata": {
        "id": "BPunmxrB4WZ8",
        "colab_type": "code",
        "colab": {}
      },
      "cell_type": "code",
      "source": [
        "# Topic 0 is a represented as _0.016“car” + 0.014“power” + 0.010“light” + 0.009“drive” + 0.007“mount” + 0.007“controller” + 0.007“cool” + 0.007“engine” + 0.007“back” + ‘0.006“turn”.\n",
        "\n",
        "# it means the top 10 keywords that contribute to this topic are: ‘car’, ‘power’, ‘light’..\n",
        "#  and so on and the weight of ‘car’ on topic 0 is 0.016.\n",
        "\n",
        "# The weights reflect how important a keyword is to that topic.\n",
        "\n",
        "# ooking at these keywords, can you guess what this topic could be? \n",
        "# You may summarise it either are ‘cars’ or ‘automobiles’."
      ],
      "execution_count": 0,
      "outputs": []
    },
    {
      "metadata": {
        "id": "JrZyoWYd4Yaj",
        "colab_type": "text"
      },
      "cell_type": "markdown",
      "source": [
        "![topics and keywords](https://www.machinelearningplus.com/wp-content/uploads/2018/03/Inferring-Topic-from-Keywords-1024x666.png)"
      ]
    },
    {
      "metadata": {
        "id": "-ZSMemik4gCJ",
        "colab_type": "code",
        "colab": {
          "base_uri": "https://localhost:8080/",
          "height": 85
        },
        "outputId": "484ec630-4da2-4526-ea94-5b4236f60f9e"
      },
      "cell_type": "code",
      "source": [
        "# 14. Compute Model Perplexity and Coherence Score\n",
        "# Model perplexity and topic coherence provide a convenient measure to judge how good a given topic model is. \n",
        "#  topic coherence score, in particular, has been more helpful.\n",
        "\n",
        "# Compute Perplexity\n",
        "print('\\nPerplexity: ', lda_model.log_perplexity(corpus))  # a measure of how good the model is. lower the better.\n",
        "\n",
        "# Compute Coherence Score\n",
        "coherence_model_lda = CoherenceModel(model=lda_model, texts=data_lemmatized, dictionary=id2word, coherence='c_v')\n",
        "coherence_lda = coherence_model_lda.get_coherence()\n",
        "print('\\nCoherence Score: ', coherence_lda)"
      ],
      "execution_count": 22,
      "outputs": [
        {
          "output_type": "stream",
          "text": [
            "\n",
            "Perplexity:  -8.754093392200653\n",
            "\n",
            "Coherence Score:  0.515758393754623\n"
          ],
          "name": "stdout"
        }
      ]
    },
    {
      "metadata": {
        "id": "_n44SYSh4wgJ",
        "colab_type": "code",
        "colab": {
          "base_uri": "https://localhost:8080/",
          "height": 915
        },
        "outputId": "56d756f4-0ca3-4eb6-bba1-a1bba4c948b3"
      },
      "cell_type": "code",
      "source": [
        "# 15. Visualize the topics-keywords\n",
        "# Visualize the topics\n",
        "pyLDAvis.enable_notebook()\n",
        "vis = pyLDAvis.gensim.prepare(lda_model, corpus, id2word)\n",
        "vis"
      ],
      "execution_count": 23,
      "outputs": [
        {
          "output_type": "stream",
          "text": [
            "/usr/local/lib/python3.6/dist-packages/joblib/externals/loky/process_executor.py:706: UserWarning: A worker stopped while some jobs were given to the executor. This can be caused by a too short worker timeout or by a memory leak.\n",
            "  \"timeout or by a memory leak.\", UserWarning\n"
          ],
          "name": "stderr"
        },
        {
          "output_type": "execute_result",
          "data": {
            "text/html": [
              "\n",
              "<link rel=\"stylesheet\" type=\"text/css\" href=\"https://cdn.rawgit.com/bmabey/pyLDAvis/files/ldavis.v1.0.0.css\">\n",
              "\n",
              "\n",
              "<div id=\"ldavis_el971405072015966562724926326\"></div>\n",
              "<script type=\"text/javascript\">\n",
              "\n",
              "var ldavis_el971405072015966562724926326_data = {\"mdsDat\": {\"Freq\": [16.24466896057129, 15.224102020263672, 14.581160545349121, 6.162412643432617, 5.974063873291016, 4.344125747680664, 4.177528381347656, 3.603080987930298, 3.36527419090271, 3.271726131439209, 3.2224502563476562, 2.9684536457061768, 2.7400662899017334, 2.7311534881591797, 2.2919514179229736, 2.1247215270996094, 2.0773515701293945, 1.6947007179260254, 1.679200291633606, 1.521804690361023], \"cluster\": [1, 1, 1, 1, 1, 1, 1, 1, 1, 1, 1, 1, 1, 1, 1, 1, 1, 1, 1, 1], \"topics\": [1, 2, 3, 4, 5, 6, 7, 8, 9, 10, 11, 12, 13, 14, 15, 16, 17, 18, 19, 20], \"x\": [0.33687449772785316, 0.2910456992551599, 0.32882315299100934, 0.09175088001930853, 0.05963680514721913, -0.08500557755809181, 0.06077287185294389, -0.021551989638548548, -0.02290532730261619, -0.029258734838937664, -0.06302391646905936, -0.06288225981129661, -0.08888376747791103, -0.04774915788695619, -0.11145037462394203, -0.113690925332655, -0.09243775936119245, -0.1342028542328081, -0.1642227829961716, -0.13163847946330706], \"y\": [0.0011895423290301, 0.0032401729029557093, 0.12812451897296512, -0.226489577765392, -0.22248952127820462, 0.11306426561991902, 0.18315882874275202, 0.03667557044539347, 0.02130573433668009, -0.219703553492252, 0.016651614374419373, -0.13943251850552926, 0.06264237539499565, 0.11743028496168553, -0.003697270300220813, 0.023413088228793916, 0.1104916787367114, -0.001625696356160402, 0.02800947377674625, -0.031959011125288886]}, \"tinfo\": {\"Category\": [\"Default\", \"Default\", \"Default\", \"Default\", \"Default\", \"Default\", \"Default\", \"Default\", \"Default\", \"Default\", \"Default\", \"Default\", \"Default\", \"Default\", \"Default\", \"Default\", \"Default\", \"Default\", \"Default\", \"Default\", \"Default\", \"Default\", \"Default\", \"Default\", \"Default\", \"Default\", \"Default\", \"Default\", \"Default\", \"Default\", \"Topic1\", \"Topic1\", \"Topic1\", \"Topic1\", \"Topic1\", \"Topic1\", \"Topic1\", \"Topic1\", \"Topic1\", \"Topic1\", \"Topic1\", \"Topic1\", \"Topic1\", \"Topic1\", \"Topic1\", \"Topic1\", \"Topic1\", \"Topic1\", \"Topic1\", \"Topic1\", \"Topic1\", \"Topic1\", \"Topic1\", \"Topic1\", \"Topic1\", \"Topic1\", \"Topic1\", \"Topic1\", \"Topic1\", \"Topic1\", \"Topic1\", \"Topic1\", \"Topic1\", \"Topic1\", \"Topic1\", \"Topic1\", \"Topic1\", \"Topic1\", \"Topic1\", \"Topic1\", \"Topic1\", \"Topic1\", \"Topic1\", \"Topic1\", \"Topic1\", \"Topic1\", \"Topic1\", \"Topic1\", \"Topic1\", \"Topic1\", \"Topic1\", \"Topic1\", \"Topic1\", \"Topic1\", \"Topic1\", \"Topic1\", \"Topic1\", \"Topic1\", \"Topic1\", \"Topic1\", \"Topic1\", \"Topic1\", \"Topic1\", \"Topic1\", \"Topic1\", \"Topic2\", \"Topic2\", \"Topic2\", \"Topic2\", \"Topic2\", \"Topic2\", \"Topic2\", \"Topic2\", \"Topic2\", \"Topic2\", \"Topic2\", \"Topic2\", \"Topic2\", \"Topic2\", \"Topic2\", \"Topic2\", \"Topic2\", \"Topic2\", \"Topic2\", \"Topic2\", \"Topic2\", \"Topic2\", \"Topic2\", \"Topic2\", \"Topic2\", \"Topic2\", \"Topic2\", \"Topic2\", \"Topic2\", \"Topic2\", \"Topic2\", \"Topic2\", \"Topic2\", \"Topic2\", \"Topic2\", \"Topic2\", \"Topic2\", \"Topic2\", \"Topic2\", \"Topic2\", \"Topic2\", \"Topic2\", \"Topic2\", \"Topic2\", \"Topic2\", \"Topic2\", \"Topic2\", \"Topic2\", \"Topic2\", \"Topic2\", \"Topic2\", \"Topic2\", \"Topic2\", \"Topic2\", \"Topic2\", \"Topic2\", \"Topic2\", \"Topic2\", \"Topic2\", \"Topic2\", \"Topic2\", \"Topic2\", \"Topic2\", \"Topic2\", \"Topic2\", \"Topic2\", \"Topic2\", \"Topic2\", \"Topic2\", \"Topic2\", \"Topic2\", \"Topic2\", \"Topic2\", \"Topic2\", \"Topic2\", \"Topic3\", \"Topic3\", \"Topic3\", \"Topic3\", \"Topic3\", \"Topic3\", \"Topic3\", \"Topic3\", \"Topic3\", \"Topic3\", \"Topic3\", \"Topic3\", \"Topic3\", \"Topic3\", \"Topic3\", \"Topic3\", \"Topic3\", \"Topic3\", \"Topic3\", \"Topic3\", \"Topic3\", \"Topic3\", \"Topic3\", \"Topic3\", \"Topic3\", \"Topic3\", \"Topic3\", \"Topic3\", \"Topic3\", \"Topic3\", \"Topic3\", \"Topic3\", \"Topic3\", \"Topic3\", \"Topic3\", \"Topic3\", \"Topic3\", \"Topic3\", \"Topic3\", \"Topic3\", \"Topic3\", \"Topic3\", \"Topic3\", \"Topic3\", \"Topic3\", \"Topic3\", \"Topic3\", \"Topic3\", \"Topic3\", \"Topic3\", \"Topic3\", \"Topic3\", \"Topic3\", \"Topic3\", \"Topic3\", \"Topic3\", \"Topic3\", \"Topic3\", \"Topic3\", \"Topic3\", \"Topic3\", \"Topic3\", \"Topic3\", \"Topic3\", \"Topic3\", \"Topic3\", \"Topic3\", \"Topic3\", \"Topic3\", \"Topic3\", \"Topic3\", \"Topic4\", \"Topic4\", \"Topic4\", \"Topic4\", \"Topic4\", \"Topic4\", \"Topic4\", \"Topic4\", \"Topic4\", \"Topic4\", \"Topic4\", \"Topic4\", \"Topic4\", \"Topic4\", \"Topic4\", \"Topic4\", \"Topic4\", \"Topic4\", \"Topic4\", \"Topic4\", \"Topic4\", \"Topic4\", \"Topic4\", \"Topic4\", \"Topic4\", \"Topic4\", \"Topic4\", \"Topic4\", \"Topic4\", \"Topic4\", \"Topic4\", \"Topic4\", \"Topic4\", \"Topic4\", \"Topic4\", \"Topic4\", \"Topic4\", \"Topic4\", \"Topic4\", \"Topic4\", \"Topic4\", \"Topic4\", \"Topic4\", \"Topic4\", \"Topic4\", \"Topic4\", \"Topic4\", \"Topic4\", \"Topic4\", \"Topic4\", \"Topic4\", \"Topic5\", \"Topic5\", \"Topic5\", \"Topic5\", \"Topic5\", \"Topic5\", \"Topic5\", \"Topic5\", \"Topic5\", \"Topic5\", \"Topic5\", \"Topic5\", \"Topic5\", \"Topic5\", \"Topic5\", \"Topic5\", \"Topic5\", \"Topic5\", \"Topic5\", \"Topic5\", \"Topic5\", \"Topic5\", \"Topic5\", \"Topic5\", \"Topic5\", \"Topic5\", \"Topic5\", \"Topic5\", \"Topic5\", \"Topic5\", \"Topic5\", \"Topic5\", \"Topic5\", \"Topic5\", \"Topic5\", \"Topic5\", \"Topic5\", \"Topic5\", \"Topic5\", \"Topic5\", \"Topic5\", \"Topic5\", \"Topic5\", \"Topic5\", \"Topic5\", \"Topic5\", \"Topic5\", \"Topic5\", \"Topic5\", \"Topic5\", \"Topic5\", \"Topic5\", \"Topic5\", \"Topic5\", \"Topic5\", \"Topic6\", \"Topic6\", \"Topic6\", \"Topic6\", \"Topic6\", \"Topic6\", \"Topic6\", \"Topic6\", \"Topic6\", \"Topic6\", \"Topic6\", \"Topic6\", \"Topic6\", \"Topic6\", \"Topic6\", \"Topic6\", \"Topic6\", \"Topic6\", \"Topic6\", \"Topic6\", \"Topic6\", \"Topic6\", \"Topic6\", \"Topic6\", \"Topic6\", \"Topic6\", \"Topic6\", \"Topic6\", \"Topic6\", \"Topic6\", \"Topic7\", \"Topic7\", \"Topic7\", \"Topic7\", \"Topic7\", \"Topic7\", \"Topic7\", \"Topic7\", \"Topic7\", \"Topic7\", \"Topic7\", \"Topic7\", \"Topic7\", \"Topic7\", \"Topic7\", \"Topic7\", \"Topic7\", \"Topic7\", \"Topic7\", \"Topic7\", \"Topic7\", \"Topic7\", \"Topic7\", \"Topic7\", \"Topic7\", \"Topic7\", \"Topic7\", \"Topic7\", \"Topic7\", \"Topic7\", \"Topic7\", \"Topic7\", \"Topic7\", \"Topic7\", \"Topic7\", \"Topic7\", \"Topic7\", \"Topic7\", \"Topic7\", \"Topic7\", \"Topic7\", \"Topic7\", \"Topic7\", \"Topic7\", \"Topic7\", \"Topic7\", \"Topic8\", \"Topic8\", \"Topic8\", \"Topic8\", \"Topic8\", \"Topic8\", \"Topic8\", \"Topic8\", \"Topic8\", \"Topic8\", \"Topic8\", \"Topic8\", \"Topic8\", \"Topic8\", \"Topic8\", \"Topic8\", \"Topic8\", \"Topic8\", \"Topic8\", \"Topic8\", \"Topic8\", \"Topic8\", \"Topic8\", \"Topic8\", \"Topic8\", \"Topic8\", \"Topic8\", \"Topic8\", \"Topic8\", \"Topic8\", \"Topic8\", \"Topic8\", \"Topic8\", \"Topic8\", \"Topic8\", \"Topic8\", \"Topic8\", \"Topic8\", \"Topic8\", \"Topic8\", \"Topic8\", \"Topic8\", \"Topic8\", \"Topic8\", \"Topic8\", \"Topic8\", \"Topic8\", \"Topic8\", \"Topic8\", \"Topic9\", \"Topic9\", \"Topic9\", \"Topic9\", \"Topic9\", \"Topic9\", \"Topic9\", \"Topic9\", \"Topic9\", \"Topic9\", \"Topic9\", \"Topic9\", \"Topic9\", \"Topic9\", \"Topic9\", \"Topic9\", \"Topic9\", \"Topic9\", \"Topic9\", \"Topic9\", \"Topic9\", \"Topic9\", \"Topic9\", \"Topic9\", \"Topic9\", \"Topic9\", \"Topic9\", \"Topic9\", \"Topic9\", \"Topic9\", \"Topic9\", \"Topic9\", \"Topic9\", \"Topic9\", \"Topic9\", \"Topic9\", \"Topic9\", \"Topic9\", \"Topic9\", \"Topic9\", \"Topic9\", \"Topic9\", \"Topic9\", \"Topic9\", \"Topic9\", \"Topic9\", \"Topic10\", \"Topic10\", \"Topic10\", \"Topic10\", \"Topic10\", \"Topic10\", \"Topic10\", \"Topic10\", \"Topic10\", \"Topic10\", \"Topic10\", \"Topic10\", \"Topic10\", \"Topic10\", \"Topic10\", \"Topic10\", \"Topic10\", \"Topic10\", \"Topic10\", \"Topic10\", \"Topic10\", \"Topic10\", \"Topic10\", \"Topic10\", \"Topic10\", \"Topic10\", \"Topic10\", \"Topic10\", \"Topic10\", \"Topic10\", \"Topic10\", \"Topic10\", \"Topic10\", \"Topic10\", \"Topic10\", \"Topic10\", \"Topic10\", \"Topic10\", \"Topic10\", \"Topic10\", \"Topic10\", \"Topic10\", \"Topic10\", \"Topic10\", \"Topic10\", \"Topic10\", \"Topic10\", \"Topic11\", \"Topic11\", \"Topic11\", \"Topic11\", \"Topic11\", \"Topic11\", \"Topic11\", \"Topic11\", \"Topic11\", \"Topic11\", \"Topic11\", \"Topic11\", \"Topic11\", \"Topic11\", \"Topic11\", \"Topic11\", \"Topic11\", \"Topic11\", \"Topic11\", \"Topic11\", \"Topic11\", \"Topic11\", \"Topic11\", \"Topic11\", \"Topic11\", \"Topic11\", \"Topic11\", \"Topic11\", \"Topic11\", \"Topic11\", \"Topic11\", \"Topic11\", \"Topic11\", \"Topic11\", \"Topic11\", \"Topic11\", \"Topic11\", \"Topic11\", \"Topic11\", \"Topic11\", \"Topic11\", \"Topic11\", \"Topic11\", \"Topic11\", \"Topic11\", \"Topic11\", \"Topic11\", \"Topic11\", \"Topic11\", \"Topic11\", \"Topic11\", \"Topic11\", \"Topic12\", \"Topic12\", \"Topic12\", \"Topic12\", \"Topic12\", \"Topic12\", \"Topic12\", \"Topic12\", \"Topic12\", \"Topic12\", \"Topic12\", \"Topic12\", \"Topic12\", \"Topic12\", \"Topic12\", \"Topic12\", \"Topic12\", \"Topic12\", \"Topic12\", \"Topic12\", \"Topic12\", \"Topic12\", \"Topic12\", \"Topic12\", \"Topic12\", \"Topic12\", \"Topic12\", \"Topic12\", \"Topic12\", \"Topic12\", \"Topic12\", \"Topic12\", \"Topic12\", \"Topic12\", \"Topic12\", \"Topic12\", \"Topic12\", \"Topic12\", \"Topic12\", \"Topic12\", \"Topic12\", \"Topic12\", \"Topic12\", \"Topic12\", \"Topic12\", \"Topic12\", \"Topic12\", \"Topic13\", \"Topic13\", \"Topic13\", \"Topic13\", \"Topic13\", \"Topic13\", \"Topic13\", \"Topic13\", \"Topic13\", \"Topic13\", \"Topic13\", \"Topic13\", \"Topic13\", \"Topic13\", \"Topic13\", \"Topic13\", \"Topic13\", \"Topic13\", \"Topic13\", \"Topic13\", \"Topic13\", \"Topic13\", \"Topic13\", \"Topic13\", \"Topic13\", \"Topic13\", \"Topic13\", \"Topic13\", \"Topic13\", \"Topic13\", \"Topic13\", \"Topic13\", \"Topic13\", \"Topic13\", \"Topic13\", \"Topic13\", \"Topic13\", \"Topic13\", \"Topic13\", \"Topic13\", \"Topic13\", \"Topic13\", \"Topic13\", \"Topic13\", \"Topic13\", \"Topic13\", \"Topic13\", \"Topic13\", \"Topic13\", \"Topic14\", \"Topic14\", \"Topic14\", \"Topic14\", \"Topic14\", \"Topic14\", \"Topic14\", \"Topic14\", \"Topic14\", \"Topic14\", \"Topic14\", \"Topic14\", \"Topic14\", \"Topic14\", \"Topic14\", \"Topic14\", \"Topic14\", \"Topic14\", \"Topic14\", \"Topic14\", \"Topic14\", \"Topic14\", \"Topic14\", \"Topic14\", \"Topic14\", \"Topic14\", \"Topic14\", \"Topic14\", \"Topic14\", \"Topic14\", \"Topic14\", \"Topic14\", \"Topic14\", \"Topic14\", \"Topic14\", \"Topic14\", \"Topic14\", \"Topic14\", \"Topic14\", \"Topic14\", \"Topic14\", \"Topic14\", \"Topic15\", \"Topic15\", \"Topic15\", \"Topic15\", \"Topic15\", \"Topic15\", \"Topic15\", \"Topic15\", \"Topic15\", \"Topic15\", \"Topic15\", \"Topic15\", \"Topic15\", \"Topic15\", \"Topic15\", \"Topic15\", \"Topic15\", \"Topic15\", \"Topic15\", \"Topic15\", \"Topic15\", \"Topic15\", \"Topic15\", \"Topic15\", \"Topic15\", \"Topic15\", \"Topic15\", \"Topic15\", \"Topic15\", \"Topic15\", \"Topic15\", \"Topic15\", \"Topic15\", \"Topic15\", \"Topic15\", \"Topic15\", \"Topic15\", \"Topic15\", \"Topic15\", \"Topic15\", \"Topic15\", \"Topic15\", \"Topic16\", \"Topic16\", \"Topic16\", \"Topic16\", \"Topic16\", \"Topic16\", \"Topic16\", \"Topic16\", \"Topic16\", \"Topic16\", \"Topic16\", \"Topic16\", \"Topic16\", \"Topic16\", \"Topic16\", \"Topic16\", \"Topic16\", \"Topic16\", \"Topic16\", \"Topic16\", \"Topic16\", \"Topic16\", \"Topic16\", \"Topic16\", \"Topic16\", \"Topic16\", \"Topic16\", \"Topic16\", \"Topic16\", \"Topic16\", \"Topic16\", \"Topic16\", \"Topic16\", \"Topic16\", \"Topic16\", \"Topic16\", \"Topic16\", \"Topic16\", \"Topic16\", \"Topic16\", \"Topic16\", \"Topic16\", \"Topic16\", \"Topic16\", \"Topic16\", \"Topic17\", \"Topic17\", \"Topic17\", \"Topic17\", \"Topic17\", \"Topic17\", \"Topic17\", \"Topic17\", \"Topic17\", \"Topic17\", \"Topic17\", \"Topic17\", \"Topic17\", \"Topic17\", \"Topic17\", \"Topic17\", \"Topic17\", \"Topic17\", \"Topic17\", \"Topic17\", \"Topic17\", \"Topic17\", \"Topic17\", \"Topic17\", \"Topic17\", \"Topic17\", \"Topic17\", \"Topic17\", \"Topic17\", \"Topic17\", \"Topic17\", \"Topic17\", \"Topic17\", \"Topic17\", \"Topic17\", \"Topic17\", \"Topic17\", \"Topic17\", \"Topic18\", \"Topic18\", \"Topic18\", \"Topic18\", \"Topic18\", \"Topic18\", \"Topic18\", \"Topic18\", \"Topic18\", \"Topic18\", \"Topic18\", \"Topic18\", \"Topic18\", \"Topic18\", \"Topic18\", \"Topic18\", \"Topic18\", \"Topic18\", \"Topic18\", \"Topic18\", \"Topic18\", \"Topic18\", \"Topic18\", \"Topic18\", \"Topic18\", \"Topic18\", \"Topic18\", \"Topic18\", \"Topic18\", \"Topic18\", \"Topic18\", \"Topic18\", \"Topic18\", \"Topic18\", \"Topic18\", \"Topic18\", \"Topic18\", \"Topic18\", \"Topic18\", \"Topic18\", \"Topic18\", \"Topic18\", \"Topic18\", \"Topic19\", \"Topic19\", \"Topic19\", \"Topic19\", \"Topic19\", \"Topic19\", \"Topic19\", \"Topic19\", \"Topic19\", \"Topic19\", \"Topic19\", \"Topic19\", \"Topic19\", \"Topic19\", \"Topic19\", \"Topic19\", \"Topic19\", \"Topic19\", \"Topic19\", \"Topic19\", \"Topic19\", \"Topic19\", \"Topic19\", \"Topic19\", \"Topic19\", \"Topic19\", \"Topic19\", \"Topic19\", \"Topic19\", \"Topic19\", \"Topic19\", \"Topic19\", \"Topic19\", \"Topic20\", \"Topic20\", \"Topic20\", \"Topic20\", \"Topic20\", \"Topic20\", \"Topic20\", \"Topic20\", \"Topic20\", \"Topic20\", \"Topic20\", \"Topic20\", \"Topic20\", \"Topic20\", \"Topic20\", \"Topic20\", \"Topic20\", \"Topic20\", \"Topic20\", \"Topic20\", \"Topic20\", \"Topic20\", \"Topic20\", \"Topic20\", \"Topic20\", \"Topic20\", \"Topic20\", \"Topic20\", \"Topic20\", \"Topic20\", \"Topic20\", \"Topic20\", \"Topic20\", \"Topic20\", \"Topic20\", \"Topic20\", \"Topic20\", \"Topic20\", \"Topic20\", \"Topic20\", \"Topic20\", \"Topic20\"], \"Freq\": [57084.0, 12491.0, 16291.0, 11142.0, 3843.0, 10452.0, 9655.0, 7586.0, 8046.0, 11782.0, 6905.0, 5803.0, 4407.0, 4083.0, 6852.0, 5027.0, 1863.0, 2294.0, 3735.0, 7291.0, 3461.0, 4598.0, 1540.0, 1949.0, 3006.0, 1685.0, 1746.0, 1464.0, 3380.0, 2012.0, 4406.63916015625, 2749.89501953125, 1502.680419921875, 1198.567626953125, 707.7755737304688, 632.7896728515625, 606.7774047851562, 589.28662109375, 514.6173706054688, 414.5205383300781, 404.45855712890625, 400.4327392578125, 11114.8798828125, 392.8311767578125, 380.1597595214844, 618.2486572265625, 335.0431823730469, 330.5434875488281, 316.1453857421875, 316.1573486328125, 315.2870178222656, 307.7651062011719, 306.02325439453125, 293.7784423828125, 268.8111267089844, 265.7621765136719, 263.74822998046875, 253.17227172851562, 252.9011688232422, 251.0778350830078, 12242.6640625, 4020.638916015625, 4634.73583984375, 2448.7734375, 6736.00537109375, 590.2734985351562, 8025.00732421875, 634.7271118164062, 557.013427734375, 616.6251831054688, 770.994140625, 3292.95556640625, 783.1536865234375, 3749.32373046875, 1599.4200439453125, 2091.833984375, 5047.427734375, 1907.1063232421875, 3706.4814453125, 3134.911865234375, 1571.4295654296875, 1465.3917236328125, 3966.973876953125, 1216.51025390625, 1605.8914794921875, 1443.61865234375, 1368.17041015625, 978.0362548828125, 1363.534423828125, 2124.83154296875, 1597.9122314453125, 1224.66259765625, 1355.814453125, 1425.946044921875, 1247.9844970703125, 1073.5374755859375, 683.292236328125, 567.0528564453125, 519.3026123046875, 483.4232482910156, 439.3704528808594, 408.7572937011719, 399.6918029785156, 397.98638916015625, 388.4640808105469, 377.6979064941406, 380.07940673828125, 354.9348449707031, 339.3087463378906, 315.9375, 303.7212829589844, 301.8220520019531, 297.488525390625, 294.49481201171875, 290.0838623046875, 279.6058044433594, 275.9804382324219, 275.4165344238281, 267.7497863769531, 255.53489685058594, 255.19967651367188, 251.0062255859375, 247.00181579589844, 246.03411865234375, 244.96383666992188, 466.8089599609375, 745.9815673828125, 609.4352416992188, 412.92474365234375, 1426.720703125, 403.43121337890625, 1177.822265625, 633.1014404296875, 642.4256591796875, 546.9197387695312, 1029.2803955078125, 907.728515625, 778.1278686523438, 852.8916625976562, 1183.826416015625, 1572.5494384765625, 1293.44775390625, 1450.491455078125, 984.7631225585938, 1626.3211669921875, 930.5132446289062, 1044.2318115234375, 2616.144775390625, 1679.6419677734375, 1042.9212646484375, 1765.1036376953125, 754.6886596679688, 1695.808837890625, 1077.8944091796875, 1094.46630859375, 724.8775024414062, 2088.64453125, 966.7163696289062, 1701.54736328125, 1769.13427734375, 1007.5910034179688, 1424.2840576171875, 2338.215087890625, 1223.9110107421875, 1047.2772216796875, 1024.356201171875, 1268.390869140625, 1323.2652587890625, 1031.1600341796875, 993.1171875, 985.542724609375, 759.0675048828125, 679.8819580078125, 621.2633056640625, 562.1648559570312, 491.72430419921875, 456.67431640625, 325.8985290527344, 315.56475830078125, 312.17010498046875, 312.0987854003906, 311.8370666503906, 311.5604248046875, 278.4236755371094, 264.8436279296875, 264.24456787109375, 262.6556396484375, 260.6408996582031, 242.009765625, 226.98590087890625, 224.08779907226562, 216.58885192871094, 210.18972778320312, 208.8779296875, 193.8681182861328, 193.02496337890625, 188.8940887451172, 175.89248657226562, 173.0416717529297, 171.19895935058594, 1252.9835205078125, 806.2108764648438, 306.3554382324219, 3324.765625, 4887.2060546875, 335.1465759277344, 322.2008361816406, 1008.9213256835938, 792.3018798828125, 11923.0263671875, 697.1766357421875, 5182.8564453125, 7447.0859375, 2045.657470703125, 449.60003662109375, 1064.6912841796875, 1479.63623046875, 2488.20458984375, 1337.2562255859375, 3561.16064453125, 1744.7681884765625, 2381.17724609375, 1443.645751953125, 484.3426513671875, 3011.649169921875, 4339.5390625, 1967.7098388671875, 2498.013916015625, 3358.2236328125, 4369.25244140625, 1919.2425537109375, 2427.219482421875, 2628.258544921875, 1767.1544189453125, 1547.3782958984375, 2171.719970703125, 1619.213623046875, 1461.497802734375, 1476.725341796875, 1321.0618896484375, 1504.9306640625, 2293.286376953125, 862.0225219726562, 823.8846435546875, 682.24072265625, 671.1804809570312, 657.4926147460938, 595.4828491210938, 593.7005004882812, 576.57421875, 528.5452880859375, 497.87396240234375, 496.43096923828125, 457.6112976074219, 426.62420654296875, 393.3221130371094, 382.28521728515625, 378.001953125, 368.772216796875, 359.6212158203125, 355.7535095214844, 339.7739562988281, 334.4871520996094, 329.0401306152344, 320.4448547363281, 313.0462341308594, 310.129638671875, 309.5830383300781, 298.0466613769531, 286.2350769042969, 271.4362487792969, 1951.297119140625, 1704.157470703125, 764.5450439453125, 557.1456298828125, 467.9905090332031, 579.2350463867188, 757.3338623046875, 1394.3211669921875, 1286.830322265625, 1032.362548828125, 1071.0037841796875, 1316.9522705078125, 706.4711303710938, 583.328857421875, 577.1119995117188, 777.5039672851562, 578.1576538085938, 848.004150390625, 562.601318359375, 516.4306640625, 524.5934448242188, 1948.0855712890625, 923.374755859375, 874.1445922851562, 761.513427734375, 719.0700073242188, 635.0906372070312, 593.1824340820312, 538.4700317382812, 468.7376708984375, 406.019775390625, 396.3407897949219, 384.48297119140625, 359.1026306152344, 355.542236328125, 349.6934814453125, 348.541015625, 314.4362487792969, 312.5155944824219, 301.27001953125, 282.7726135253906, 255.3567352294922, 250.29861450195312, 230.37872314453125, 226.33453369140625, 221.11769104003906, 217.9158477783203, 207.9857635498047, 204.6905059814453, 204.2412872314453, 195.592529296875, 448.0445251464844, 1466.28955078125, 991.5618896484375, 1084.226806640625, 1216.962158203125, 1419.33642578125, 1598.3704833984375, 610.2720336914062, 580.56787109375, 825.4822998046875, 1152.3668212890625, 777.134521484375, 669.0343017578125, 892.2197875976562, 802.5090942382812, 652.776123046875, 591.9346313476562, 599.883544921875, 508.6331481933594, 607.3272094726562, 926.9265747070312, 698.2825927734375, 677.1324462890625, 626.1724853515625, 631.4264526367188, 57083.4296875, 238.1309051513672, 227.25515747070312, 209.4839324951172, 172.6689453125, 164.61431884765625, 153.58407592773438, 148.92079162597656, 134.43394470214844, 133.55165100097656, 128.19937133789062, 124.61177062988281, 116.84623718261719, 108.8897705078125, 98.87089538574219, 97.91197967529297, 91.44403076171875, 86.70885467529297, 84.8616943359375, 84.4333267211914, 79.09982299804688, 77.21488952636719, 69.8266372680664, 64.73164367675781, 60.789310455322266, 60.76791763305664, 60.60334777832031, 60.5731315612793, 59.645912170410156, 58.14649200439453, 1684.054931640625, 1576.8641357421875, 713.1705932617188, 640.770751953125, 542.505126953125, 506.4199523925781, 489.39825439453125, 482.2505798339844, 450.7329406738281, 392.859375, 376.4837341308594, 343.4456787109375, 321.3902587890625, 291.3885192871094, 290.0958557128906, 256.2948303222656, 251.55873107910156, 244.3618927001953, 237.14712524414062, 236.9757537841797, 231.08384704589844, 230.40769958496094, 220.05859375, 209.4334259033203, 203.7174530029297, 198.1385498046875, 194.24566650390625, 191.13345336914062, 190.4349365234375, 187.38671875, 508.7187194824219, 840.223876953125, 533.9351196289062, 533.9642944335938, 733.7979125976562, 251.3498992919922, 552.068603515625, 608.8745727539062, 417.4819641113281, 431.73724365234375, 346.2978210449219, 301.8262023925781, 448.0335998535156, 271.8155822753906, 290.3303527832031, 258.2485656738281, 356.1677551269531, 349.4706115722656, 320.41925048828125, 314.4317626953125, 310.671142578125, 310.2091369628906, 303.1773986816406, 296.37176513671875, 289.8753356933594, 258.284423828125, 255.7283935546875, 254.4652862548828, 248.2406463623047, 231.98594665527344, 228.49510192871094, 220.1920928955078, 217.3274383544922, 214.75563049316406, 198.21115112304688, 192.19921875, 191.9355010986328, 187.31292724609375, 182.3719940185547, 173.0935516357422, 169.73223876953125, 147.17564392089844, 145.7808837890625, 145.65740966796875, 144.01681518554688, 142.91188049316406, 429.6502990722656, 296.0711364746094, 285.2115783691406, 515.4324951171875, 280.8997497558594, 638.4714965820312, 496.6053161621094, 330.6897888183594, 550.7281494140625, 400.3929748535156, 221.53060913085938, 268.2567443847656, 517.08251953125, 329.2655029296875, 284.5549011230469, 315.7677917480469, 321.0480651855469, 244.8979034423828, 256.2616882324219, 1314.4796142578125, 633.8403930664062, 566.6309204101562, 549.020751953125, 426.42303466796875, 414.0105895996094, 399.7445983886719, 367.6191711425781, 365.8670959472656, 365.7156677246094, 300.70281982421875, 260.7024230957031, 245.60992431640625, 243.90542602539062, 232.839599609375, 227.66632080078125, 220.19200134277344, 203.744140625, 192.41285705566406, 178.61297607421875, 173.37718200683594, 172.5311279296875, 157.96774291992188, 156.93429565429688, 154.9478759765625, 140.66958618164062, 135.99996948242188, 134.87330627441406, 134.34048461914062, 126.97599792480469, 1613.62109375, 295.2030334472656, 251.76805114746094, 200.7150115966797, 697.2559204101562, 1184.342041015625, 307.212890625, 570.0864868164062, 941.813720703125, 811.3295288085938, 267.880126953125, 280.1897277832031, 249.97262573242188, 298.2030334472656, 232.07772827148438, 230.11495971679688, 1505.336181640625, 1181.4595947265625, 546.7884521484375, 495.6622314453125, 447.6967468261719, 430.5592041015625, 388.6214294433594, 353.13763427734375, 319.937744140625, 289.90338134765625, 279.1156311035156, 272.6053161621094, 270.693359375, 270.33245849609375, 239.28533935546875, 228.59690856933594, 225.9849853515625, 218.48468017578125, 214.7344970703125, 214.37278747558594, 200.7082977294922, 195.74168395996094, 190.9978485107422, 189.01974487304688, 186.72079467773438, 184.56771850585938, 176.2704315185547, 173.0926055908203, 170.35276794433594, 169.1629638671875, 296.0526123046875, 349.8996276855469, 568.6329956054688, 476.9801025390625, 311.0883483886719, 266.6277160644531, 518.1556396484375, 526.6820068359375, 667.2583618164062, 730.8504638671875, 389.8798828125, 240.07241821289062, 303.0914611816406, 345.59600830078125, 260.8795471191406, 334.3381042480469, 329.20745849609375, 3842.97607421875, 533.055419921875, 352.2425842285156, 308.8087158203125, 289.1571960449219, 288.0804748535156, 271.050537109375, 266.7433776855469, 231.54690551757812, 222.00030517578125, 215.88710021972656, 213.9031524658203, 191.9320831298828, 191.59130859375, 188.41941833496094, 188.07821655273438, 178.8013153076172, 176.2376708984375, 173.98794555664062, 171.211669921875, 168.22666931152344, 166.09959411621094, 158.994384765625, 157.35440063476562, 156.7990264892578, 154.25486755371094, 152.68638610839844, 150.8878173828125, 148.79791259765625, 148.31192016601562, 158.089599609375, 290.4327392578125, 926.0518188476562, 191.79925537109375, 275.55865478515625, 772.0964965820312, 550.8300170898438, 215.73867797851562, 241.45974731445312, 637.4780883789062, 360.5229187011719, 300.46966552734375, 368.67462158203125, 299.57525634765625, 326.5724792480469, 447.9574279785156, 726.5077514648438, 260.3017272949219, 252.6720733642578, 293.9677734375, 255.9328155517578, 240.10406494140625, 1862.108642578125, 429.9143371582031, 391.6678771972656, 322.69183349609375, 313.0263366699219, 285.1479187011719, 279.5403137207031, 274.8949890136719, 270.8057861328125, 254.6610107421875, 238.53750610351562, 233.72056579589844, 208.55264282226562, 207.48448181152344, 202.6200714111328, 200.72264099121094, 199.99185180664062, 199.1118621826172, 171.79653930664062, 170.3919219970703, 168.56076049804688, 163.06646728515625, 152.24496459960938, 151.81948852539062, 144.82894897460938, 140.02281188964844, 134.88438415527344, 130.81056213378906, 128.05662536621094, 126.15937042236328, 234.17442321777344, 406.50274658203125, 354.8223876953125, 177.28334045410156, 225.329345703125, 528.3391723632812, 271.0281677246094, 387.7251281738281, 329.31573486328125, 209.72398376464844, 250.97500610351562, 232.481201171875, 260.34429931640625, 229.34750366210938, 270.50396728515625, 211.64761352539062, 203.87705993652344, 669.4708251953125, 516.6190795898438, 344.1081237792969, 309.40203857421875, 293.5516357421875, 223.45860290527344, 218.76454162597656, 218.30409240722656, 260.4910888671875, 212.01211547851562, 179.74246215820312, 173.70059204101562, 172.70657348632812, 166.99093627929688, 163.46951293945312, 161.93194580078125, 159.72850036621094, 158.58688354492188, 148.2330780029297, 145.77821350097656, 145.35511779785156, 142.195556640625, 140.82217407226562, 137.57711791992188, 135.4590301513672, 135.1705780029297, 126.84669494628906, 114.94514465332031, 113.30777740478516, 112.87604522705078, 205.72036743164062, 142.1298828125, 342.4397277832031, 419.71441650390625, 376.0577087402344, 357.320556640625, 212.41616821289062, 362.016845703125, 221.9477081298828, 394.7725524902344, 252.1637725830078, 263.3389892578125, 267.7326354980469, 199.10556030273438, 165.87705993652344, 169.5933074951172, 174.1888427734375, 168.33926391601562, 168.22801208496094, 1539.362060546875, 1463.4678955078125, 837.0416259765625, 685.0982666015625, 567.979248046875, 499.1636657714844, 454.9030456542969, 387.83892822265625, 375.62347412109375, 364.6924133300781, 280.2025146484375, 259.6228332519531, 224.1004180908203, 218.3627166748047, 217.54356384277344, 212.79302978515625, 210.75205993652344, 206.85107421875, 201.36331176757812, 186.0257110595703, 173.54977416992188, 173.2382354736328, 172.70584106445312, 170.80941772460938, 168.60055541992188, 163.6576385498047, 160.3640899658203, 155.6243133544922, 154.93011474609375, 154.8970947265625, 290.7232360839844, 766.0020141601562, 751.7945556640625, 197.9022674560547, 259.7152099609375, 246.746337890625, 484.796630859375, 217.14736938476562, 235.4080352783203, 188.11068725585938, 221.44830322265625, 192.6842041015625, 528.7554321289062, 424.0356750488281, 387.8911437988281, 381.3996887207031, 373.04345703125, 360.52178955078125, 355.8337097167969, 308.6104431152344, 267.13720703125, 231.65940856933594, 227.55563354492188, 224.2046661376953, 217.60067749023438, 216.511474609375, 211.4654083251953, 208.76805114746094, 206.1545867919922, 192.5874786376953, 180.29058837890625, 173.6523895263672, 172.07086181640625, 167.18911743164062, 159.9929656982422, 159.47621154785156, 157.96380615234375, 156.32566833496094, 155.44076538085938, 152.84991455078125, 152.75978088378906, 152.12164306640625, 367.9386901855469, 718.5347290039062, 447.9444885253906, 365.4585266113281, 195.50747680664062, 180.9721221923828, 229.23239135742188, 238.3861541748047, 263.3567199707031, 251.83587646484375, 231.0153045654297, 188.60548400878906, 514.0779418945312, 508.7078857421875, 374.24835205078125, 305.1901550292969, 297.94134521484375, 282.6365661621094, 280.0467224121094, 259.0936279296875, 231.05599975585938, 227.81893920898438, 224.4272918701172, 210.5568389892578, 197.4546356201172, 176.2671356201172, 175.82984924316406, 155.51153564453125, 145.00234985351562, 144.1524658203125, 126.05958557128906, 120.68199157714844, 120.30802154541016, 113.75044250488281, 112.2312240600586, 111.9203872680664, 111.74051666259766, 108.6324462890625, 106.83354949951172, 106.15247344970703, 103.24050903320312, 103.10231018066406, 252.10693359375, 598.1455688476562, 195.9890899658203, 347.8393249511719, 184.9419403076172, 222.67848205566406, 230.86013793945312, 161.9740447998047, 420.41949462890625, 197.58558654785156, 265.1873474121094, 189.23338317871094, 157.54551696777344, 152.07386779785156, 166.5569305419922, 1340.8514404296875, 432.02593994140625, 380.5919189453125, 377.1332702636719, 355.19708251953125, 330.7062072753906, 217.3490447998047, 215.49940490722656, 210.69163513183594, 209.61643981933594, 207.52813720703125, 201.73867797851562, 198.88775634765625, 194.37289428710938, 190.33624267578125, 171.6307830810547, 170.88101196289062, 148.68569946289062, 148.04306030273438, 142.75518798828125, 138.01446533203125, 129.77487182617188, 129.1321563720703, 127.20335388183594, 122.98873138427734, 120.01730346679688, 118.36666870117188, 118.08057403564453, 111.41803741455078, 109.09600067138672, 150.7183380126953, 363.0389404296875, 170.97825622558594, 226.02719116210938, 135.32269287109375, 130.99520874023438, 135.90415954589844, 131.2313690185547, 719.9461059570312, 464.3321533203125, 405.07867431640625, 363.6665344238281, 360.1205749511719, 299.98736572265625, 291.4710388183594, 280.63006591796875, 213.54896545410156, 190.53382873535156, 190.19174194335938, 184.00181579589844, 154.4532012939453, 145.43251037597656, 144.45745849609375, 144.1743927001953, 140.74334716796875, 128.89212036132812, 128.72010803222656, 123.61971282958984, 121.43973541259766, 120.30049896240234, 113.4093017578125, 106.87627410888672, 102.71810913085938, 102.13640594482422, 100.7408447265625, 94.90408325195312, 90.0897216796875, 87.19033813476562, 416.11572265625, 140.6466522216797, 191.8947296142578, 349.1310119628906, 114.77794647216797, 142.72909545898438, 154.82394409179688, 127.92930603027344, 212.54283142089844, 216.3363494873047, 156.10218811035156, 168.1728973388672, 141.2189178466797, 916.0838623046875, 791.2333374023438, 568.980224609375, 324.865478515625, 324.07379150390625, 299.44384765625, 192.643798828125, 180.6598663330078, 151.02239990234375, 144.9588165283203, 137.8140869140625, 130.78152465820312, 129.95065307617188, 123.31929779052734, 121.87186431884766, 120.22898864746094, 115.43080139160156, 104.50459289550781, 103.27356719970703, 96.74256896972656, 95.3780288696289, 92.30121612548828, 88.6392593383789, 82.76073455810547, 80.73438262939453, 77.77935028076172, 76.34878540039062, 75.31197357177734, 73.33634948730469, 72.95072937011719, 382.8338928222656, 77.97695922851562, 109.83452606201172, 479.450927734375, 464.2475891113281, 355.9407653808594, 315.3890380859375, 188.45297241210938, 171.79150390625, 167.1835174560547, 160.84619140625, 160.56455993652344, 159.074951171875, 144.86044311523438, 123.2453842163086, 119.37120819091797, 117.62371826171875, 113.02637481689453, 112.21701049804688, 107.55719757080078, 101.3126220703125, 97.98814392089844, 92.96275329589844, 92.56004333496094, 91.10367584228516, 88.57511138916016, 87.89794158935547, 85.06258392333984, 83.13175201416016, 80.99321746826172, 75.67118835449219, 71.42002868652344, 71.19271850585938, 261.73748779296875, 378.3510437011719, 142.24679565429688, 497.6860656738281, 247.969482421875, 184.92825317382812, 147.24368286132812, 154.6397705078125, 102.33563232421875, 104.81653594970703, 107.78520202636719, 99.08116912841797], \"Term\": [\"ax\", \"line\", \"not\", \"organization\", \"max\", \"do\", \"write\", \"article\", \"be\", \"would\", \"say\", \"go\", \"nntp_post\", \"host\", \"get\", \"university\", \"space\", \"window\", \"s\", \"know\", \"year\", \"use\", \"game\", \"mail\", \"right\", \"christian\", \"government\", \"team\", \"system\", \"card\", \"nntp_post\", \"anyone\", \"car\", \"buy\", \"bike\", \"nice\", \"memory\", \"anybody\", \"display\", \"oil\", \"chicago\", \"door\", \"organization\", \"engine\", \"air\", \"robert\", \"stick\", \"engineering\", \"insurance\", \"originator\", \"dod\", \"advice\", \"battery\", \"limit\", \"internal\", \"auto\", \"motor\", \"hole\", \"texas\", \"wall\", \"line\", \"host\", \"university\", \"reply\", \"article\", \"wonder\", \"write\", \"sound\", \"distribution_usa\", \"like\", \"distribution_world\", \"good\", \"inc\", \"get\", \"thank\", \"look\", \"would\", \"need\", \"be\", \"know\", \"much\", \"have\", \"not\", \"help\", \"want\", \"try\", \"new\", \"lot\", \"work\", \"do\", \"time\", \"problem\", \"may\", \"make\", \"could\", \"president\", \"argument\", \"statement\", \"decision\", \"jew\", \"arab\", \"clearly\", \"attempt\", \"russian\", \"genocide\", \"respect\", \"discuss\", \"context\", \"atheist\", \"punishment\", \"theory\", \"msg\", \"authority\", \"german\", \"party\", \"imply\", \"concept\", \"instance\", \"principle\", \"promise\", \"physical\", \"posting\", \"establish\", \"deity\", \"worship\", \"term\", \"rule\", \"present\", \"sense\", \"claim\", \"concern\", \"exist\", \"discussion\", \"clear\", \"thus\", \"answer\", \"view\", \"yet\", \"example\", \"true\", \"must\", \"reason\", \"fact\", \"rather\", \"mean\", \"issue\", \"however\", \"may\", \"point\", \"consider\", \"question\", \"perhaps\", \"many\", \"part\", \"world\", \"accept\", \"make\", \"word\", \"also\", \"people\", \"follow\", \"give\", \"would\", \"way\", \"read\", \"group\", \"say\", \"write\", \"see\", \"time\", \"mr_stephanopoulo\", \"kid\", \"hell\", \"job\", \"drug\", \"stand\", \"matthew\", \"peace\", \"health\", \"doctor\", \"should\", \"imagine\", \"hate\", \"somewhere\", \"stay\", \"firearm\", \"trial\", \"hurt\", \"neighbor\", \"weekend\", \"stupid\", \"davidian\", \"laugh\", \"coverage\", \"last_night\", \"complain\", \"ohio\", \"statistic\", \"economic\", \"newsletter\", \"happen\", \"face\", \"forget\", \"s\", \"go\", \"boy\", \"smith\", \"that\", \"away\", \"not\", \"money\", \"say\", \"do\", \"tell\", \"tax\", \"talk\", \"start\", \"take\", \"let\", \"think\", \"day\", \"come\", \"never\", \"young\", \"people\", \"be\", \"even\", \"see\", \"know\", \"would\", \"could\", \"time\", \"get\", \"want\", \"well\", \"make\", \"thing\", \"have\", \"year\", \"right\", \"good\", \"window\", \"color\", \"graphic\", \"machine\", \"mode\", \"format\", \"video\", \"mac\", \"peter\", \"screen\", \"hd\", \"ram\", \"pc\", \"font\", \"vlb\", \"mouse\", \"scsi\", \"port\", \"setup\", \"xfree\", \"laptop\", \"tape\", \"meg\", \"client\", \"vesa\", \"controller\", \"modem\", \"vga\", \"ide\", \"gif\", \"card\", \"file\", \"board\", \"monitor\", \"instal\", \"disk\", \"driver\", \"drive\", \"system\", \"run\", \"problem\", \"use\", \"bit\", \"standard\", \"email\", \"work\", \"set\", \"do\", \"support\", \"version\", \"help\", \"mail\", \"internet\", \"advance\", \"server\", \"access\", \"sun\", \"package\", \"newsgroup\", \"library\", \"directory\", \"corporation\", \"mit\", \"pin\", \"illinois\", \"material\", \"motif\", \"moon\", \"upgrade\", \"pub\", \"purchase\", \"genoa\", \"ftp\", \"mailing_list\", \"brave\", \"quick\", \"speaker\", \"terminal\", \"editor\", \"urbana\", \"cpu\", \"site\", \"available\", \"ca\", \"list\", \"send\", \"include\", \"information\", \"fax\", \"network\", \"source\", \"program\", \"image\", \"offer\", \"info\", \"software\", \"service\", \"application\", \"page\", \"user\", \"message\", \"also\", \"call\", \"post\", \"group\", \"new\", \"ax\", \"nyi\", \"stl\", \"buffalo\", \"pool\", \"brian_kendig\", \"sunday\", \"finland\", \"espn\", \"lemieux\", \"qax\", \"chain\", \"harry\", \"canuck\", \"tiger\", \"mormon\", \"winnipeg_jet\", \"cirrus_logic\", \"org\", \"dear\", \"anaheim\", \"pure\", \"discharge\", \"lawrence\", \"final_standing\", \"praise\", \"new_brunswick\", \"sinner\", \"married\", \"penn_state\", \"christian\", \"god\", \"religion\", \"bible\", \"belief\", \"faith\", \"king\", \"church\", \"spank\", \"normal\", \"lord\", \"father\", \"moral\", \"verse\", \"christ\", \"gay\", \"christianity\", \"scripture\", \"marriage\", \"sex\", \"pain\", \"homosexual\", \"sin\", \"zoroastrian\", \"passage\", \"animal\", \"mystery\", \"honor\", \"soul\", \"satan\", \"truth\", \"man\", \"die\", \"love\", \"life\", \"heart\", \"law\", \"believe\", \"child\", \"word\", \"book\", \"human\", \"say\", \"death\", \"come\", \"woman\", \"march\", \"mission\", \"boston\", \"satellite\", \"schedule\", \"pray\", \"case_western\", \"reserve_university\", \"morning\", \"brother\", \"la\", \"gov\", \"hat\", \"medicine\", \"spacecraft\", \"estimate\", \"minnesota\", \"cleveland_ohio\", \"astronomy\", \"km\", \"san_francisco\", \"pitch\", \"morris\", \"frank\", \"mar\", \"hospital\", \"energy\", \"membership\", \"comet\", \"ins_cwru\", \"george\", \"washington\", \"rd\", \"april\", \"san_jose\", \"national\", \"study\", \"student\", \"center\", \"research\", \"mr\", \"medium\", \"year\", \"usa\", \"room\", \"news\", \"day\", \"vote\", \"time\", \"gun\", \"protect\", \"police\", \"criminal\", \"law_enforcement\", \"crime\", \"arrest\", \"policy\", \"weapon\", \"clipper_chip\", \"citizen\", \"discipline\", \"permit\", \"court\", \"federal\", \"constitution\", \"illegal\", \"cop\", \"implement\", \"hunt\", \"ban\", \"senate\", \"handgun\", \"regulation\", \"militia\", \"guard\", \"prohibit\", \"gun_control\", \"amendment\", \"restriction\", \"government\", \"legal\", \"congress\", \"ensure\", \"public\", \"law\", \"private\", \"american\", \"state\", \"right\", \"house\", \"national\", \"carry\", \"case\", \"fire\", \"country\", \"key\", \"chip\", \"encryption\", \"wiretap\", \"hang\", \"apple\", \"clipper\", \"algorithm\", \"spanking\", \"nec\", \"printer\", \"encrypt\", \"hard_drive\", \"secure\", \"crypto\", \"finger\", \"tap\", \"shape\", \"automatically\", \"nsa\", \"compatible\", \"clean\", \"friday\", \"default\", \"ticket\", \"key_escrow\", \"timeout\", \"magic\", \"broadcast\", \"tree\", \"communication\", \"agency\", \"phone\", \"device\", \"security\", \"block\", \"technology\", \"bit\", \"system\", \"use\", \"message\", \"electronic\", \"datum\", \"information\", \"contain\", \"new\", \"need\", \"max\", \"obvious\", \"mile\", \"ride\", \"dealer\", \"count\", \"hall\", \"stat\", \"dog\", \"summer\", \"dollar\", \"brake\", \"screw\", \"jack\", \"bolt\", \"risk\", \"jeff\", \"rough\", \"tm\", \"yesterday\", \"misc\", \"shipping\", \"damn\", \"chris\", \"seat\", \"mid\", \"rid\", \"cold\", \"rating\", \"capital\", \"alan\", \"average\", \"cost\", \"master\", \"distribution_na\", \"price\", \"sell\", \"magazine\", \"richard\", \"sale\", \"total\", \"pull\", \"canada\", \"mike\", \"pick\", \"pay\", \"year\", \"extra\", \"trade\", \"road\", \"new_york\", \"hit\", \"space\", \"launch\", \"switch\", \"radio\", \"mon\", \"orbit\", \"van\", \"nasa\", \"flight\", \"min\", \"station\", \"volt\", \"doc\", \"audio\", \"signal\", \"aerospace\", \"mount\", \"panel\", \"amp\", \"ott\", \"expand\", \"slap\", \"cylinder\", \"metal\", \"battery_charger\", \"frequency\", \"channel\", \"monthly\", \"conductor\", \"fuel\", \"rocket\", \"ground\", \"project\", \"scale\", \"fly\", \"power\", \"unit\", \"build\", \"high\", \"mass\", \"level\", \"earth\", \"low\", \"design\", \"system\", \"large\", \"model\", \"israel\", \"israeli\", \"international\", \"soldier\", \"chief\", \"civilian\", \"privacy\", \"lebanon\", \"border\", \"terrorist\", \"massacre\", \"anger\", \"movement\", \"tomorrow\", \"february\", \"plane\", \"million\", \"pm\", \"rat\", \"heavy\", \"soviet\", \"emergency\", \"captain\", \"lunar\", \"ref\", \"edward\", \"train\", \"bomb\", \"secretary\", \"territory\", \"army\", \"nt\", \"committee\", \"attack\", \"military\", \"land\", \"enjoy\", \"hour\", \"population\", \"kill\", \"jewish\", \"report\", \"center\", \"area\", \"equal\", \"fight\", \"standard\", \"department\", \"control\", \"game\", \"team\", \"player\", \"hockey\", \"season\", \"contact\", \"nhl\", \"goal\", \"fan\", \"score\", \"ice\", \"canadian\", \"vancouver\", \"gd\", \"devil\", \"pit\", \"playoff\", \"detroit\", \"nyr\", \"coach\", \"bos\", \"defenseman\", \"hockey_league\", \"tor\", \"excellent\", \"draft\", \"tampa_bay\", \"det\", \"ahl\", \"phi\", \"hawk\", \"play\", \"win\", \"wing\", \"final\", \"division\", \"year\", \"period\", \"first\", \"pittsburgh\", \"good\", \"second\", \"computer_science\", \"homeopathy\", \"review\", \"development\", \"object\", \"gordon_bank\", \"ibm\", \"medical\", \"search\", \"reader\", \"useful\", \"disease\", \"patient\", \"professional\", \"resource\", \"homeopathic\", \"demonstrate\", \"success\", \"gps\", \"treatment\", \"announcement\", \"logical\", \"tel\", \"edition\", \"comparison\", \"painful\", \"thinking\", \"background\", \"fox\", \"installation\", \"univ\", \"science\", \"prove\", \"text\", \"description\", \"scientific\", \"develop\", \"soon\", \"reference\", \"david\", \"research\", \"pittsburgh\", \"rise\", \"paul\", \"edge\", \"water\", \"teach\", \"mother\", \"girl\", \"mhz\", \"wave\", \"reserve\", \"button\", \"probe\", \"widget\", \"cool\", \"miller\", \"frame\", \"seal\", \"lamp\", \"darren\", \"slave\", \"heat\", \"pop\", \"ken\", \"seize\", \"wind\", \"window_manager\", \"france\", \"bottle\", \"ltd\", \"tonight\", \"table\", \"light\", \"pressure\", \"building\", \"relative\", \"ago\", \"foot\", \"shell\", \"fire\", \"eye\", \"wait\", \"blood\", \"supply\", \"catch\", \"food\", \"armenian\", \"league\", \"turk\", \"turkish\", \"baseball\", \"serdar_argic\", \"cal\", \"hug\", \"sumgait\", \"chi\", \"turkey\", \"azerbaijani\", \"apartment\", \"suck\", \"ranger\", \"ham\", \"armenia\", \"xterm\", \"czar\", \"crowd\", \"mutlu\", \"logo\", \"darin\", \"interview\", \"plate\", \"penguin\", \"gold\", \"hill\", \"hitter\", \"bounce\", \"vay\", \"greek\", \"yalanci\", \"road\", \"burn\", \"today\", \"year\", \"first\", \"wire\", \"circuit\", \"connect\", \"wiring\", \"voice\", \"outlet\", \"neutral\", \"conference\", \"usenet\", \"lock\", \"computing\", \"timer\", \"gfci\", \"voltage\", \"mont_pierce\", \"annual\", \"div\", \"construction\", \"helmet\", \"familiar\", \"breaker\", \"gene\", \"postscript\", \"legend\", \"firm\", \"civil\", \"kurt\", \"cell\", \"portion\", \"ought\", \"faq\", \"multi\", \"depend\", \"cover\", \"pipe\", \"analysis\", \"art\", \"guide\", \"cable\", \"current\", \"house\", \"email\", \"copy\", \"_\", \"blue\", \"tank\", \"eg\", \"gas\", \"hi\", \"henry_spencer\", \"cigarette\", \"xlib\", \"fd\", \"mf\", \"xga\", \"toronto_zoology\", \"henry\", \"dress\", \"bay\", \"bitmap\", \"ontario\", \"fp\", \"shk\", \"gr\", \"gq\", \"mg\", \"cc\", \"eeg\", \"interactive\", \"lens\", \"ep\", \"nc\", \"lately\", \"cubs_suck\", \"csa\", \"band\", \"bus\", \"specifically\", \"associate\", \"motorcycle\", \"confuse\", \"entry\", \"detect\", \"brand\", \"ease\", \"string\", \"bag\", \"vesa_local\", \"guru\", \"countersteer\", \"bradley\", \"lane\", \"forum\", \"int\", \"scoop\", \"vram\", \"enjoyment\", \"nick\", \"libxmu\", \"callback\", \"ati\", \"safely\", \"detector\", \"drawing\", \"ms_window\", \"steer\", \"properly\", \"function\", \"shift\", \"value\", \"code\", \"error\", \"return\", \"set\", \"compile\", \"character\", \"size\", \"build\"], \"Total\": [57084.0, 12491.0, 16291.0, 11142.0, 3843.0, 10452.0, 9655.0, 7586.0, 8046.0, 11782.0, 6905.0, 5803.0, 4407.0, 4083.0, 6852.0, 5027.0, 1863.0, 2294.0, 3735.0, 7291.0, 3461.0, 4598.0, 1540.0, 1949.0, 3006.0, 1685.0, 1746.0, 1464.0, 3380.0, 2012.0, 4407.60302734375, 2750.85888671875, 1503.6448974609375, 1199.5321044921875, 708.739990234375, 633.7540893554688, 607.7418212890625, 590.2510375976562, 515.581787109375, 415.4848937988281, 405.42291259765625, 401.3970947265625, 11142.1201171875, 393.7955322265625, 381.1241149902344, 619.9010009765625, 336.0075378417969, 331.5078430175781, 317.1097412109375, 317.1217041015625, 316.2513732910156, 308.7294616699219, 306.98760986328125, 294.7427978515625, 269.7754821777344, 266.7265319824219, 264.71258544921875, 254.1366424560547, 253.86553955078125, 252.04220581054688, 12491.6494140625, 4083.582763671875, 5027.6806640625, 2618.17041015625, 7586.41943359375, 609.2312622070312, 9655.1337890625, 694.2405395507812, 601.8045043945312, 688.5479125976562, 893.995361328125, 5445.84619140625, 962.0546875, 6852.21240234375, 2391.493408203125, 3432.90869140625, 11782.6376953125, 3265.7529296875, 8046.9384765625, 7291.548828125, 2826.451904296875, 2927.807373046875, 16291.0458984375, 2186.3544921875, 3643.849853515625, 3089.1787109375, 3138.63720703125, 1592.4874267578125, 3595.249267578125, 10452.8310546875, 5376.4384765625, 3018.1298828125, 4473.04833984375, 5703.67138671875, 3675.869873046875, 1074.501708984375, 684.2564697265625, 568.01708984375, 520.266845703125, 484.387451171875, 440.33465576171875, 409.72149658203125, 400.656005859375, 398.9505920410156, 389.42828369140625, 378.662109375, 381.0514221191406, 355.8990478515625, 340.27294921875, 316.9017028808594, 304.68548583984375, 302.7862548828125, 298.4527282714844, 295.4590148925781, 291.0480651855469, 280.57000732421875, 276.94464111328125, 276.3807373046875, 268.7139892578125, 256.4990539550781, 256.1638488769531, 251.9704132080078, 247.96600341796875, 246.99830627441406, 245.9280242919922, 470.894775390625, 759.6463623046875, 621.7337646484375, 419.1844177246094, 1527.5528564453125, 411.21649169921875, 1255.8162841796875, 660.3641357421875, 671.2515258789062, 575.2844848632812, 1154.2950439453125, 1014.7501831054688, 859.7920532226562, 955.31787109375, 1388.2218017578125, 1940.944580078125, 1563.0435791015625, 1817.0849609375, 1227.7801513671875, 2297.266357421875, 1170.5152587890625, 1373.765869140625, 4473.04833984375, 2576.41748046875, 1392.426513671875, 2791.849365234375, 915.8598022460938, 2778.526123046875, 1595.88134765625, 1691.2281494140625, 894.9868774414062, 5703.67138671875, 1524.7828369140625, 4560.7880859375, 5048.5166015625, 1666.250732421875, 3511.0146484375, 11782.6376953125, 3135.766357421875, 2068.854736328125, 1935.849365234375, 6905.3037109375, 9655.1337890625, 4432.45849609375, 5376.4384765625, 986.5100708007812, 760.0348510742188, 680.8493041992188, 622.2306518554688, 563.1322021484375, 492.6916809082031, 457.6416931152344, 326.86590576171875, 316.5321350097656, 313.1374816894531, 313.066162109375, 312.804443359375, 312.5278015136719, 279.39105224609375, 265.8110046386719, 265.2119445800781, 263.6230163574219, 261.6082763671875, 242.9771270751953, 227.95326232910156, 225.05516052246094, 217.55621337890625, 211.15708923339844, 209.8452911376953, 194.83547973632812, 193.99232482910156, 189.8614501953125, 176.85984802246094, 174.009033203125, 172.16632080078125, 1264.4737548828125, 819.296142578125, 309.5978698730469, 3735.241943359375, 5803.1923828125, 346.13433837890625, 332.6343688964844, 1125.3243408203125, 868.2188720703125, 16291.0458984375, 767.0739135742188, 6905.3037109375, 10452.8310546875, 2542.465087890625, 480.396728515625, 1271.9903564453125, 1876.0953369140625, 3422.822509765625, 1690.2158203125, 5249.20654296875, 2351.66943359375, 3406.863037109375, 1960.8193359375, 528.784423828125, 5048.5166015625, 8046.9384765625, 3147.07470703125, 4432.45849609375, 7291.548828125, 11782.6376953125, 3675.869873046875, 5376.4384765625, 6852.21240234375, 3643.849853515625, 2987.355712890625, 5703.67138671875, 3311.4306640625, 2927.807373046875, 3461.16455078125, 3006.0126953125, 5445.84619140625, 2294.24609375, 862.9827880859375, 824.8449096679688, 683.2009887695312, 672.1407470703125, 658.452880859375, 596.443115234375, 594.6607666015625, 577.5344848632812, 529.5055541992188, 498.834228515625, 497.3912353515625, 458.5715637207031, 427.58447265625, 394.2823791503906, 383.2454833984375, 378.96221923828125, 369.73248291015625, 360.58148193359375, 356.7137756347656, 340.7342224121094, 335.4474182128906, 330.0003967285156, 321.4051208496094, 314.0065002441406, 311.08990478515625, 310.5433044433594, 299.0069274902344, 287.1953430175781, 272.3965148925781, 2012.45166015625, 1797.462890625, 794.3195190429688, 574.0035400390625, 485.74310302734375, 618.8220825195312, 934.6243896484375, 2058.955810546875, 3380.549560546875, 2460.27294921875, 3018.1298828125, 4598.17431640625, 1643.2178955078125, 1142.2005615234375, 1145.794189453125, 3595.249267578125, 1435.2550048828125, 10452.8310546875, 1650.1650390625, 1044.436767578125, 2186.3544921875, 1949.0426025390625, 924.331787109375, 875.1016235351562, 762.470458984375, 720.0270385742188, 636.0476684570312, 594.1394653320312, 539.4270629882812, 469.6946716308594, 406.9767761230469, 397.29779052734375, 385.4399719238281, 360.05963134765625, 356.4992370605469, 350.6504821777344, 349.4980163574219, 315.39324951171875, 313.47259521484375, 302.2270202636719, 283.7296142578125, 256.3136901855469, 251.255615234375, 231.33572387695312, 227.29153442382812, 222.07469177246094, 218.8728485107422, 208.94276428222656, 205.6475067138672, 205.1982879638672, 196.54953002929688, 463.15185546875, 1609.381103515625, 1111.258544921875, 1229.24560546875, 1442.6549072265625, 1819.155517578125, 2148.81689453125, 720.413330078125, 679.3651733398438, 1060.577880859375, 1613.49951171875, 1024.387451171875, 910.5667114257812, 1367.1854248046875, 1252.5189208984375, 918.3714599609375, 793.1654663085938, 915.1776123046875, 722.6141967773438, 1238.80078125, 4560.7880859375, 2889.1533203125, 2610.3046875, 1935.849365234375, 3138.63720703125, 57084.39453125, 239.09378051757812, 228.21803283691406, 210.44680786132812, 173.63182067871094, 165.5771942138672, 154.5469512939453, 149.8836669921875, 135.39682006835938, 134.5145263671875, 129.16224670410156, 125.57465362548828, 117.80912017822266, 109.85265350341797, 99.83377838134766, 98.87486267089844, 92.40691375732422, 87.67173767089844, 85.82457733154297, 85.39620971679688, 80.06273651123047, 78.17777252197266, 70.78952026367188, 65.69452667236328, 61.752254486083984, 61.73078918457031, 61.566219329833984, 61.53600311279297, 60.60878372192383, 59.1093635559082, 1685.02490234375, 1577.8341064453125, 714.1405029296875, 641.7406616210938, 543.4750366210938, 507.38983154296875, 490.3681335449219, 483.220458984375, 451.70281982421875, 393.8292541503906, 377.45361328125, 344.4155578613281, 322.3601379394531, 292.3583984375, 291.06573486328125, 257.26470947265625, 252.5286407470703, 245.33180236816406, 238.11703491210938, 237.94566345214844, 232.0537567138672, 231.3776092529297, 221.02850341796875, 210.40335083007812, 204.68736267089844, 199.10845947265625, 195.215576171875, 192.10336303710938, 191.40484619140625, 188.35662841796875, 641.0311279296875, 1530.3546142578125, 976.9149780273438, 1018.8504028320312, 1789.7095947265625, 300.61895751953125, 1737.328857421875, 2293.51318359375, 1093.240234375, 1524.7828369140625, 1521.8880615234375, 800.7222290039062, 6905.3037109375, 635.8778076171875, 3406.863037109375, 577.9672241210938, 357.1342468261719, 350.4371032714844, 321.3857421875, 315.39825439453125, 311.63763427734375, 311.1756286621094, 304.1438903808594, 297.3382568359375, 290.8418273925781, 259.25091552734375, 256.69488525390625, 255.43179321289062, 249.2071533203125, 232.95245361328125, 229.46160888671875, 221.15859985351562, 218.2939453125, 215.72213745117188, 199.1776580810547, 193.1657257080078, 192.90200805664062, 188.27943420410156, 183.3385009765625, 174.06005859375, 170.69874572753906, 148.14215087890625, 146.7473907470703, 146.62391662597656, 144.9833221435547, 143.87838745117188, 443.1252136230469, 310.330078125, 299.4903869628906, 576.3857421875, 305.9000244140625, 920.1571044921875, 690.5357055664062, 420.2070617675781, 1141.423583984375, 852.9754638671875, 264.404296875, 444.0613098144531, 3461.16455078125, 960.8208618164062, 579.9631958007812, 1242.6107177734375, 2351.66943359375, 426.633056640625, 5376.4384765625, 1315.441162109375, 634.8018188476562, 567.5923461914062, 549.982177734375, 427.3844299316406, 414.97198486328125, 400.70599365234375, 368.58056640625, 366.8284912109375, 366.67706298828125, 301.6642150878906, 261.663818359375, 246.57135009765625, 244.86685180664062, 233.801025390625, 228.62774658203125, 221.15342712402344, 204.70556640625, 193.37428283691406, 179.57440185546875, 174.33860778808594, 173.4925537109375, 158.92916870117188, 157.89572143554688, 155.9093017578125, 141.63101196289062, 136.96139526367188, 135.83473205566406, 135.30191040039062, 127.93740844726562, 1746.0794677734375, 304.91851806640625, 279.3538513183594, 214.85415649414062, 922.10107421875, 1737.328857421875, 358.81060791015625, 1056.5245361328125, 2415.175537109375, 3006.0126953125, 645.7810668945312, 920.1571044921875, 601.414794921875, 1635.1190185546875, 752.96484375, 861.14697265625, 1506.294677734375, 1182.4180908203125, 547.7469482421875, 496.62066650390625, 448.6551818847656, 431.51763916015625, 389.5798645019531, 354.0960693359375, 320.8962097167969, 290.86181640625, 280.0740661621094, 273.5637512207031, 271.65179443359375, 271.2908935546875, 240.24380493164062, 229.5553741455078, 226.94345092773438, 219.44314575195312, 215.69296264648438, 215.3312530517578, 201.66676330566406, 196.7001495361328, 191.95631408691406, 189.97821044921875, 187.67926025390625, 185.52618408203125, 177.22889709472656, 174.0510711669922, 171.3112335205078, 170.12142944335938, 320.56396484375, 408.819091796875, 815.215087890625, 683.199951171875, 428.3108215332031, 350.4044494628906, 1149.0130615234375, 1643.2178955078125, 3380.549560546875, 4598.17431640625, 1238.80078125, 350.8786315917969, 1097.5201416015625, 2148.81689453125, 573.9644165039062, 3138.63720703125, 3265.7529296875, 3843.942626953125, 534.0219116210938, 353.20904541015625, 309.7751770019531, 290.1236572265625, 289.04693603515625, 272.0169982910156, 267.7098388671875, 232.51339721679688, 222.966796875, 216.8535919189453, 214.86964416503906, 192.89857482910156, 192.55780029296875, 189.3859100341797, 189.04470825195312, 179.76780700683594, 177.20416259765625, 174.95443725585938, 172.17816162109375, 169.1931610107422, 167.0660858154297, 159.96087646484375, 158.32089233398438, 157.76551818847656, 155.2213592529297, 153.6528778076172, 151.85430908203125, 149.764404296875, 149.27841186523438, 159.21820068359375, 295.79083251953125, 975.2601928710938, 196.92767333984375, 303.4880676269531, 1022.3015747070312, 781.936279296875, 239.69757080078125, 279.223876953125, 1145.5865478515625, 510.2261047363281, 403.9532470703125, 557.1227416992188, 429.050537109375, 505.6900329589844, 982.2576293945312, 3461.16455078125, 390.23870849609375, 372.70123291015625, 562.1461181640625, 514.3952026367188, 631.1542358398438, 1863.074951171875, 430.880615234375, 392.6341552734375, 323.6581115722656, 313.99261474609375, 286.11419677734375, 280.506591796875, 275.86126708984375, 271.7720642089844, 255.62730407714844, 239.50379943847656, 234.68685913085938, 209.51893615722656, 208.45077514648438, 203.58636474609375, 201.68893432617188, 200.95814514160156, 200.07815551757812, 172.76283264160156, 171.35821533203125, 169.5270538330078, 164.0327606201172, 153.2112579345703, 152.78578186035156, 145.7952423095703, 140.98910522460938, 135.85067749023438, 131.77685546875, 129.02291870117188, 127.12565612792969, 270.3160705566406, 612.5196533203125, 523.9488525390625, 203.5089874267578, 309.03631591796875, 1510.4244384765625, 474.82611083984375, 1050.6978759765625, 1381.6448974609375, 370.1218566894531, 766.7898559570312, 576.82763671875, 911.9170532226562, 654.05078125, 3380.549560546875, 873.139404296875, 527.204833984375, 670.4349975585938, 517.583251953125, 345.072265625, 310.3661804199219, 294.5157775878906, 224.4227752685547, 219.7287139892578, 219.2682647705078, 261.6479797363281, 212.97628784179688, 180.70663452148438, 174.66476440429688, 173.67074584960938, 167.95510864257812, 164.43368530273438, 162.8961181640625, 160.6926727294922, 159.55105590820312, 149.19725036621094, 146.7423858642578, 146.3192901611328, 143.15972900390625, 141.78634643554688, 138.54129028320312, 136.42320251464844, 136.13475036621094, 127.81085205078125, 115.9093017578125, 114.27193450927734, 113.84020233154297, 213.8050079345703, 145.53945922851562, 385.6924743652344, 496.5828857421875, 467.2246398925781, 441.4682922363281, 250.56912231445312, 551.9841918945312, 321.1836853027344, 1095.96044921875, 483.0459899902344, 858.813232421875, 1141.423583984375, 879.415283203125, 223.24932861328125, 323.4952697753906, 1142.2005615234375, 617.1945190429688, 940.7392578125, 1540.339599609375, 1464.4454345703125, 838.019287109375, 686.075927734375, 568.9569091796875, 500.1412658691406, 455.8806457519531, 388.8165283203125, 376.60107421875, 365.6700134277344, 281.18011474609375, 260.6004333496094, 225.07803344726562, 219.34033203125, 218.52117919921875, 213.77064514160156, 211.72967529296875, 207.8286895751953, 202.34092712402344, 187.00332641601562, 174.5273895263672, 174.21585083007812, 173.68345642089844, 171.7870330810547, 169.5781707763672, 164.63525390625, 161.34170532226562, 156.6019287109375, 155.90773010253906, 155.8747100830078, 312.9870910644531, 1044.6954345703125, 1091.9742431640625, 241.64117431640625, 421.9801025390625, 407.087158203125, 3461.16455078125, 406.81878662109375, 2891.662841796875, 377.64654541015625, 5445.84619140625, 1214.8040771484375, 529.7214965820312, 425.00164794921875, 388.85711669921875, 382.36566162109375, 374.0094299316406, 361.4877624511719, 356.7996826171875, 309.576416015625, 268.1031799316406, 232.62542724609375, 228.5216522216797, 225.17068481445312, 218.5666961669922, 217.4774932861328, 212.43142700195312, 209.73406982421875, 207.12060546875, 193.55349731445312, 181.25660705566406, 174.618408203125, 173.03688049316406, 168.15513610839844, 160.958984375, 160.44223022460938, 158.92982482910156, 157.29168701171875, 156.4067840576172, 153.81593322753906, 153.72579956054688, 153.08766174316406, 382.8876953125, 799.9449462890625, 499.2143859863281, 479.2127990722656, 216.16287231445312, 204.52012634277344, 441.6841125488281, 525.7314453125, 951.0343017578125, 852.0396728515625, 852.9754638671875, 377.64654541015625, 515.0451049804688, 509.6749267578125, 375.21539306640625, 306.1571960449219, 298.90838623046875, 283.6036071777344, 281.0137634277344, 260.0606689453125, 232.02310180664062, 228.78604125976562, 225.39439392089844, 211.52394104003906, 198.42173767089844, 177.23423767089844, 176.7969512939453, 156.4786376953125, 145.96945190429688, 145.11956787109375, 127.02668762207031, 121.64909362792969, 121.2751235961914, 114.71754455566406, 113.19832611083984, 112.88748931884766, 112.7076187133789, 109.59954833984375, 107.80065155029297, 107.11957550048828, 104.20761108398438, 104.06941223144531, 263.3869323730469, 670.528564453125, 207.3595428466797, 395.6264343261719, 214.4300537109375, 274.5400390625, 291.026611328125, 185.82655334472656, 752.96484375, 267.09906005859375, 452.9335632324219, 325.2782287597656, 268.1270446777344, 211.80430603027344, 479.0368957519531, 1341.82080078125, 432.9952697753906, 381.5612487792969, 378.10260009765625, 356.1664123535156, 331.675537109375, 218.3184051513672, 216.46876525878906, 211.66099548339844, 210.58580017089844, 208.49749755859375, 202.70803833007812, 199.85711669921875, 195.34225463867188, 191.30560302734375, 172.6001434326172, 171.85037231445312, 149.65505981445312, 149.01242065429688, 143.72454833984375, 138.98382568359375, 130.74423217773438, 130.1015167236328, 128.17271423339844, 123.95809173583984, 120.98666381835938, 119.33602905273438, 119.04993438720703, 112.38739776611328, 110.06536102294922, 157.14645385742188, 455.19427490234375, 189.7581787109375, 562.1461181640625, 314.3257751464844, 796.2527465820312, 3461.16455078125, 2891.662841796875, 720.9127807617188, 465.298828125, 406.04534912109375, 364.6332092285156, 361.0872497558594, 300.95404052734375, 292.4377136230469, 281.59674072265625, 214.51564025878906, 191.50050354003906, 191.15841674804688, 184.96849060058594, 155.4198760986328, 146.39918518066406, 145.42413330078125, 145.1410675048828, 141.71002197265625, 129.85879516601562, 129.68678283691406, 124.58639526367188, 122.40641784667969, 121.26718139648438, 114.37598419189453, 107.84295654296875, 103.6847915649414, 103.10308837890625, 101.70752716064453, 95.87076568603516, 91.05640411376953, 88.15702056884766, 473.54510498046875, 162.43345642089844, 252.693115234375, 726.015625, 127.90589141845703, 196.9728546142578, 250.7178497314453, 163.43092346191406, 535.0910034179688, 774.6669921875, 645.7810668945312, 1145.794189453125, 598.0009765625, 917.00732421875, 792.1567993164062, 569.9036865234375, 325.7889099121094, 324.9972229003906, 300.3672790527344, 193.56723022460938, 181.5832977294922, 151.94583129882812, 145.8822479248047, 138.73751831054688, 131.7049560546875, 130.87408447265625, 124.24272918701172, 122.79529571533203, 121.15242004394531, 116.35423278808594, 105.42802429199219, 104.1969985961914, 97.66680145263672, 96.30146026611328, 93.22464752197266, 89.56269073486328, 83.68416595458984, 81.6578140258789, 78.7027816772461, 77.272216796875, 76.23540496826172, 74.25978088378906, 73.87416076660156, 392.7855224609375, 79.119384765625, 291.51177978515625, 480.40283203125, 465.1994934082031, 356.8926696777344, 316.3409423828125, 189.40487670898438, 172.743408203125, 168.1354217529297, 161.798095703125, 161.51646423339844, 160.02685546875, 145.81234741210938, 124.19729614257812, 120.3231201171875, 118.57563018798828, 113.97828674316406, 113.1689224243164, 108.50910949707031, 102.26453399658203, 98.94005584716797, 93.91466522216797, 93.51195526123047, 92.05558776855469, 89.52702331542969, 88.849853515625, 86.01449584960938, 84.08366394042969, 81.94512939453125, 76.62310028076172, 72.37194061279297, 72.1446304321289, 330.14892578125, 519.9892578125, 163.4636993408203, 864.2713623046875, 911.0774536132812, 663.4660034179688, 725.51708984375, 1435.2550048828125, 240.647216796875, 416.52783203125, 595.06201171875, 1050.6978759765625], \"loglift\": [30.0, 29.0, 28.0, 27.0, 26.0, 25.0, 24.0, 23.0, 22.0, 21.0, 20.0, 19.0, 18.0, 17.0, 16.0, 15.0, 14.0, 13.0, 12.0, 11.0, 10.0, 9.0, 8.0, 7.0, 6.0, 5.0, 4.0, 3.0, 2.0, 1.0, 1.817199945449829, 1.8171000480651855, 1.8167999982833862, 1.81659996509552, 1.815999984741211, 1.8158999681472778, 1.8157999515533447, 1.8157999515533447, 1.815500020980835, 1.8150999546051025, 1.815000057220459, 1.815000057220459, 1.815000057220459, 1.815000057220459, 1.8149000406265259, 1.8147000074386597, 1.8144999742507935, 1.8144999742507935, 1.8143999576568604, 1.8143999576568604, 1.8143999576568604, 1.8142999410629272, 1.8142999410629272, 1.8141000270843506, 1.8137999773025513, 1.8137999773025513, 1.8137999773025513, 1.813599944114685, 1.813599944114685, 1.813599944114685, 1.7972999811172485, 1.801900029182434, 1.7359999418258667, 1.750499963760376, 1.6985000371932983, 1.7857999801635742, 1.6325000524520874, 1.7278000116348267, 1.7401000261306763, 1.7071000337600708, 1.6693999767303467, 1.3142999410629272, 1.6117000579833984, 1.214400053024292, 1.4150999784469604, 1.3220000267028809, 0.9696999788284302, 1.2795000076293945, 1.042199969291687, 0.9732999801635742, 1.2303999662399292, 1.1253000497817993, 0.4047999978065491, 1.2311999797821045, 0.9980000257492065, 1.0566999912261963, 0.9871000051498413, 1.3299000263214111, 0.8478999733924866, 0.22419999539852142, 0.6040999889373779, 0.9154000282287598, 0.6237000226974487, 0.4311000108718872, 0.7371000051498413, 1.8813999891281128, 1.8809000253677368, 1.8805999755859375, 1.8803999423980713, 1.8803000450134277, 1.8801000118255615, 1.8798999786376953, 1.8798999786376953, 1.8798999786376953, 1.8797999620437622, 1.879699945449829, 1.879699945449829, 1.8796000480651855, 1.8795000314712524, 1.8791999816894531, 1.87909996509552, 1.87909996509552, 1.87909996509552, 1.878999948501587, 1.878999948501587, 1.8788000345230103, 1.8788000345230103, 1.8788000345230103, 1.8787000179290771, 1.878499984741211, 1.878499984741211, 1.878499984741211, 1.8783999681472778, 1.8783999681472778, 1.8783999681472778, 1.8736000061035156, 1.8640999794006348, 1.8623000383377075, 1.8672000169754028, 1.8140000104904175, 1.8631999492645264, 1.8181999921798706, 1.8401000499725342, 1.8384000062942505, 1.8316999673843384, 1.767699956893921, 1.770799994468689, 1.7825000286102295, 1.7689000368118286, 1.7230000495910645, 1.6718000173568726, 1.6929999589920044, 1.656999945640564, 1.6617000102996826, 1.5369000434875488, 1.6527999639511108, 1.6080000400543213, 1.345900058746338, 1.4544999599456787, 1.5932999849319458, 1.423799991607666, 1.6886999607086182, 1.3884999752044678, 1.48989999294281, 1.447100043296814, 1.6714999675750732, 0.8776999711990356, 1.4265999794006348, 0.8963000178337097, 0.8337000012397766, 1.3792999982833862, 0.9800999760627747, 0.26510000228881836, 0.9415000081062317, 1.2015000581741333, 1.2458000183105469, 0.18770000338554382, -0.10509999841451645, 0.42399999499320984, 0.19339999556541443, 1.9244999885559082, 1.9242000579833984, 1.9240000247955322, 1.9239000082015991, 1.923699975013733, 1.9234999418258667, 1.92330002784729, 1.9225000143051147, 1.9223999977111816, 1.9222999811172485, 1.9222999811172485, 1.9222999811172485, 1.9222999811172485, 1.9220000505447388, 1.9218000173568726, 1.9218000173568726, 1.9218000173568726, 1.9217000007629395, 1.9214999675750732, 1.9212000370025635, 1.9211000204086304, 1.9210000038146973, 1.920799970626831, 1.920799970626831, 1.9205000400543213, 1.9204000234603882, 1.920300006866455, 1.9199999570846558, 1.9198999404907227, 1.919800043106079, 1.9163000583648682, 1.9092999696731567, 1.9148999452590942, 1.809000015258789, 1.7537000179290771, 1.8932000398635864, 1.8935999870300293, 1.8163000345230103, 1.833899974822998, 1.6132999658584595, 1.8299000263214111, 1.6384999752044678, 1.586400032043457, 1.7079999446868896, 1.8592000007629395, 1.747499942779541, 1.687999963760376, 1.6065000295639038, 1.6912000179290771, 1.5374000072479248, 1.6268999576568604, 1.567199945449829, 1.6191999912261963, 1.8377000093460083, 1.4088000059127808, 1.3078999519348145, 1.4558000564575195, 1.3519999980926514, 1.1500999927520752, 0.9333999752998352, 1.2755999565124512, 1.1302000284194946, 0.967199981212616, 1.201799988746643, 1.2676000595092773, 0.9598000049591064, 1.2100000381469727, 1.2305999994277954, 1.073699951171875, 1.1032999753952026, 0.6392999887466431, 2.78629994392395, 2.785599946975708, 2.7855000495910645, 2.7853000164031982, 2.7853000164031982, 2.7852001190185547, 2.785099983215332, 2.785099983215332, 2.7850000858306885, 2.784899950027466, 2.7848000526428223, 2.7848000526428223, 2.784600019454956, 2.7844998836517334, 2.7843000888824463, 2.7841999530792236, 2.7841999530792236, 2.78410005569458, 2.7839999198913574, 2.7839999198913574, 2.783900022506714, 2.783799886703491, 2.783799886703491, 2.7836999893188477, 2.783600091934204, 2.783600091934204, 2.783600091934204, 2.7834999561309814, 2.783400058746338, 2.7832000255584717, 2.7558000087738037, 2.7334001064300537, 2.748500108718872, 2.7569000720977783, 2.749500036239624, 2.720599889755249, 2.5764000415802, 2.396899938583374, 1.8207999467849731, 1.9183000326156616, 1.7506999969482422, 1.5363999605178833, 1.9426000118255615, 2.1147000789642334, 2.1008999347686768, 1.2553999423980713, 1.877500057220459, 0.2750000059604645, 1.7106000185012817, 2.08240008354187, 1.3593000173568726, 2.8173000812530518, 2.816699981689453, 2.8166000843048096, 2.816499948501587, 2.8164000511169434, 2.816200017929077, 2.8160998821258545, 2.815999984741211, 2.815700054168701, 2.8153998851776123, 2.8152999877929688, 2.8152999877929688, 2.8150999546051025, 2.8150999546051025, 2.815000057220459, 2.815000057220459, 2.81469988822937, 2.81469988822937, 2.8145999908447266, 2.8143999576568604, 2.813999891281128, 2.8138999938964844, 2.8136000633239746, 2.813499927520752, 2.8134000301361084, 2.8134000301361084, 2.813199996948242, 2.8131000995635986, 2.8131000995635986, 2.8129000663757324, 2.784600019454956, 2.724600076675415, 2.7037999629974365, 2.692199945449829, 2.647599935531616, 2.5696001052856445, 2.5218000411987305, 2.6517999172210693, 2.660599946975708, 2.5671000480651855, 2.4811999797821045, 2.5415000915527344, 2.509500026702881, 2.390899896621704, 2.3726000785827637, 2.4763998985290527, 2.525099992752075, 2.395400047302246, 2.466599941253662, 2.1048998832702637, 1.2244000434875488, 1.3976000547409058, 1.468400001525879, 1.6891000270843506, 1.2142000198364258, 3.1363000869750977, 3.1322999000549316, 3.1321001052856445, 3.1317999362945557, 3.1308000087738037, 3.130500078201294, 3.1301000118255615, 3.1298999786376953, 3.129199981689453, 3.129199981689453, 3.1289000511169434, 3.1285998821258545, 3.1280999183654785, 3.127500057220459, 3.126699924468994, 3.1266000270843506, 3.1259000301361084, 3.1252999305725098, 3.1250998973846436, 3.125, 3.1242001056671143, 3.124000072479248, 3.1226999759674072, 3.1215999126434326, 3.1205999851226807, 3.1205999851226807, 3.1205999851226807, 3.1205999851226807, 3.120300054550171, 3.1198999881744385, 3.1749000549316406, 3.174799919128418, 3.174099922180176, 3.1738998889923096, 3.1737000942230225, 3.1735000610351562, 3.1735000610351562, 3.1733999252319336, 3.17330002784729, 3.1730000972747803, 3.1728999614715576, 3.172600030899048, 3.1723999977111816, 3.172100067138672, 3.172100067138672, 3.1717000007629395, 3.171600103378296, 3.1714999675750732, 3.1714000701904297, 3.1714000701904297, 3.171299934387207, 3.1712000370025635, 3.171099901199341, 3.170799970626831, 3.1707000732421875, 3.170599937438965, 3.1705000400543213, 3.1703999042510986, 3.1703999042510986, 3.170300006866455, 2.9442999362945557, 2.575900077819824, 2.5713000297546387, 2.5292999744415283, 2.283900022506714, 2.996500015258789, 2.0290000438690186, 1.8492000102996826, 2.2128000259399414, 1.913699984550476, 1.6950000524520874, 2.1998000144958496, 0.44029998779296875, 2.3255999088287354, 0.7128999829292297, 2.3698999881744385, 3.32069993019104, 3.3206000328063965, 3.3203999996185303, 3.3203001022338867, 3.3203001022338867, 3.3203001022338867, 3.320199966430664, 3.3201000690460205, 3.3201000690460205, 3.3196001052856445, 3.3196001052856445, 3.3196001052856445, 3.319499969482422, 3.319200038909912, 3.319200038909912, 3.319000005722046, 3.3189001083374023, 3.3189001083374023, 3.31850004196167, 3.3183999061584473, 3.3183999061584473, 3.31820011138916, 3.3180999755859375, 3.3178000450134277, 3.317699909210205, 3.316800117492676, 3.316800117492676, 3.316800117492676, 3.316699981689453, 3.3166000843048096, 3.2925000190734863, 3.2762999534606934, 3.2744998931884766, 3.2116000652313232, 3.238100051879883, 2.957900047302246, 2.9937000274658203, 3.0838000774383545, 2.594599962234497, 2.5671000480651855, 3.1465001106262207, 2.8194000720977783, 1.4221999645233154, 2.252500057220459, 2.611299991607666, 1.9534000158309937, 1.3321000337600708, 2.7683000564575195, 0.2797999978065491, 3.390899896621704, 3.3901000022888184, 3.390000104904175, 3.389899969100952, 3.389400005340576, 3.3893001079559326, 3.3893001079559326, 3.3889999389648438, 3.3889999389648438, 3.3889999389648438, 3.3884999752044678, 3.388000011444092, 3.3877999782562256, 3.387700080871582, 3.387500047683716, 3.387399911880493, 3.3873000144958496, 3.38700008392334, 3.386699914932251, 3.3863000869750977, 3.3861000537872314, 3.3861000537872314, 3.3856000900268555, 3.3856000900268555, 3.385499954223633, 3.3847999572753906, 3.3845999240875244, 3.3845999240875244, 3.384500026702881, 3.3840999603271484, 3.3127999305725098, 3.359299898147583, 3.2876999378204346, 3.3236000537872314, 3.1122000217437744, 3.008500099182129, 3.2363998889923096, 2.7746999263763428, 2.449899911880493, 2.0820000171661377, 2.511699914932251, 2.2026000022888184, 2.513700008392334, 1.690000057220459, 2.2146999835968018, 2.072000026702881, 3.4191999435424805, 3.4189999103546143, 3.418100118637085, 3.4179000854492188, 3.4177000522613525, 3.41759991645813, 3.4173998832702637, 3.417099952697754, 3.4168999195098877, 3.416599988937378, 3.4163999557495117, 3.416300058364868, 3.416300058364868, 3.416300058364868, 3.4158999919891357, 3.4156999588012695, 3.415600061416626, 3.4154999256134033, 3.4154000282287598, 3.4154000282287598, 3.41510009765625, 3.4149999618530273, 3.414799928665161, 3.414799928665161, 3.4147000312805176, 3.4147000312805176, 3.414400100708008, 3.414299964904785, 3.4142000675201416, 3.4142000675201416, 3.3403000831604004, 3.26419997215271, 3.0596001148223877, 3.060499906539917, 3.100100040435791, 3.1466000080108643, 2.623500108718872, 2.2820000648498535, 1.7971999645233154, 1.5806000232696533, 2.2637999057769775, 3.0404000282287598, 2.1331000328063965, 1.5924999713897705, 2.6312999725341797, 1.1805000305175781, 1.1253000497817993, 3.434799909591675, 3.433199882507324, 3.432300090789795, 3.4319000244140625, 3.4316999912261963, 3.4316999912261963, 3.43149995803833, 3.4314000606536865, 3.4309000968933105, 3.4307000637054443, 3.4305999279022217, 3.430500030517578, 3.430000066757202, 3.430000066757202, 3.4298999309539795, 3.4298999309539795, 3.4296000003814697, 3.4296000003814697, 3.429500102996826, 3.4293999671936035, 3.42930006980896, 3.4291999340057373, 3.428999900817871, 3.4289000034332275, 3.4289000034332275, 3.428800106048584, 3.4286999702453613, 3.4286000728607178, 3.4286000728607178, 3.428499937057495, 3.4279000759124756, 3.4166998863220215, 3.3833000659942627, 3.408600091934204, 3.3385000228881836, 3.1542999744415283, 3.084700107574463, 3.329699993133545, 3.2897000312805176, 2.848900079727173, 3.0876998901367188, 3.1391000747680664, 3.022200107574463, 3.0757999420166016, 2.99780011177063, 2.649899959564209, 1.873900055885315, 3.030100107192993, 3.046299934387207, 2.7867000102996826, 2.736999988555908, 2.468600034713745, 3.5165998935699463, 3.514899969100952, 3.514699935913086, 3.5141000747680664, 3.5139999389648438, 3.513700008392334, 3.513700008392334, 3.5136001110076904, 3.5136001110076904, 3.5132999420166016, 3.5130999088287354, 3.513000011444092, 3.512500047683716, 3.512500047683716, 3.512399911880493, 3.5123000144958496, 3.5123000144958496, 3.5123000144958496, 3.5114998817443848, 3.5114998817443848, 3.511399984359741, 3.511199951171875, 3.5107998847961426, 3.5107998847961426, 3.510499954223633, 3.5102999210357666, 3.509999990463257, 3.5097999572753906, 3.5095999240875244, 3.509500026702881, 3.3736000061035156, 3.107100009918213, 3.1273999214172363, 3.379199981689453, 3.201200008392334, 2.4667000770568848, 2.956399917602539, 2.52020001411438, 2.0831000804901123, 2.9491000175476074, 2.4003000259399414, 2.6084001064300537, 2.2636001110076904, 2.4691998958587646, 0.991599977016449, 2.0999999046325684, 2.5671000480651855, 3.5957000255584717, 3.5952999591827393, 3.594399929046631, 3.594099998474121, 3.593899965286255, 3.592900037765503, 3.5927999019622803, 3.5927999019622803, 3.5927999019622803, 3.5927000045776367, 3.5917999744415283, 3.5917000770568848, 3.591599941253662, 3.591399908065796, 3.5913000106811523, 3.5913000106811523, 3.591200113296509, 3.591099977493286, 3.5906999111175537, 3.59060001373291, 3.59060001373291, 3.590399980545044, 3.590399980545044, 3.5901999473571777, 3.590100049972534, 3.590100049972534, 3.589600086212158, 3.5887999534606934, 3.58870005607605, 3.58870005607605, 3.5585999488830566, 3.573499917984009, 3.4781999588012695, 3.428999900817871, 3.3801000118255615, 3.385699987411499, 3.431999921798706, 3.1754000186920166, 3.22760009765625, 2.5761001110076904, 2.947200059890747, 2.41510009765625, 2.1470999717712402, 2.111799955368042, 3.300100088119507, 2.9514000415802, 1.716599941253662, 2.2980000972747803, 1.8758000135421753, 3.5998001098632812, 3.5998001098632812, 3.599299907684326, 3.5989999771118164, 3.5987000465393066, 3.5985000133514404, 3.598299980163574, 3.597899913787842, 3.5978000164031982, 3.5978000164031982, 3.5969998836517334, 3.5966999530792236, 3.596100091934204, 3.5959999561309814, 3.5959999561309814, 3.595900058746338, 3.5957999229431152, 3.5957000255584717, 3.595599889755249, 3.5952000617980957, 3.5947999954223633, 3.5947999954223633, 3.5947999954223633, 3.5947000980377197, 3.5947000980377197, 3.5945000648498535, 3.594399929046631, 3.5941998958587646, 3.5941998958587646, 3.5941998958587646, 3.526700019836426, 3.2901999950408936, 3.2272000312805176, 3.4007999897003174, 3.1150999069213867, 3.0998001098632812, 1.6347999572753906, 2.9727001190185547, 1.0922000408172607, 2.9035000801086426, 0.39800000190734863, 1.7591999769210815, 3.773900032043457, 3.7734999656677246, 3.7732999324798584, 3.773200035095215, 3.773200035095215, 3.773099899291992, 3.773099899291992, 3.772599935531616, 3.772200107574463, 3.7716000080108643, 3.7715001106262207, 3.7715001106262207, 3.7713000774383545, 3.7713000774383545, 3.771199941635132, 3.771199941635132, 3.7711000442504883, 3.7708001136779785, 3.770400047302246, 3.77020001411438, 3.77020001411438, 3.7699999809265137, 3.769700050354004, 3.769700050354004, 3.769700050354004, 3.7695999145507812, 3.7695999145507812, 3.7695000171661377, 3.7695000171661377, 3.769399881362915, 3.7358999252319336, 3.6684000492095947, 3.6673998832702637, 3.5048000812530518, 3.675299882888794, 3.65339994430542, 3.1198999881744385, 2.9848999977111816, 2.4916999340057373, 2.5569000244140625, 2.4695000648498535, 3.0815000534057617, 3.849600076675415, 3.849600076675415, 3.848900079727173, 3.848400115966797, 3.848299980163574, 3.848099946975708, 3.848099946975708, 3.8478000164031982, 3.847399950027466, 3.8473000526428223, 3.8471999168395996, 3.84689998626709, 3.84660005569458, 3.846100091934204, 3.8459999561309814, 3.8452999591827393, 3.844899892807007, 3.8447999954223633, 3.843899965286255, 3.8434998989105225, 3.8434998989105225, 3.843100070953369, 3.842900037765503, 3.842900037765503, 3.842900037765503, 3.8427000045776367, 3.8424999713897705, 3.8424999713897705, 3.8422000408172607, 3.8422000408172607, 3.807800054550171, 3.737299919128418, 3.795099973678589, 3.7228000164031982, 3.7035999298095703, 3.642199993133545, 3.6198999881744385, 3.714200019836426, 3.2688000202178955, 3.550100088119507, 3.316200017929077, 3.309799909591675, 3.3197999000549316, 3.52020001411438, 2.795099973678589, 3.8733999729156494, 3.871799945831299, 3.871500015258789, 3.871500015258789, 3.8714001178741455, 3.8710999488830566, 3.8696000576019287, 3.8696000576019287, 3.869499921798706, 3.869499921798706, 3.8694000244140625, 3.86929988861084, 3.8691999912261963, 3.8691000938415527, 3.86899995803833, 3.8684000968933105, 3.8684000968933105, 3.8675999641418457, 3.8675999641418457, 3.867300033569336, 3.8671000003814697, 3.8666000366210938, 3.8666000366210938, 3.866499900817871, 3.8661999702453613, 3.865999937057495, 3.8659000396728516, 3.8659000396728516, 3.8654000759124756, 3.8652000427246094, 3.8322999477386475, 3.647900104522705, 3.76990008354187, 2.9630000591278076, 3.0313000679016113, 2.0692999362945557, 0.6366999745368958, 0.781499981880188, 4.076300144195557, 4.0756001472473145, 4.075300216674805, 4.074999809265137, 4.074999809265137, 4.074399948120117, 4.074399948120117, 4.07420015335083, 4.0731000900268555, 4.0725998878479, 4.0725998878479, 4.072400093078613, 4.071400165557861, 4.071000099182129, 4.071000099182129, 4.071000099182129, 4.070799827575684, 4.070199966430664, 4.070199966430664, 4.069900035858154, 4.069699764251709, 4.069699764251709, 4.069200038909912, 4.068699836730957, 4.068299770355225, 4.06820011138916, 4.0680999755859375, 4.067500114440918, 4.066999912261963, 4.0665998458862305, 3.9484000205993652, 3.9335999488830566, 3.8024001121520996, 3.3454999923706055, 3.969399929046631, 3.755500078201294, 3.595599889755249, 3.8327999114990234, 3.154400110244751, 2.8020999431610107, 2.6577000617980957, 2.158799886703491, 2.634399890899658, 4.0858001708984375, 4.085700035095215, 4.08519983291626, 4.084000110626221, 4.084000110626221, 4.083799839019775, 4.082099914550781, 4.0817999839782715, 4.0808000564575195, 4.08050012588501, 4.0802001953125, 4.079800128936768, 4.079800128936768, 4.079400062561035, 4.0792999267578125, 4.07919979095459, 4.07889986038208, 4.078100204467773, 4.078000068664551, 4.077300071716309, 4.077199935913086, 4.076900005340576, 4.076499938964844, 4.075799942016602, 4.075500011444092, 4.074999809265137, 4.07480001449585, 4.074699878692627, 4.0742998123168945, 4.0742998123168945, 4.061200141906738, 4.072299957275391, 3.1106998920440674, 4.183300018310547, 4.183199882507324, 4.182600021362305, 4.182300090789795, 4.180200099945068, 4.179699897766113, 4.179599761962891, 4.1793999671936035, 4.1793999671936035, 4.179299831390381, 4.178699970245361, 4.177599906921387, 4.177299976348877, 4.177199840545654, 4.1768999099731445, 4.176799774169922, 4.176499843597412, 4.175899982452393, 4.175600051879883, 4.175099849700928, 4.175000190734863, 4.174900054931641, 4.174600124359131, 4.174499988555908, 4.174099922180176, 4.173900127410889, 4.173600196838379, 4.172800064086914, 4.171999931335449, 4.171999931335449, 3.9530999660491943, 3.867300033569336, 4.046199798583984, 3.6333999633789062, 2.884000062942505, 2.9077999591827393, 2.5905001163482666, 1.9572999477386475, 3.330199956893921, 2.805500030517578, 2.4767000675201416, 1.8240000009536743], \"logprob\": [30.0, 29.0, 28.0, 27.0, 26.0, 25.0, 24.0, 23.0, 22.0, 21.0, 20.0, 19.0, 18.0, 17.0, 16.0, 15.0, 14.0, 13.0, 12.0, 11.0, 10.0, 9.0, 8.0, 7.0, 6.0, 5.0, 4.0, 3.0, 2.0, 1.0, -4.08519983291626, -4.556700229644775, -5.161099910736084, -5.387199878692627, -5.913899898529053, -6.025899887084961, -6.06790018081665, -6.0971999168396, -6.232600212097168, -6.44890022277832, -6.473499774932861, -6.483500003814697, -3.1600000858306885, -6.502699851989746, -6.5355000495910645, -6.049200057983398, -6.661799907684326, -6.675300121307373, -6.719900131225586, -6.719799995422363, -6.722599983215332, -6.746699810028076, -6.752399921417236, -6.7932000160217285, -6.8821001052856445, -6.893499851226807, -6.901100158691406, -6.941999912261963, -6.9430999755859375, -6.950300216674805, -3.0634000301361084, -4.1768999099731445, -4.0346999168396, -4.672699928283691, -3.660799980163574, -6.0954999923706055, -3.4856998920440674, -6.022900104522705, -6.153500080108643, -6.051799774169922, -5.828400135040283, -4.376500129699707, -5.812699794769287, -4.246699810028076, -5.098700046539307, -4.8302998542785645, -3.949399948120117, -4.922699928283691, -4.258200168609619, -4.4257001876831055, -5.116300106048584, -5.186200141906738, -4.190299987792969, -5.372300148010254, -5.094600200653076, -5.201200008392334, -5.254799842834473, -5.5904998779296875, -5.258200168609619, -4.814599990844727, -5.099599838256836, -5.365600109100342, -5.263899803161621, -5.213500022888184, -5.346799850463867, -5.432499885559082, -5.884300231933594, -6.070700168609619, -6.158699989318848, -6.230299949645996, -6.325799942016602, -6.398099899291992, -6.420499801635742, -6.424799919128418, -6.448999881744385, -6.477099895477295, -6.470799922943115, -6.5391998291015625, -6.5843000411987305, -6.655600070953369, -6.695099830627441, -6.701300144195557, -6.715799808502197, -6.725900173187256, -6.741000175476074, -6.7778000831604, -6.790800094604492, -6.792900085449219, -6.821100234985352, -6.867800235748291, -6.869100093841553, -6.885700225830078, -6.901800155639648, -6.905700206756592, -6.910099983215332, -6.2652997970581055, -5.796500205993652, -5.998600006103516, -6.387899875640869, -5.1479997634887695, -6.411200046539307, -5.339799880981445, -5.9604997634887695, -5.945899963378906, -6.106900215148926, -5.474599838256836, -5.600200176239014, -5.754300117492676, -5.662499904632568, -5.334700107574463, -5.0507001876831055, -5.246099948883057, -5.131499767303467, -5.518799781799316, -5.017099857330322, -5.575399875640869, -5.460100173950195, -4.5416998863220215, -4.984799861907959, -5.461400032043457, -4.935200214385986, -5.784900188446045, -4.975299835205078, -5.428400039672852, -5.4131999015808105, -5.825200080871582, -4.766900062561035, -5.537300109863281, -4.97189998626709, -4.9328999519348145, -5.4959001541137695, -5.149799823760986, -4.6539998054504395, -5.301400184631348, -5.457200050354004, -5.479400157928467, -5.265699863433838, -5.223299980163574, -5.472700119018555, -5.510300159454346, -5.474800109863281, -5.735899925231934, -5.846099853515625, -5.936299800872803, -6.036200046539307, -6.170100212097168, -6.244100093841553, -6.581399917602539, -6.613699913024902, -6.624499797821045, -6.62470006942749, -6.625500202178955, -6.626399993896484, -6.738900184631348, -6.788899898529053, -6.791200160980225, -6.7972002029418945, -6.804900169372559, -6.8790998458862305, -6.9430999755859375, -6.955999851226807, -6.989999771118164, -7.019999980926514, -7.026299953460693, -7.100900173187256, -7.105199813842773, -7.126800060272217, -7.198200225830078, -7.2144999504089355, -7.225200176239014, -5.2347002029418945, -5.6757001876831055, -6.6433000564575195, -4.258900165557861, -3.873699903488159, -6.553500175476074, -6.592899799346924, -5.451399803161621, -5.6930999755859375, -2.981800079345703, -5.821000099182129, -3.8148999214172363, -3.452500104904175, -4.74459981918335, -6.259699821472168, -5.397600173950195, -5.06850004196167, -4.548699855804443, -5.1697001457214355, -4.190199851989746, -4.90369987487793, -4.592700004577637, -5.093100070953369, -6.185200214385986, -4.357800006866455, -3.992500066757202, -4.783400058746338, -4.5447998046875, -4.248899936676025, -3.9856998920440674, -4.808300018310547, -4.573500156402588, -4.49399995803833, -4.890900135040283, -5.02370023727417, -4.684800148010254, -4.978300094604492, -5.0808000564575195, -5.070400238037109, -5.18179988861084, -5.051499843597412, -3.7690000534057617, -4.747499942779541, -4.792699813842773, -4.981400012969971, -4.997700214385986, -5.0183000564575195, -5.117400169372559, -5.1203999519348145, -5.149700164794922, -5.236599922180176, -5.29640007019043, -5.299300193786621, -5.38070011138916, -5.450900077819824, -5.532100200653076, -5.5605998039245605, -5.571899890899658, -5.59660005569458, -5.621699810028076, -5.632500171661377, -5.678500175476074, -5.694200038909912, -5.710599899291992, -5.737100124359131, -5.76039981842041, -5.769800186157227, -5.771500110626221, -5.809500217437744, -5.849999904632568, -5.9029998779296875, -3.930500030517578, -4.065899848937988, -4.867499828338623, -5.183899879455566, -5.35830020904541, -5.145100116729736, -4.876999855041504, -4.266600131988525, -4.346799850463867, -4.567200183868408, -4.530399799346924, -4.323699951171875, -4.946499824523926, -5.138000011444092, -5.14870023727417, -4.8506999015808105, -5.146900177001953, -4.763899803161621, -5.174200057983398, -5.259799957275391, -5.244100093841553, -3.901099920272827, -4.64769983291626, -4.702499866485596, -4.840400218963623, -4.897799968719482, -5.021999835968018, -5.090199947357178, -5.186999797821045, -5.325699806213379, -5.469299793243408, -5.493500232696533, -5.523799896240234, -5.592100143432617, -5.602099895477295, -5.61870002746582, -5.622000217437744, -5.724899768829346, -5.731100082397461, -5.7677001953125, -5.831099987030029, -5.93310022354126, -5.953100204467773, -6.035999774932861, -6.053699970245361, -6.077000141143799, -6.091599941253662, -6.138299942016602, -6.154200077056885, -6.156400203704834, -6.199699878692627, -5.370800018310547, -4.185200214385986, -4.576399803161621, -4.487100124359131, -4.371600151062012, -4.217800140380859, -4.098999977111816, -5.061800003051758, -5.111700057983398, -4.759799957275391, -4.426199913024902, -4.820099830627441, -4.969900131225586, -4.682000160217285, -4.788000106811523, -4.994500160217285, -5.092299938201904, -5.078999996185303, -5.24399995803833, -5.066699981689453, -4.643899917602539, -4.92710018157959, -4.957900047302246, -5.036099910736084, -5.027699947357178, -0.20489999651908875, -5.684299945831299, -5.730999946594238, -5.8125, -6.00570011138916, -6.053500175476074, -6.122900009155273, -6.15369987487793, -6.256100177764893, -6.262599945068359, -6.303500175476074, -6.331900119781494, -6.396299839019775, -6.466800212860107, -6.563300132751465, -6.5731000900268555, -6.64139986038208, -6.6946001052856445, -6.716100215911865, -6.721199989318848, -6.786399841308594, -6.810500144958496, -6.911099910736084, -6.9868998527526855, -7.049699783325195, -7.050099849700928, -7.052800178527832, -7.053299903869629, -7.068699836730957, -7.094200134277344, -3.6891000270843506, -3.7548000812530518, -4.548299789428711, -4.655300140380859, -4.821800231933594, -4.890699863433838, -4.924799919128418, -4.939599990844727, -5.0071001052856445, -5.144599914550781, -5.187099933624268, -5.2789998054504395, -5.345399856567383, -5.443399906158447, -5.447800159454346, -5.571700096130371, -5.5903000831604, -5.6194000244140625, -5.6493000984191895, -5.650100231170654, -5.67519998550415, -5.678199768066406, -5.724100112915039, -5.773600101470947, -5.801300048828125, -5.829100131988525, -5.848899841308594, -5.864999771118164, -5.86870002746582, -5.884799957275391, -4.886099815368652, -4.384399890899658, -4.837699890136719, -4.837699890136719, -4.519800186157227, -5.59119987487793, -4.804299831390381, -4.706399917602539, -5.083799839019775, -5.05019998550415, -5.270699977874756, -5.408199787139893, -5.013199806213379, -5.512899875640869, -5.447000026702881, -5.5640997886657715, -5.094699859619141, -5.113699913024902, -5.200500011444092, -5.219299793243408, -5.231400012969971, -5.232800006866455, -5.255799770355225, -5.278500080108643, -5.300600051879883, -5.415999889373779, -5.426000118255615, -5.4309000968933105, -5.455699920654297, -5.523399829864502, -5.538599967956543, -5.5756001472473145, -5.588699817657471, -5.600599765777588, -5.680799961090088, -5.711599826812744, -5.712900161743164, -5.737299919128418, -5.763999938964844, -5.816299915313721, -5.835899829864502, -5.978499889373779, -5.98799991607666, -5.988800048828125, -6.000199794769287, -6.007900238037109, -4.907100200653076, -5.2795000076293945, -5.31689977645874, -4.725100040435791, -5.332099914550781, -4.511000156402588, -4.76230001449585, -5.168900012969971, -4.65880012512207, -4.97760009765625, -5.569499969482422, -5.3780999183654785, -4.72189998626709, -5.1732001304626465, -5.319200038909912, -5.215099811553955, -5.198500156402588, -5.469200134277344, -5.423900127410889, -3.720599889755249, -4.449999809265137, -4.562099933624268, -4.593699932098389, -4.846399784088135, -4.875899791717529, -4.910999774932861, -4.994800090789795, -4.999499797821045, -5.0, -5.195700168609619, -5.338399887084961, -5.398099899291992, -5.40500020980835, -5.451499938964844, -5.473899841308594, -5.507299900054932, -5.58489990234375, -5.642199993133545, -5.716599941253662, -5.746300220489502, -5.751200199127197, -5.839399814605713, -5.8460001945495605, -5.858699798583984, -5.955399990081787, -5.989200115203857, -5.997499942779541, -6.001399993896484, -6.057799816131592, -3.5155999660491943, -5.214099884033203, -5.373300075531006, -5.599899768829346, -4.354700088500977, -3.824899911880493, -5.174300193786621, -4.556000232696533, -4.053999900817871, -4.203100204467773, -5.311299800872803, -5.266300201416016, -5.380499839782715, -5.203999996185303, -5.454699993133545, -5.463200092315674, -3.55679988861084, -3.799099922180176, -4.5696001052856445, -4.667699813842773, -4.769499778747559, -4.808499813079834, -4.910999774932861, -5.006800174713135, -5.105500221252441, -5.204100131988525, -5.242000102996826, -5.265600204467773, -5.272600173950195, -5.27400016784668, -5.395999908447266, -5.441699981689453, -5.453100204467773, -5.4868998527526855, -5.504199981689453, -5.505899906158447, -5.571800231933594, -5.596799850463867, -5.621399879455566, -5.631800174713135, -5.644000053405762, -5.655600070953369, -5.701600074768066, -5.719799995422363, -5.7357001304626465, -5.742800235748291, -5.18310022354126, -5.015999794006348, -4.530399799346924, -4.706099987030029, -5.133500099182129, -5.287799835205078, -4.623300075531006, -4.60699987411499, -4.3703999519348145, -4.279399871826172, -4.907800197601318, -5.3927001953125, -5.159599781036377, -5.028299808502197, -5.309599876403809, -5.061500072479248, -5.076900005340576, -2.6043999195098877, -4.579800128936768, -4.994100093841553, -5.125699996948242, -5.191500186920166, -5.195199966430664, -5.256100177764893, -5.272200107574463, -5.413700103759766, -5.4558000564575195, -5.483699798583984, -5.4928998947143555, -5.60129976272583, -5.603099822998047, -5.619800090789795, -5.621600151062012, -5.6722002029418945, -5.686600208282471, -5.69950008392334, -5.7154998779296875, -5.733099937438965, -5.7459001541137695, -5.789599895477295, -5.799900054931641, -5.803500175476074, -5.819799900054932, -5.830100059509277, -5.841899871826172, -5.855899810791016, -5.859099864959717, -5.795300006866455, -5.187099933624268, -4.027500152587891, -5.6020002365112305, -5.23960018157959, -4.2093000411987305, -4.546999931335449, -5.484399795532227, -5.371699810028076, -4.400899887084961, -4.970900058746338, -5.15310001373291, -4.948500156402588, -5.156099796295166, -5.069799900054932, -4.753699779510498, -4.270199775695801, -5.296599864959717, -5.326300144195557, -5.175000190734863, -5.313499927520752, -5.377399921417236, -3.2469000816345215, -4.712800025939941, -4.8059000968933105, -4.999599933624268, -5.030099868774414, -5.123300075531006, -5.143199920654297, -5.159999847412109, -5.174900054931641, -5.236400127410889, -5.301799774169922, -5.322199821472168, -5.436100006103516, -5.441299915313721, -5.465000152587891, -5.474400043487549, -5.478099822998047, -5.482500076293945, -5.630000114440918, -5.638199806213379, -5.64900016784668, -5.682199954986572, -5.750800132751465, -5.753600120544434, -5.80079984664917, -5.834499835968018, -5.8719000816345215, -5.902599811553955, -5.923900127410889, -5.938799858093262, -5.320300102233887, -4.768700122833252, -4.904699802398682, -5.598599910736084, -5.358799934387207, -4.5065999031066895, -5.174099922180176, -4.815999984741211, -4.979300022125244, -5.430500030517578, -5.250999927520752, -5.327499866485596, -5.214300155639648, -5.341100215911865, -5.17609977722168, -5.42140007019043, -5.458799839019775, -4.189799785614014, -4.448999881744385, -4.855299949645996, -4.961599826812744, -5.014200210571289, -5.287099838256836, -5.308300018310547, -5.310400009155273, -5.133699893951416, -5.339600086212158, -5.504799842834473, -5.538899898529053, -5.5447001457214355, -5.5782999992370605, -5.599699974060059, -5.609099864959717, -5.622799873352051, -5.630000114440918, -5.697500228881836, -5.714200019836426, -5.717100143432617, -5.739099979400635, -5.748799800872803, -5.77209997177124, -5.787600040435791, -5.789700031280518, -5.853300094604492, -5.9517998695373535, -5.96619987487793, -5.96999979019165, -5.369800090789795, -5.739500045776367, -4.860199928283691, -4.656700134277344, -4.766499996185303, -4.817599773406982, -5.337699890136719, -4.804599761962891, -5.293799877166748, -4.7179999351501465, -5.166200160980225, -5.122799873352051, -5.106299877166748, -5.402400016784668, -5.585000038146973, -5.562900066375732, -5.536099910736084, -5.570300102233887, -5.571000099182129, -3.3538999557495117, -3.4045000076293945, -3.963099956512451, -4.16349983215332, -4.350900173187256, -4.480100154876709, -4.57289981842041, -4.732399940490723, -4.764400005340576, -4.794000148773193, -5.057499885559082, -5.133800029754639, -5.280900001525879, -5.3069000244140625, -5.3105998039245605, -5.332699775695801, -5.342299938201904, -5.361000061035156, -5.387899875640869, -5.467100143432617, -5.536600112915039, -5.538400173187256, -5.541399955749512, -5.552499771118164, -5.565499782562256, -5.595200061798096, -5.615600109100342, -5.645599842071533, -5.650000095367432, -5.650300025939941, -5.020699977874756, -4.051799774169922, -4.0706000328063965, -5.405200004577637, -5.133399963378906, -5.184700012207031, -4.509300231933594, -5.312399864196777, -5.2316999435424805, -5.455999851226807, -5.292799949645996, -5.432000160217285, -4.247200012207031, -4.467899799346924, -4.557000160217285, -4.57390022277832, -4.5960001945495605, -4.630199909210205, -4.643199920654297, -4.785600185394287, -4.929900169372559, -5.072400093078613, -5.0903000831604, -5.105100154876709, -5.135000228881836, -5.140100002288818, -5.163599967956543, -5.176499843597412, -5.1890997886657715, -5.257199764251709, -5.3231000900268555, -5.360599994659424, -5.369800090789795, -5.398600101470947, -5.442599773406982, -5.445799827575684, -5.4552998542785645, -5.465799808502197, -5.471399784088135, -5.4882001876831055, -5.488800048828125, -5.493000030517578, -4.609799861907959, -3.940500020980835, -4.413000106811523, -4.616499900817871, -5.242099761962891, -5.319399833679199, -5.083000183105469, -5.043799877166748, -4.944200038909912, -4.988900184631348, -5.075200080871582, -5.2779998779296875, -4.1996002197265625, -4.210100173950195, -4.517000198364258, -4.7210001945495605, -4.744999885559082, -4.797800064086914, -4.807000160217285, -4.884799957275391, -4.999300003051758, -5.013400077819824, -5.02839994430542, -5.092199802398682, -5.156400203704834, -5.269899845123291, -5.27239990234375, -5.395199775695801, -5.465199947357178, -5.471099853515625, -5.605199813842773, -5.648799896240234, -5.651899814605713, -5.707900047302246, -5.721399784088135, -5.7241997718811035, -5.725800037384033, -5.754000186920166, -5.770699977874756, -5.777100086212158, -5.804900169372559, -5.80620002746582, -4.912099838256836, -4.048099994659424, -5.163899898529053, -4.590199947357178, -5.22189998626709, -5.036200046539307, -5.000100135803223, -5.354499816894531, -4.400700092315674, -5.155799865722656, -4.861499786376953, -5.198999881744385, -5.382199764251709, -5.417600154876709, -5.326600074768066, -3.2183001041412354, -4.350900173187256, -4.477700233459473, -4.486800193786621, -4.5467000007629395, -4.618199825286865, -5.037899971008301, -5.04640007019043, -5.068999767303467, -5.074100017547607, -5.084099769592285, -5.112400054931641, -5.126699924468994, -5.149600028991699, -5.170599937438965, -5.27400016784668, -5.27839994430542, -5.417600154876709, -5.421899795532227, -5.4583001136779785, -5.492000102996826, -5.553599834442139, -5.558599948883057, -5.573599815368652, -5.6072998046875, -5.631800174713135, -5.645599842071533, -5.6479997634887695, -5.706099987030029, -5.727200031280518, -5.4039998054504395, -4.524899959564209, -5.277900218963623, -4.998700141906738, -5.51170015335083, -5.5441999435424805, -5.507400035858154, -5.542399883270264, -3.6366000175476074, -4.075200080871582, -4.211699962615967, -4.3196001052856445, -4.329400062561035, -4.5121002197265625, -4.540900230407715, -4.578800201416016, -4.851900100708008, -4.966000080108643, -4.967800140380859, -5.000899791717529, -5.175899982452393, -5.236100196838379, -5.242800235748291, -5.244800090789795, -5.268899917602539, -5.356800079345703, -5.3582000732421875, -5.398600101470947, -5.416399955749512, -5.42579984664917, -5.484799861907959, -5.544099807739258, -5.583799839019775, -5.5894999504089355, -5.603300094604492, -5.662899971008301, -5.715000152587891, -5.747700214385986, -4.184800148010254, -5.269599914550781, -4.958899974822998, -4.360400199890137, -5.472799777984619, -5.254899978637695, -5.173500061035156, -5.364299774169922, -4.8566999435424805, -4.839000225067139, -5.165299892425537, -5.090799808502197, -5.265500068664551, -3.3864998817443848, -3.5329999923706055, -3.862799882888794, -4.4232001304626465, -4.425600051879883, -4.504700183868408, -4.945799827575684, -5.010000228881836, -5.189199924468994, -5.230199813842773, -5.280700206756592, -5.333099842071533, -5.3394999504089355, -5.3917999267578125, -5.403600215911865, -5.417200088500977, -5.457900047302246, -5.557400226593018, -5.569200038909912, -5.6346001625061035, -5.648799896240234, -5.681600093841553, -5.7220001220703125, -5.7906999588012695, -5.815499782562256, -5.852700233459473, -5.871300220489502, -5.885000228881836, -5.911600112915039, -5.916800022125244, -4.258999824523926, -5.850200176239014, -5.507599830627441, -3.9356000423431396, -3.9677999019622803, -4.233399868011475, -4.354400157928467, -4.86929988861084, -4.961900234222412, -4.989099979400635, -5.027699947357178, -5.0295000076293945, -5.03879976272583, -5.132400035858154, -5.294000148773193, -5.326000213623047, -5.340700149536133, -5.3805999755859375, -5.387800216674805, -5.430200099945068, -5.489999771118164, -5.5233001708984375, -5.576000213623047, -5.5802998542785645, -5.596199989318848, -5.624300003051758, -5.631999969482422, -5.66480016708374, -5.68779993057251, -5.713799953460693, -5.781799793243408, -5.839600086212158, -5.842800140380859, -4.540900230407715, -4.172399997711182, -5.150599956512451, -3.898200035095215, -4.594900131225586, -4.888199806213379, -5.116099834442139, -5.0671000480651855, -5.479899883270264, -5.455999851226807, -5.428100109100342, -5.51230001449585]}, \"token.table\": {\"Topic\": [19, 2, 7, 20, 5, 5, 1, 12, 10, 13, 8, 16, 14, 1, 11, 10, 1, 2, 3, 4, 5, 7, 12, 9, 3, 8, 9, 12, 6, 9, 18, 13, 7, 15, 18, 1, 2, 4, 1, 1, 17, 10, 4, 5, 8, 14, 2, 1, 2, 5, 8, 9, 12, 13, 2, 17, 17, 9, 13, 9, 2, 10, 11, 18, 1, 2, 3, 20, 8, 2, 20, 2, 10, 13, 2, 12, 2, 1, 10, 5, 10, 3, 11, 1, 3, 17, 6, 17, 15, 20, 9, 3, 19, 17, 1, 12, 19, 1, 3, 7, 2, 3, 7, 7, 1, 1, 2, 4, 10, 19, 8, 9, 10, 13, 16, 19, 3, 4, 14, 11, 13, 2, 5, 7, 18, 13, 14, 8, 16, 17, 3, 16, 20, 11, 20, 5, 18, 6, 10, 8, 6, 1, 2, 4, 10, 12, 20, 16, 17, 8, 17, 20, 16, 1, 5, 11, 4, 18, 17, 1, 2, 3, 4, 5, 10, 20, 8, 11, 14, 14, 6, 11, 13, 1, 4, 9, 3, 9, 12, 1, 2, 4, 9, 20, 8, 10, 12, 14, 16, 19, 18, 1, 5, 8, 10, 12, 13, 6, 12, 2, 5, 20, 17, 1, 13, 3, 7, 10, 11, 7, 7, 7, 7, 19, 18, 6, 9, 18, 13, 2, 7, 10, 1, 2, 2, 8, 4, 10, 9, 14, 5, 10, 20, 11, 4, 1, 2, 3, 4, 7, 8, 2, 13, 8, 10, 15, 10, 5, 20, 3, 15, 18, 2, 2, 10, 12, 18, 20, 3, 9, 13, 18, 1, 2, 3, 9, 9, 18, 14, 2, 8, 10, 20, 2, 1, 2, 4, 5, 10, 12, 13, 4, 16, 9, 4, 8, 10, 18, 5, 4, 11, 1, 2, 3, 10, 11, 20, 2, 3, 9, 9, 8, 11, 18, 3, 5, 9, 9, 17, 10, 19, 1, 3, 5, 10, 14, 17, 19, 20, 1, 2, 4, 12, 18, 12, 17, 11, 17, 16, 4, 5, 8, 10, 12, 2, 3, 4, 14, 15, 3, 1, 3, 5, 7, 8, 11, 6, 3, 7, 13, 2, 10, 14, 2, 15, 1, 13, 15, 18, 18, 20, 15, 16, 1, 10, 12, 14, 20, 20, 14, 2, 5, 15, 15, 4, 10, 14, 3, 7, 5, 6, 9, 2, 2, 5, 15, 4, 10, 1, 11, 15, 1, 11, 1, 4, 8, 17, 18, 1, 8, 14, 1, 2, 3, 4, 7, 12, 3, 1, 11, 11, 1, 14, 20, 19, 1, 4, 1, 4, 3, 7, 8, 12, 20, 3, 16, 15, 5, 13, 19, 19, 10, 12, 1, 4, 18, 13, 10, 10, 8, 1, 1, 13, 14, 20, 9, 15, 20, 19, 12, 13, 16, 2, 4, 15, 20, 6, 2, 8, 1, 2, 3, 7, 10, 2, 5, 20, 14, 2, 4, 12, 4, 11, 2, 16, 3, 16, 2, 3, 7, 18, 14, 4, 18, 7, 4, 5, 18, 19, 13, 9, 3, 13, 4, 10, 2, 5, 14, 6, 10, 6, 9, 13, 16, 3, 18, 1, 2, 3, 8, 10, 12, 14, 17, 20, 12, 2, 12, 13, 2, 4, 5, 7, 20, 4, 2, 3, 16, 12, 16, 3, 13, 4, 20, 15, 19, 16, 16, 8, 12, 10, 5, 12, 4, 10, 20, 14, 19, 7, 14, 18, 5, 2, 8, 11, 2, 1, 3, 4, 18, 4, 16, 1, 2, 3, 1, 3, 14, 14, 7, 17, 1, 2, 3, 7, 14, 15, 8, 9, 10, 13, 15, 19, 19, 4, 2, 17, 3, 9, 12, 2, 3, 5, 8, 9, 7, 18, 9, 9, 20, 11, 17, 9, 10, 1, 3, 10, 6, 8, 3, 1, 3, 1, 14, 4, 3, 7, 16, 16, 13, 3, 18, 1, 2, 3, 4, 5, 19, 19, 19, 1, 3, 4, 8, 9, 10, 11, 12, 17, 1, 11, 14, 17, 14, 14, 1, 15, 15, 7, 7, 8, 1, 5, 5, 13, 3, 9, 16, 18, 1, 2, 4, 17, 2, 7, 9, 3, 15, 14, 4, 9, 5, 4, 5, 12, 3, 9, 2, 1, 4, 12, 2, 5, 9, 13, 20, 1, 4, 5, 2, 5, 10, 15, 8, 4, 10, 15, 2, 1, 20, 19, 1, 13, 5, 17, 13, 13, 2, 8, 9, 10, 11, 11, 2, 2, 13, 3, 16, 10, 10, 3, 3, 13, 7, 8, 1, 2, 3, 4, 7, 18, 8, 16, 3, 13, 20, 4, 1, 2, 3, 4, 5, 10, 11, 12, 3, 19, 3, 12, 7, 9, 9, 6, 17, 13, 9, 10, 18, 6, 19, 1, 2, 3, 10, 1, 2, 3, 12, 15, 5, 20, 2, 3, 7, 12, 16, 1, 2, 3, 1, 1, 5, 5, 8, 16, 18, 15, 17, 1, 3, 5, 7, 1, 3, 1, 3, 7, 1, 4, 11, 12, 16, 13, 4, 4, 11, 15, 10, 5, 5, 1, 2, 3, 4, 3, 7, 8, 13, 17, 1, 2, 3, 4, 5, 8, 8, 7, 6, 9, 10, 12, 13, 10, 11, 5, 3, 11, 1, 2, 5, 8, 10, 1, 2, 3, 7, 9, 15, 8, 2, 3, 4, 8, 4, 8, 1, 2, 5, 10, 12, 19, 19, 16, 11, 5, 11, 14, 11, 9, 13, 9, 16, 13, 12, 8, 11, 8, 5, 4, 1, 12, 4, 12, 3, 11, 4, 12, 18, 12, 5, 7, 6, 8, 8, 16, 5, 1, 20, 12, 4, 13, 8, 9, 3, 20, 2, 1, 2, 3, 11, 18, 1, 2, 4, 7, 20, 17, 7, 12, 8, 9, 18, 19, 10, 1, 2, 3, 4, 5, 10, 3, 5, 10, 18, 1, 2, 3, 7, 1, 2, 3, 4, 5, 8, 10, 11, 6, 3, 11, 17, 3, 5, 8, 5, 3, 14, 1, 20, 1, 7, 1, 2, 3, 7, 10, 13, 19, 6, 14, 15, 11, 3, 5, 3, 1, 19, 12, 6, 1, 5, 1, 12, 18, 18, 5, 2, 5, 7, 15, 12, 1, 2, 5, 11, 19, 2, 7, 15, 16, 3, 11, 4, 3, 17, 6, 2, 3, 7, 9, 1, 2, 2, 8, 14, 9, 4, 14, 4, 10, 18, 2, 3, 11, 5, 18, 20, 14, 8, 14, 15, 13, 17, 1, 2, 14, 14, 14, 13, 1, 2, 3, 14, 9, 9, 6, 16, 3, 9, 13, 4, 18, 1, 2, 5, 2, 18, 1, 2, 9, 12, 16, 6, 8, 2, 16, 18, 2, 15, 16, 4, 5, 11, 2, 10, 13, 9, 11, 16, 1, 2, 3, 4, 15, 4, 5, 10, 12, 9, 8, 12, 2, 9, 20, 9, 11, 15, 5, 2, 9, 10, 11, 13, 2, 5, 6, 6, 1, 2, 4, 5, 5, 12, 4, 17, 13, 1, 2, 11, 8, 19, 1, 2, 4, 5, 7, 20, 15, 1, 2, 3, 13, 5, 7, 12, 15, 20, 9, 13, 16, 17, 7, 1, 5, 11, 15, 17, 2, 5, 11, 13, 1, 8, 15, 16, 8, 15, 2, 9, 1, 2, 3, 4, 8, 13, 17, 18, 20, 15, 4, 11, 11, 11, 1, 2, 3, 9, 16, 11, 11, 16, 17, 1, 4, 12, 13, 1, 8, 11, 2, 20, 1, 3, 4, 5, 11, 14, 17, 2, 1, 3, 20, 5, 11, 8, 8, 11, 7, 8, 1, 2, 3, 7, 11, 12, 8, 8, 15, 8, 15, 20, 14, 4, 11, 7, 4, 16, 15, 14, 11, 1, 2, 4, 8, 14, 13, 10, 9, 10, 13, 1, 2, 3, 4, 16, 1, 5, 10, 11, 9, 2, 3, 5, 2, 7, 17, 5, 2, 3, 5, 9, 18, 2, 3, 4, 5, 16, 20, 4, 7, 10, 4, 16, 17, 20, 11, 19, 3, 12, 7, 6, 5, 12, 4, 5, 10, 11, 12, 20, 12, 16, 3, 4, 4, 5, 13, 3, 3, 4, 15, 7, 1, 2, 4, 5, 7, 12, 13, 20, 13, 12, 8, 7, 10, 5, 20, 3, 1, 4, 13, 1, 3, 4, 14, 11, 1, 2, 9, 13, 2, 12, 3, 3, 20, 1, 6, 20, 5, 8, 18, 7, 8, 3, 15, 17, 17, 11, 5, 6, 4, 15, 16, 2, 3, 4, 5, 9, 12, 1, 2, 4, 5, 10, 12, 10, 16, 1, 2, 3, 1, 2, 3, 7, 14, 19, 10, 4, 3, 11, 16, 14, 5, 10, 12, 15, 1, 2, 3, 4, 7, 2, 4, 5, 13, 13, 1, 4, 15, 1, 4, 5, 1, 3, 2, 1, 2, 3, 7, 1, 2, 3, 7, 15, 1, 2, 10, 10, 6, 1, 2, 3, 4, 8, 10, 18, 11, 2, 3, 9, 13, 17, 13, 16, 14, 19, 2, 3, 11, 12, 11, 13, 14, 13, 15, 10, 3, 1, 2, 4, 7, 2, 7, 1, 2, 3, 4, 17, 17, 17, 4, 10, 12, 9, 15, 1, 5, 8, 11, 14, 17, 5, 5, 1, 5, 8, 10, 11, 1, 2, 4, 5, 9, 10, 12, 15, 18, 4, 5, 10, 2, 11, 20, 12, 14, 2, 5, 13, 17, 7, 4, 5, 4, 20, 4, 4, 2, 5, 7, 4, 18, 12, 18, 2, 8, 20, 4, 8, 10, 16, 1, 1, 2, 3, 4, 8, 9, 16, 16, 1, 2, 3, 9, 3, 1, 2, 3, 16, 1, 5, 14, 16, 4, 16, 2, 14, 6, 18, 10, 18, 3, 7, 1, 3, 2, 4, 5, 7, 1, 2, 3, 4, 10, 15, 17, 2, 3, 4, 7, 17, 2, 1, 2, 3, 19, 1, 2, 3, 7, 4, 19, 19, 17, 1, 2, 3, 5, 7, 8, 9, 11, 13, 15, 17, 18, 20, 2, 3, 8, 11, 14, 17, 11, 2, 4, 3, 14, 7], \"Freq\": [0.9989014863967896, 0.8100677728652954, 0.17653889954090118, 0.012290682643651962, 0.9985736012458801, 0.9987411499023438, 0.9976372122764587, 0.9965841770172119, 0.8561244010925293, 0.14187204837799072, 0.18576525151729584, 0.8122676610946655, 0.9941777586936951, 0.9970505237579346, 0.992348849773407, 0.9969046115875244, 0.2607005536556244, 0.3731811046600342, 0.05810399353504181, 0.06490106135606766, 0.2032543420791626, 0.015128964558243752, 0.02455716021358967, 0.9903777241706848, 0.3076123595237732, 0.15238642692565918, 0.5395047664642334, 0.9955844879150391, 0.9867262244224548, 0.26907262206077576, 0.7259883880615234, 0.996194064617157, 0.9944328665733337, 0.9940077662467957, 0.9921382069587708, 0.07017269730567932, 0.891453206539154, 0.03725217282772064, 0.9978805184364319, 0.9996877908706665, 0.9957113265991211, 0.9988003969192505, 0.2521542012691498, 0.7463763952255249, 0.8934988379478455, 0.10409695655107498, 0.9969689846038818, 0.4366537630558014, 0.12053463608026505, 0.08755818009376526, 0.036387816071510315, 0.027290860190987587, 0.06367867439985275, 0.22628672420978546, 0.9981637597084045, 0.9950516819953918, 0.9993882775306702, 0.03274011239409447, 0.9634947180747986, 0.9982381463050842, 0.07977094501256943, 0.03589692711830139, 0.2632441222667694, 0.6182248592376709, 0.8879023790359497, 0.10268348455429077, 0.009358828887343407, 0.9974987506866455, 0.9940873980522156, 0.9962590336799622, 0.9882055521011353, 0.07652297616004944, 0.07652297616004944, 0.8457802534103394, 0.99836266040802, 0.9930402040481567, 0.9951324462890625, 0.9972761273384094, 0.9967872500419617, 0.9109091758728027, 0.08823267370462418, 0.013523069210350513, 0.9804225564002991, 0.014973183162510395, 0.9122123718261719, 0.07141056656837463, 0.9999755620956421, 0.9965071082115173, 0.9946953654289246, 0.994428813457489, 0.992321789264679, 0.6209011673927307, 0.37734323740005493, 0.9967250823974609, 0.9967828989028931, 0.9945454597473145, 0.9904878735542297, 0.4605478346347809, 0.5393355488777161, 0.9991258978843689, 0.3584021329879761, 0.3758426308631897, 0.2655315101146698, 0.9988458752632141, 0.9989559054374695, 0.18135148286819458, 0.06755038350820541, 0.42964479327201843, 0.3207121789455414, 0.988361120223999, 0.13127687573432922, 0.1055922657251358, 0.7619765996932983, 0.4150293171405792, 0.5810410380363464, 0.9985396862030029, 0.017625149339437485, 0.9630885124206543, 0.017625149339437485, 0.9926820993423462, 0.9921550750732422, 0.3876763582229614, 0.31211230158805847, 0.2273491770029068, 0.07162155956029892, 0.9937015175819397, 0.9969781637191772, 0.9956881999969482, 0.98954838514328, 0.99032062292099, 0.9678323268890381, 0.028890516608953476, 0.9914169311523438, 0.9959526658058167, 0.9950673580169678, 0.9943177103996277, 0.988510251045227, 0.9965140223503113, 0.9923458695411682, 0.9951748847961426, 0.9931250810623169, 0.24935807287693024, 0.07423637062311172, 0.16560421884059906, 0.046635668724775314, 0.3692783713340759, 0.09422308951616287, 0.8796176910400391, 0.11879893392324448, 0.5662914514541626, 0.42949071526527405, 0.9970799088478088, 0.9938135147094727, 0.9995564222335815, 0.8926815390586853, 0.10708579421043396, 0.60176682472229, 0.39806312322616577, 0.9939610958099365, 0.2197875678539276, 0.25405368208885193, 0.24643898010253906, 0.0034612216986715794, 0.24159327149391174, 0.034266095608472824, 0.9904349446296692, 0.08256708085536957, 0.6623315811157227, 0.25308606028556824, 0.9976959824562073, 0.9922382235527039, 0.9914360642433167, 0.994454026222229, 0.9995710849761963, 0.9694643020629883, 0.029814381152391434, 0.3940707743167877, 0.4156864881515503, 0.18955303728580475, 0.20059701800346375, 0.5840553641319275, 0.0324135422706604, 0.18224972486495972, 0.0006115762516856194, 0.9962390065193176, 0.11331214755773544, 0.12747615575790405, 0.03304937481880188, 0.7176435589790344, 0.9918244481086731, 0.9909173250198364, 0.20851154625415802, 0.03942445293068886, 0.482730507850647, 0.012265385128557682, 0.022778572514653206, 0.2347945123910904, 0.9954237937927246, 0.9937381148338318, 0.22087359428405762, 0.5257751941680908, 0.25208398699760437, 0.9972182512283325, 0.9964902997016907, 0.9982487559318542, 0.6174306273460388, 0.38143491744995117, 0.9988006949424744, 0.9916568398475647, 0.9963384866714478, 0.9993917346000671, 0.9979066252708435, 0.9974743127822876, 0.9967877268791199, 0.9972085952758789, 0.9923380613327026, 0.9977981448173523, 0.9893010854721069, 0.9936602711677551, 0.9341738820075989, 0.06546418368816376, 0.9964405298233032, 0.04171312600374222, 0.9564223885536194, 0.9982390403747559, 0.9966524839401245, 0.9956281781196594, 0.998511552810669, 0.9981535077095032, 0.9946346879005432, 0.4719686508178711, 0.2546435594558716, 0.2722051739692688, 0.99437415599823, 0.9988611936569214, 0.19519422948360443, 0.004109352361410856, 0.6988834142684937, 0.016437409445643425, 0.08512229472398758, 0.9932177066802979, 0.10889504849910736, 0.8867167830467224, 0.07486805319786072, 0.9233726859092712, 0.9941494464874268, 0.9966937303543091, 0.5692980885505676, 0.4238569736480713, 0.994884729385376, 0.9986379742622375, 0.993939995765686, 0.9965890645980835, 0.9800190329551697, 0.017022663727402687, 0.992071807384491, 0.9978808760643005, 0.9925826787948608, 0.021478135138750076, 0.9020817279815674, 0.07517347484827042, 0.9974255561828613, 0.16948829591274261, 0.749052107334137, 0.05314463749527931, 0.02729048952460289, 0.9972543120384216, 0.9933866858482361, 0.997718095779419, 0.32754644751548767, 0.08537114411592484, 0.4547320306301117, 0.13067011535167694, 0.9974738955497742, 0.1392521858215332, 0.3454729914665222, 0.045708734542131424, 0.08185052126646042, 0.008503950200974941, 0.19984284043312073, 0.17858295142650604, 0.9964964985847473, 0.993036150932312, 0.9965532422065735, 0.4364541471004486, 0.25083571672439575, 0.07525071501731873, 0.235785573720932, 0.9967334270477295, 0.04921763390302658, 0.9494901895523071, 0.3395114839076996, 0.12078773975372314, 0.5220533013343811, 0.017410844564437866, 0.9963779449462891, 0.9951454401016235, 0.19973361492156982, 0.5318488478660583, 0.26708564162254333, 0.9964599013328552, 0.2506833076477051, 0.2672118842601776, 0.4807059168815613, 0.9959718585014343, 0.9972041249275208, 0.9976577162742615, 0.9982141852378845, 0.994958758354187, 0.9948227405548096, 0.9858519434928894, 0.002545918570831418, 0.002545918570831418, 0.002545918570831418, 0.002545918570831418, 0.005091837141662836, 0.002545918570831418, 0.9750868678092957, 0.005091837141662836, 0.2839930057525635, 0.19234071671962738, 0.14328737556934357, 0.09939754754304886, 0.2788294851779938, 0.9920942187309265, 0.9932057857513428, 0.9939930438995361, 0.9915333986282349, 0.9919175505638123, 0.14213861525058746, 0.38359203934669495, 0.09111449867486954, 0.27607694268226624, 0.1066039651632309, 0.0927186906337738, 0.33097049593925476, 0.2312098890542984, 0.04811982437968254, 0.2957608699798584, 0.9974433779716492, 0.05145280808210373, 0.7420260310173035, 0.008079366758465767, 0.06165832653641701, 0.13649877905845642, 0.9961269497871399, 0.9836502075195312, 0.4466266930103302, 0.4277551472187042, 0.12581034004688263, 0.9975650310516357, 0.9948509335517883, 0.9930210113525391, 0.9959582686424255, 0.994589626789093, 0.4147800803184509, 0.272199422121048, 0.2803006172180176, 0.03240469470620155, 0.7598149180412292, 0.23744216561317444, 0.90672367811203, 0.09252282977104187, 0.39905157685279846, 0.24921612441539764, 0.3501257300376892, 0.9961563348770142, 0.9932469725608826, 0.9884663224220276, 0.9960126280784607, 0.18565304577350616, 0.2943280041217804, 0.5184701085090637, 0.996428370475769, 0.3000585734844208, 0.6981850862503052, 0.9976149797439575, 0.4524447023868561, 0.5466187000274658, 0.9975998997688293, 0.9888469576835632, 0.9974631071090698, 0.9972407221794128, 0.9585620760917664, 0.039372216910123825, 0.9948009252548218, 0.9356485605239868, 0.06302296370267868, 0.9988715648651123, 0.909426212310791, 0.08896560966968536, 0.9255497455596924, 0.07311344146728516, 0.8624205589294434, 0.02349005453288555, 0.0469801090657711, 0.06599586457014084, 0.9949896335601807, 0.1891486793756485, 0.2014310657978058, 0.6067496538162231, 0.20329420268535614, 0.0028700358234345913, 0.7124385833740234, 0.08112634718418121, 0.0001913357264129445, 0.9975231885910034, 0.9963674545288086, 0.9960430860519409, 0.9977919459342957, 0.996063768863678, 0.9965194463729858, 0.9961414337158203, 0.9918679594993591, 0.9935234189033508, 0.3224935531616211, 0.6770421862602234, 0.18831093609333038, 0.8099510669708252, 0.9979894757270813, 0.30164989829063416, 0.2929818034172058, 0.4021998643875122, 0.9968023896217346, 0.9942012429237366, 0.9967607855796814, 0.9910109043121338, 0.99685138463974, 0.9916645288467407, 0.9919442534446716, 0.9975784420967102, 0.6839972138404846, 0.31349870562553406, 0.34910282492637634, 0.5035808682441711, 0.14662319421768188, 0.9918990731239319, 0.9979392290115356, 0.9986363053321838, 0.9949069619178772, 0.9979798197746277, 0.9984681010246277, 0.8460739254951477, 0.14766384661197662, 0.9945252537727356, 0.9355183243751526, 0.06050616130232811, 0.995696485042572, 0.9837948679924011, 0.14333750307559967, 0.7435632944107056, 0.10750312358140945, 0.24115779995918274, 0.4672432243824005, 0.013565125875175, 0.2788386940956116, 0.9896835088729858, 0.9961043000221252, 0.9947612285614014, 0.10009295493364334, 0.27104535698890686, 0.6253426671028137, 0.0009532662224955857, 0.002542043337598443, 0.8928965330123901, 0.0868820771574974, 0.01988866738975048, 0.9965905547142029, 0.9380353093147278, 0.06131470203399658, 0.9968910217285156, 0.3305669128894806, 0.6662588715553284, 0.2583311200141907, 0.7412980198860168, 0.9837712645530701, 0.01464671827852726, 0.7979813814163208, 0.20142151415348053, 0.9972608089447021, 0.9952932596206665, 0.9984039664268494, 0.12036868184804916, 0.8784801959991455, 0.9958899617195129, 0.13464492559432983, 0.8467361330986023, 0.016657104715704918, 0.9939523339271545, 0.9912810921669006, 0.9965739250183105, 0.4729590117931366, 0.5255100131034851, 0.9480028748512268, 0.05118325352668762, 0.3151807487010956, 0.06635384261608124, 0.6161428093910217, 0.98781818151474, 0.9975806474685669, 0.9941043257713318, 0.30811530351638794, 0.13280832767486572, 0.557794988155365, 0.9954302906990051, 0.9933954477310181, 0.21406368911266327, 0.3212684392929077, 0.21890519559383392, 0.039423681795597076, 0.023515881970524788, 0.05048998072743416, 0.08126811683177948, 0.045302651822566986, 0.005533148534595966, 0.9971591234207153, 0.10031183809041977, 0.7280697822570801, 0.16826501488685608, 0.6049509644508362, 0.06541632860898972, 0.22985737025737762, 0.06061512604355812, 0.039009734988212585, 0.998633086681366, 0.6179064512252808, 0.03131282702088356, 0.3486161530017853, 0.20273059606552124, 0.7937418222427368, 0.9883788824081421, 0.006459992844611406, 0.9977934956550598, 0.9953081607818604, 0.9952785968780518, 0.9885121583938599, 0.9969412088394165, 0.9925728440284729, 0.9939098358154297, 0.9929845333099365, 0.9950180649757385, 0.9950026273727417, 0.9911453127861023, 0.10769452899694443, 0.16346491873264313, 0.7269380688667297, 0.9991303086280823, 0.9969316124916077, 0.9950839877128601, 0.9938892722129822, 0.9895504713058472, 0.9948746562004089, 0.9963323473930359, 0.9703803658485413, 0.02933708019554615, 0.9950618743896484, 0.5471225380897522, 0.3835257589817047, 0.06917473673820496, 0.9908642768859863, 0.9948732256889343, 0.9963924884796143, 0.22956326603889465, 0.4055807590484619, 0.36456698179244995, 0.14474791288375854, 0.8421226739883423, 0.012923921458423138, 0.9978999495506287, 0.9994713664054871, 0.9888044595718384, 0.6046810746192932, 0.06830894201993942, 0.27635741233825684, 0.009915814734995365, 0.040581390261650085, 0.9986506700515747, 0.9943946003913879, 0.9243565797805786, 0.03550811856985092, 0.04008981212973595, 0.9930672645568848, 0.9868634939193726, 0.9864855408668518, 0.9989756941795349, 0.19991463422775269, 0.7974616885185242, 0.20080988109111786, 0.13550585508346558, 0.6644684672355652, 0.5289667844772339, 0.13430796563625336, 0.3233722746372223, 0.01239765901118517, 0.9955446720123291, 0.21415776014328003, 0.783205509185791, 0.9989044070243835, 0.993854820728302, 0.989003598690033, 0.9962612986564636, 0.9965229034423828, 0.9941535592079163, 0.9985396862030029, 0.008699270896613598, 0.9909260869026184, 0.9976006150245667, 0.9931319355964661, 0.9951560497283936, 0.9983111619949341, 0.500374436378479, 0.4990082383155823, 0.06709542125463486, 0.9297508001327515, 0.9983276724815369, 0.9983188509941101, 0.8349440097808838, 0.15967056155204773, 0.9894856810569763, 0.9949408769607544, 0.9987525939941406, 0.9947043061256409, 0.5566343665122986, 0.06266138702630997, 0.0772976204752922, 0.24012574553489685, 0.06357614696025848, 0.9899975657463074, 0.9970695972442627, 0.9954479932785034, 0.4306461215019226, 0.06152087450027466, 0.0702061727643013, 0.06369219720363617, 0.032569874078035355, 0.033293649554252625, 0.06948240101337433, 0.23812197148799896, 0.9911807179450989, 0.33589252829551697, 0.38025569915771484, 0.28202298283576965, 0.9876552224159241, 0.9984317421913147, 0.9960649013519287, 0.995527446269989, 0.9965000152587891, 0.9976431727409363, 0.9940460324287415, 0.9942564368247986, 0.992290198802948, 0.9846745729446411, 0.015182745642960072, 0.3424011170864105, 0.6558158993721008, 0.3143480122089386, 0.4150013327598572, 0.027873223647475243, 0.2415679395198822, 0.17397433519363403, 0.7599548101425171, 0.06551335006952286, 0.9932149052619934, 0.6219385266304016, 0.3771595060825348, 0.9968013167381287, 0.9976748824119568, 0.9977587461471558, 0.9958029985427856, 0.9958378672599792, 0.9947844743728638, 0.9985995888710022, 0.24014350771903992, 0.7585020661354065, 0.0009761931141838431, 0.997428297996521, 0.9928931593894958, 0.9979683756828308, 0.8138830661773682, 0.18190233409404755, 0.0031183259561657906, 0.17865432798862457, 0.7800322771072388, 0.004397645127028227, 0.021988224238157272, 0.014292346313595772, 0.0980115756392479, 0.24868609011173248, 0.652435302734375, 0.06375601142644882, 0.7436650395393372, 0.16101883351802826, 0.031179947778582573, 0.9938949346542358, 0.9634722471237183, 0.03499792516231537, 0.9928951859474182, 0.9950042366981506, 0.9965004324913025, 0.9876346588134766, 0.9910704493522644, 0.9971254467964172, 0.9968926310539246, 0.9985591769218445, 0.9908505082130432, 0.9978595972061157, 0.9988731145858765, 0.7953762412071228, 0.02050379104912281, 0.1717192530632019, 0.011960544623434544, 0.997103214263916, 0.9957289099693298, 0.9971356391906738, 0.4761451482772827, 0.5216894745826721, 0.998022198677063, 0.9894139170646667, 0.9991405010223389, 0.9971638321876526, 0.998638391494751, 0.6387091875076294, 0.3604144752025604, 0.9972099661827087, 0.9939651489257812, 0.4299498200416565, 0.07789839804172516, 0.46053314208984375, 0.006720108445733786, 0.024823257699608803, 0.9930435419082642, 0.9972929358482361, 0.9922851920127869, 0.18800897896289825, 0.8086650967597961, 0.989670991897583, 0.9978451728820801, 0.2668531537055969, 0.21531498432159424, 0.11796512454748154, 0.0194699726998806, 0.07673459500074387, 0.011452924460172653, 0.04924757778644562, 0.24280200898647308, 0.9957118630409241, 0.988166868686676, 0.9945202469825745, 0.9979562163352966, 0.3177291452884674, 0.6815059781074524, 0.9967606663703918, 0.989427924156189, 0.9977014064788818, 0.9942159056663513, 0.9674715995788574, 0.029516082257032394, 0.9921835064888, 0.9961749315261841, 0.983535885810852, 0.16625095903873444, 0.035498425364494324, 0.7910232543945312, 0.00709968525916338, 0.17736279964447021, 0.3795042335987091, 0.06520691514015198, 0.32733869552612305, 0.05086139217019081, 0.9985210299491882, 0.9941132664680481, 0.17824120819568634, 0.411239892244339, 0.4101223945617676, 0.10588661581277847, 0.8918337225914001, 0.896088719367981, 0.08278290927410126, 0.020332643762230873, 0.9974798560142517, 0.9800947308540344, 0.0198532622307539, 0.8818416595458984, 0.0374213270843029, 0.08053719997406006, 0.9973863959312439, 0.9931305050849915, 0.9943076968193054, 0.6093957424163818, 0.3076108694076538, 0.08301997929811478, 0.9961488842964172, 0.6141335964202881, 0.3855603337287903, 0.1815771907567978, 0.29346799850463867, 0.5241201519966125, 0.44960230588912964, 0.03289772942662239, 0.23028410971164703, 0.285113662481308, 0.9884114861488342, 0.9960929155349731, 0.9988888502120972, 0.9982421398162842, 0.9011355638504028, 0.09595424681901932, 0.9939611554145813, 0.9994650483131409, 0.9942260384559631, 0.25001439452171326, 0.3662553131580353, 0.3808073401451111, 0.002980536315590143, 0.3319492042064667, 0.5488923788070679, 0.013068865984678268, 0.06926499307155609, 0.03659282624721527, 0.1068911999464035, 0.6103955507278442, 0.22745871543884277, 0.0014396121259778738, 0.05362555384635925, 0.9959065318107605, 0.9968240261077881, 0.9953088760375977, 0.9899555444717407, 0.3944646716117859, 0.03782537952065468, 0.5673807263374329, 0.9960895776748657, 0.020312026143074036, 0.9749772548675537, 0.9981449246406555, 0.9985978007316589, 0.999754786491394, 0.3031489849090576, 0.5848360657691956, 0.07265738397836685, 0.027498025447130203, 0.011848743073642254, 0.07835399359464645, 0.7077977657318115, 0.20720279216766357, 0.0030470998026430607, 0.0034823997411876917, 0.9981380701065063, 0.9959113597869873, 0.16889560222625732, 0.19141501188278198, 0.033779118210077286, 0.6035202741622925, 0.9969685077667236, 0.9957447648048401, 0.9987793564796448, 0.1945429891347885, 0.4899899959564209, 0.3148205876350403, 0.9948569536209106, 0.994684100151062, 0.99371737241745, 0.9959214329719543, 0.9921314716339111, 0.09789056330919266, 0.6992183327674866, 0.202773317694664, 0.9965769648551941, 0.19262683391571045, 0.8047520518302917, 0.9941677451133728, 0.9954922795295715, 0.9956894516944885, 0.9975460171699524, 0.994072437286377, 0.9929479360580444, 0.9958991408348083, 0.9962641000747681, 0.9983028173446655, 0.6107683181762695, 0.3869463801383972, 0.9982504844665527, 0.9968387484550476, 0.9086477756500244, 0.08995221555233002, 0.9703772664070129, 0.02787439338862896, 0.9902070164680481, 0.9941047430038452, 0.9955825209617615, 0.9957807064056396, 0.9911518096923828, 0.9971055388450623, 0.9926992654800415, 0.9978716373443604, 0.9985750317573547, 0.997308075428009, 0.9957610964775085, 0.995232105255127, 0.9967501759529114, 0.9961378574371338, 0.8396232724189758, 0.1588476449251175, 0.9994829297065735, 0.9810432195663452, 0.9974032640457153, 0.5558205246925354, 0.15602600574493408, 0.2876397669315338, 0.12928371131420135, 0.8680477738380432, 0.08604057878255844, 0.8104301691055298, 0.0685233399271965, 0.02215416170656681, 0.012365113943815231, 0.9929212927818298, 0.9937731623649597, 0.996877908706665, 0.6933598518371582, 0.3042958676815033, 0.0010867709061130881, 0.9830355048179626, 0.9970370531082153, 0.5839388370513916, 0.09523072093725204, 0.06338507682085037, 0.13963089883327484, 0.016841445118188858, 0.10074246674776077, 0.9959785342216492, 0.8552101850509644, 0.14425231516361237, 0.9950836896896362, 0.1769668459892273, 0.04028927907347679, 0.736426830291748, 0.045899178832769394, 0.43585795164108276, 0.17491668462753296, 0.003504705848172307, 0.012425774708390236, 0.20104266703128815, 0.0369587168097496, 0.10641561448574066, 0.028037646785378456, 0.990803062915802, 0.33826130628585815, 0.49767181277275085, 0.163298562169075, 0.3999643623828888, 0.34524086117744446, 0.25430330634117126, 0.9973545074462891, 0.993225634098053, 0.9980682730674744, 0.9988101124763489, 0.9885331392288208, 0.9998632073402405, 0.9978944063186646, 0.2435079962015152, 0.02412368170917034, 0.731874406337738, 0.0004910673014819622, 0.9938176274299622, 0.975680410861969, 0.020612966269254684, 0.995425283908844, 0.993372917175293, 0.9973010420799255, 0.9980863928794861, 0.26467034220695496, 0.7347072958946228, 0.9954627156257629, 0.9988329410552979, 0.9959401488304138, 0.9961057901382446, 0.99039226770401, 0.9975659847259521, 0.002333487616851926, 0.996462881565094, 0.9920738339424133, 0.9868754744529724, 0.9968299269676208, 0.998082160949707, 0.3431028127670288, 0.6556104421615601, 0.9954590201377869, 0.9917879700660706, 0.9946113228797913, 0.13284195959568024, 0.6754888296127319, 0.1297088861465454, 0.057648394256830215, 0.004386290907859802, 0.9963989853858948, 0.9966418743133545, 0.9974071979522705, 0.9986757636070251, 0.5426275134086609, 0.45609214901924133, 0.9987536072731018, 0.9973508715629578, 0.9918448328971863, 0.9812319874763489, 0.3503999710083008, 0.5966109037399292, 0.0348617248237133, 0.018025096505880356, 0.17469923198223114, 0.8243619799613953, 0.3908374011516571, 0.07374290376901627, 0.5334070324897766, 0.9976828098297119, 0.9990745186805725, 0.9943884015083313, 0.20117390155792236, 0.6979752779006958, 0.09936027973890305, 0.9954566359519958, 0.35199427604675293, 0.646641194820404, 0.9970570802688599, 0.8990985155105591, 0.09381897747516632, 0.9963949918746948, 0.9932045936584473, 0.4978199899196625, 0.5004679560661316, 0.9944988489151001, 0.992270827293396, 0.14741139113903046, 0.11869487911462784, 0.7332280278205872, 0.9987837076187134, 0.9965537190437317, 0.99654620885849, 0.08306106925010681, 0.6520682573318481, 0.2123103141784668, 0.05239833891391754, 0.9989563822746277, 0.9984248876571655, 0.9963611364364624, 0.9937451481819153, 0.15567415952682495, 0.15256068110466003, 0.6911932826042175, 0.9980188608169556, 0.9883983731269836, 0.3608774244785309, 0.37926608324050903, 0.25935670733451843, 0.9961487054824829, 0.9879696369171143, 0.3356672525405884, 0.1761094331741333, 0.0860685259103775, 0.3495706021785736, 0.05164111405611038, 0.9881616830825806, 0.9962219595909119, 0.9795189499855042, 0.0016084054950624704, 0.016084054484963417, 0.9995330572128296, 0.048225414007902145, 0.9452181458473206, 0.19661517441272736, 0.046952877193689346, 0.7551587820053101, 0.9973429441452026, 0.9961650371551514, 0.9966835975646973, 0.8556045889854431, 0.14213626086711884, 0.9975230097770691, 0.40588048100471497, 0.16202086210250854, 0.07686879485845566, 0.3548555076122284, 0.9978044033050537, 0.26898056268692017, 0.7139760255813599, 0.0037186252884566784, 0.01301518827676773, 0.9929805397987366, 0.32064199447631836, 0.677547037601471, 0.9980543851852417, 0.20596764981746674, 0.7935812473297119, 0.9987369179725647, 0.10015737265348434, 0.8974100351333618, 0.995940089225769, 0.08133598417043686, 0.7558824419975281, 0.16158749163150787, 0.7426602244377136, 0.2549799978733063, 0.9971546530723572, 0.9974284768104553, 0.9849346876144409, 0.9910016655921936, 0.35890188813209534, 0.6321974396705627, 0.004656411707401276, 0.003940040711313486, 0.995160698890686, 0.9979666471481323, 0.9972029328346252, 0.9931753277778625, 0.9919753670692444, 0.19710369408130646, 0.8022608757019043, 0.9948959350585938, 0.9516165256500244, 0.04340706765651703, 0.3934544026851654, 0.5060771107673645, 0.06138661876320839, 0.007733747363090515, 0.013050698675215244, 0.01740093156695366, 0.9973114132881165, 0.06397774070501328, 0.8272322416305542, 0.10812238603830338, 0.989567756652832, 0.5068166255950928, 0.14089922606945038, 0.050471365451812744, 0.2765410244464874, 0.024184195324778557, 0.9943271279335022, 0.0839434564113617, 0.8627521991729736, 0.046635255217552185, 0.9984029531478882, 0.9353860020637512, 0.010694490745663643, 0.005729191470891237, 0.02520844340324402, 0.02291676588356495, 0.3772647976875305, 0.265482634305954, 0.048904694616794586, 0.30623653531074524, 0.2590930461883545, 0.4689466655254364, 0.27081671357154846, 0.9965642690658569, 0.9954991936683655, 0.9932616949081421, 0.9982514381408691, 0.9926729202270508, 0.09096959978342056, 0.20537076890468597, 0.22191068530082703, 0.015161599963903427, 0.12267112731933594, 0.07029469311237335, 0.04824145510792732, 0.02205323614180088, 0.20261411368846893, 0.997795820236206, 0.13251015543937683, 0.8631067276000977, 0.9957509636878967, 0.9974976181983948, 0.17431730031967163, 0.11610063910484314, 0.43945255875587463, 0.2697926163673401, 0.9979708194732666, 0.9944737553596497, 0.5229957103729248, 0.07293477654457092, 0.40203070640563965, 0.9969334006309509, 0.001613160828128457, 0.8656532764434814, 0.12947805225849152, 0.5069287419319153, 0.491410493850708, 0.993204653263092, 0.9820358753204346, 0.017113225534558296, 0.3463030457496643, 0.07722720503807068, 0.41946566104888916, 0.09104681015014648, 0.004471048712730408, 0.04227173328399658, 0.018697112798690796, 0.997617244720459, 0.10976531356573105, 0.8901699185371399, 0.9871121048927307, 0.4425680339336395, 0.5560470223426819, 0.9953240156173706, 0.9186007976531982, 0.07845700532197952, 0.9927975535392761, 0.995566725730896, 0.0007240811246447265, 0.1836269646883011, 0.7505824565887451, 0.06487766653299332, 0.12284469604492188, 0.8697404861450195, 0.9979539513587952, 0.10000688582658768, 0.8988118767738342, 0.11245837062597275, 0.8849985003471375, 0.9904987215995789, 0.9981676936149597, 0.9990452527999878, 0.9953417181968689, 0.9945714473724365, 0.9974609017372131, 0.9933585524559021, 0.9958852529525757, 0.9983181357383728, 0.9951477646827698, 0.43216845393180847, 0.33750298619270325, 0.055976103991270065, 0.01481720432639122, 0.15887334942817688, 0.9888692498207092, 0.995241641998291, 0.1144028976559639, 0.726108193397522, 0.15642845630645752, 0.19154155254364014, 0.2326022833585739, 0.5635698437690735, 0.01195724681019783, 0.9921382665634155, 0.16881170868873596, 0.07801147550344467, 0.04731843248009682, 0.7046610116958618, 0.9971609711647034, 0.006931664422154427, 0.14903078973293304, 0.8435835838317871, 0.9852465391159058, 0.011927924118936062, 0.9979632496833801, 0.9993829727172852, 0.005444420035928488, 0.14482156932353973, 0.711041271686554, 0.10235510021448135, 0.0348442867398262, 0.20553839206695557, 0.1867264062166214, 0.40271589159965515, 0.08430557698011398, 0.012541325762867928, 0.10799474269151688, 0.9983873963356018, 0.9960257411003113, 0.993423581123352, 0.12377133220434189, 0.8717806935310364, 0.12235132604837418, 0.8686944246292114, 0.9936187863349915, 0.9931727051734924, 0.9965944290161133, 0.9971198439598083, 0.99534672498703, 0.9912896156311035, 0.9672853350639343, 0.030227666720747948, 0.5327175855636597, 0.005041491240262985, 0.042012427002191544, 0.09074684232473373, 0.14620324969291687, 0.18149368464946747, 0.9937039613723755, 0.994664192199707, 0.9680298566818237, 0.03006303869187832, 0.3584776222705841, 0.6411080956459045, 0.9955981373786926, 0.9950211048126221, 0.4622131884098053, 0.08179080486297607, 0.4527026116847992, 0.9926603436470032, 0.9146685600280762, 0.054736070334911346, 0.028808459639549255, 0.7778778076171875, 0.06977327913045883, 0.0009428822086192667, 0.12351756542921066, 0.02734358422458172, 0.9909834861755371, 0.9994230270385742, 0.9936302900314331, 0.9984440803527832, 0.9972071647644043, 0.9960120916366577, 0.9974215626716614, 0.9985961318016052, 0.33619314432144165, 0.5104182362556458, 0.15233752131462097, 0.12206202745437622, 0.788872480392456, 0.0714249387383461, 0.01758972369134426, 0.9973484873771667, 0.284037321805954, 0.27865469455718994, 0.3900337517261505, 0.04720153659582138, 0.9982094168663025, 0.9978964924812317, 0.9951382279396057, 0.9969489574432373, 0.9841341972351074, 0.9970014691352844, 0.994662880897522, 0.9935832023620605, 0.18562276661396027, 0.7877069115638733, 0.02617757022380829, 0.27949315309524536, 0.7197310924530029, 0.9953115582466125, 0.9971403479576111, 0.9931287169456482, 0.9968770742416382, 0.9956639409065247, 0.9983528256416321, 0.9964609146118164, 0.26107028126716614, 0.1491830050945282, 0.5892729163169861, 0.3072420060634613, 0.04302600026130676, 0.3411779999732971, 0.21452400088310242, 0.09392999857664108, 0.9983848929405212, 0.014494684524834156, 0.20115073025226593, 0.380707323551178, 0.12601500749588013, 0.19730520248413086, 0.08016447722911835, 0.037966955453157425, 0.9567672610282898, 0.15075278282165527, 0.12212143838405609, 0.7268854975700378, 0.0023585085291415453, 0.13993816077709198, 0.8372704982757568, 0.02044040709733963, 0.991684079170227, 0.9984143376350403, 0.9958428144454956, 0.9956851005554199, 0.9367257952690125, 0.06244838610291481, 0.9969609975814819, 0.9990130066871643, 0.3907701373100281, 0.4508216679096222, 0.15752649307250977, 0.9940420389175415, 0.13923494517803192, 0.05270475521683693, 0.8047308325767517, 0.0007866381201893091, 0.0023599143605679274, 0.9917289614677429, 0.006370849907398224, 0.9954879283905029, 0.9926194548606873, 0.995415985584259, 0.9965905547142029, 0.23580338060855865, 0.7616658210754395, 0.6686198711395264, 0.1438431739807129, 0.18691249191761017, 0.10219275951385498, 0.8966304063796997, 0.9977501630783081, 0.29926642775535583, 0.19659176468849182, 0.48891255259513855, 0.015099214389920235, 0.18288478255271912, 0.10630177706480026, 0.678388237953186, 0.03219534084200859, 0.9910055994987488, 0.0052148113027215, 0.9508339166641235, 0.041718490421772, 0.9963807463645935, 0.9916483163833618, 0.2972227931022644, 0.18469475209712982, 0.4514140784740448, 0.018785670399665833, 0.047615163028240204, 0.9930660724639893, 0.9947640299797058, 0.9945446252822876, 0.2888530194759369, 0.3855559825897217, 0.10298237949609756, 0.05777060240507126, 0.16452062129974365, 0.9943132996559143, 0.9897240400314331, 0.9954185485839844, 0.9933211803436279, 0.1097552627325058, 0.11563500761985779, 0.7075294852256775, 0.06859704107046127, 0.6788279414176941, 0.08317654579877853, 0.23611405491828918, 0.9936558604240417, 0.9964585304260254, 0.9934080839157104, 0.9976367354393005, 0.05978871509432793, 0.8528896570205688, 0.025212109088897705, 0.06194975599646568, 0.20435824990272522, 0.7940332293510437, 0.4674381613731384, 0.18224908411502838, 0.25929221510887146, 0.09096268564462662, 0.9985290765762329, 0.9976139068603516, 0.997083842754364, 0.01684827357530594, 0.41067665815353394, 0.5707352757453918, 0.03656424582004547, 0.9611173272132874, 0.9218962788581848, 0.04594564065337181, 0.026851346716284752, 0.0023867865093052387, 0.0019889886025339365, 0.0009944943012669683, 0.9984923601150513, 0.9941603541374207, 0.6046912670135498, 0.018733981996774673, 0.34241554141044617, 0.015611651353538036, 0.017693204805254936, 0.27097710967063904, 0.16876263916492462, 0.28641802072525024, 0.04197318106889725, 0.03392650932073593, 0.15897613763809204, 0.03871101513504982, 0.9977172613143921, 0.997596263885498, 0.13423484563827515, 0.7043869495391846, 0.1605282574892044, 0.42116400599479675, 0.0011570439673960209, 0.5762079358100891, 0.9981940388679504, 0.9952104091644287, 0.006363490596413612, 0.006363490596413612, 0.006363490596413612, 0.96088707447052, 0.995353639125824, 0.4940461814403534, 0.504578173160553, 0.9967946410179138, 0.9903597235679626, 0.99663245677948, 0.9975804686546326, 0.8948014974594116, 0.06898249685764313, 0.03646217659115791, 0.9967475533485413, 0.9969889521598816, 0.9970732927322388, 0.99044269323349, 0.4242521822452545, 0.5742639899253845, 0.990260660648346, 0.17883417010307312, 0.20312029123306274, 0.02870178036391735, 0.585074782371521, 0.9958649277687073, 0.4407426416873932, 0.05461256951093674, 0.48492667078971863, 0.019484886899590492, 0.9538230895996094, 0.04189087823033333, 0.9962202310562134, 0.9955905079841614, 0.25607776641845703, 0.39033520221710205, 0.3533426523208618, 0.9977414608001709, 0.9958181381225586, 0.21189308166503906, 0.26980382204055786, 0.5178492665290833, 0.992834746837616, 0.3095311224460602, 0.0009157725144177675, 0.6886609196662903, 0.9937216639518738, 0.9994568824768066, 0.994529664516449, 0.17794980108737946, 0.8193967938423157, 0.9847748279571533, 0.9987338781356812, 0.9987502098083496, 0.998263418674469, 0.5519344210624695, 0.44639208912849426, 0.9684335589408875, 0.029545430094003677, 0.6341886520385742, 0.04918733239173889, 0.03344738483428955, 0.28331902623176575, 0.37938955426216125, 0.12043671309947968, 0.25561508536338806, 0.21639667451381683, 0.00472846208140254, 0.020860861986875534, 0.002781448420137167, 0.6468672156333923, 0.24242737889289856, 0.012417011894285679, 0.0750933587551117, 0.0218775924295187, 0.99622642993927, 0.42834213376045227, 0.19842755794525146, 0.37079983949661255, 0.0022915073204785585, 0.8311640620231628, 0.13702555000782013, 0.013153623789548874, 0.01853935979306698, 0.9979990124702454, 0.9946474432945251, 0.9937751889228821, 0.9956228733062744, 0.0052698650397360325, 0.026349324733018875, 0.0052698650397360325, 0.010539730079472065, 0.0052698650397360325, 0.0052698650397360325, 0.0052698650397360325, 0.0052698650397360325, 0.010539730079472065, 0.0052698650397360325, 0.9011469483375549, 0.0052698650397360325, 0.0052698650397360325, 0.03438149020075798, 0.426734983921051, 0.1493716835975647, 0.21004490554332733, 0.14012624323368073, 0.03929313272237778, 0.9931573271751404, 0.9048699736595154, 0.09420882910490036, 0.9153068661689758, 0.08320971578359604, 0.993330180644989], \"Term\": [\"_\", \"accept\", \"accept\", \"accept\", \"access\", \"advance\", \"advice\", \"aerospace\", \"agency\", \"agency\", \"ago\", \"ago\", \"ahl\", \"air\", \"alan\", \"algorithm\", \"also\", \"also\", \"also\", \"also\", \"also\", \"also\", \"also\", \"amendment\", \"american\", \"american\", \"american\", \"amp\", \"anaheim\", \"analysis\", \"analysis\", \"anger\", \"animal\", \"announcement\", \"annual\", \"answer\", \"answer\", \"answer\", \"anybody\", \"anyone\", \"apartment\", \"apple\", \"application\", \"application\", \"april\", \"april\", \"arab\", \"area\", \"area\", \"area\", \"area\", \"area\", \"area\", \"area\", \"argument\", \"armenia\", \"armenian\", \"army\", \"army\", \"arrest\", \"art\", \"art\", \"art\", \"art\", \"article\", \"article\", \"article\", \"associate\", \"astronomy\", \"atheist\", \"ati\", \"attack\", \"attack\", \"attack\", \"attempt\", \"audio\", \"authority\", \"auto\", \"automatically\", \"available\", \"available\", \"average\", \"average\", \"away\", \"away\", \"away\", \"ax\", \"azerbaijani\", \"background\", \"bag\", \"ban\", \"band\", \"band\", \"baseball\", \"battery\", \"battery_charger\", \"bay\", \"be\", \"be\", \"belief\", \"believe\", \"believe\", \"believe\", \"bible\", \"bike\", \"bit\", \"bit\", \"bit\", \"bit\", \"bitmap\", \"block\", \"block\", \"block\", \"blood\", \"blood\", \"blue\", \"board\", \"board\", \"board\", \"bolt\", \"bomb\", \"book\", \"book\", \"book\", \"book\", \"border\", \"bos\", \"boston\", \"bottle\", \"bounce\", \"boy\", \"boy\", \"bradley\", \"brake\", \"brand\", \"brave\", \"breaker\", \"brian_kendig\", \"broadcast\", \"brother\", \"buffalo\", \"build\", \"build\", \"build\", \"build\", \"build\", \"build\", \"building\", \"building\", \"burn\", \"burn\", \"bus\", \"button\", \"buy\", \"ca\", \"ca\", \"cable\", \"cable\", \"cal\", \"call\", \"call\", \"call\", \"call\", \"call\", \"call\", \"callback\", \"canada\", \"canada\", \"canada\", \"canadian\", \"canuck\", \"capital\", \"captain\", \"car\", \"card\", \"card\", \"carry\", \"carry\", \"carry\", \"case\", \"case\", \"case\", \"case\", \"case\", \"case_western\", \"catch\", \"catch\", \"catch\", \"catch\", \"cc\", \"cell\", \"center\", \"center\", \"center\", \"center\", \"center\", \"center\", \"chain\", \"channel\", \"character\", \"character\", \"character\", \"chi\", \"chicago\", \"chief\", \"child\", \"child\", \"chip\", \"chris\", \"christ\", \"christian\", \"christianity\", \"church\", \"cigarette\", \"circuit\", \"cirrus_logic\", \"citizen\", \"civil\", \"civilian\", \"claim\", \"claim\", \"clean\", \"clear\", \"clear\", \"clearly\", \"cleveland_ohio\", \"client\", \"clipper\", \"clipper_chip\", \"coach\", \"code\", \"code\", \"code\", \"cold\", \"color\", \"come\", \"come\", \"come\", \"come\", \"come\", \"comet\", \"committee\", \"committee\", \"communication\", \"communication\", \"comparison\", \"compatible\", \"compile\", \"compile\", \"complain\", \"computer_science\", \"computing\", \"concept\", \"concern\", \"concern\", \"conductor\", \"conference\", \"confuse\", \"congress\", \"congress\", \"congress\", \"connect\", \"consider\", \"consider\", \"consider\", \"consider\", \"constitution\", \"construction\", \"contact\", \"contain\", \"contain\", \"contain\", \"contain\", \"context\", \"control\", \"control\", \"control\", \"control\", \"control\", \"control\", \"control\", \"controller\", \"cool\", \"cop\", \"copy\", \"copy\", \"copy\", \"copy\", \"corporation\", \"cost\", \"cost\", \"could\", \"could\", \"could\", \"could\", \"count\", \"countersteer\", \"country\", \"country\", \"country\", \"court\", \"cover\", \"cover\", \"cover\", \"coverage\", \"cpu\", \"crime\", \"criminal\", \"crowd\", \"crypto\", \"csa\", \"cubs_suck\", \"cubs_suck\", \"cubs_suck\", \"cubs_suck\", \"cubs_suck\", \"cubs_suck\", \"cubs_suck\", \"cubs_suck\", \"current\", \"current\", \"current\", \"current\", \"current\", \"cylinder\", \"czar\", \"damn\", \"darin\", \"darren\", \"datum\", \"datum\", \"datum\", \"datum\", \"datum\", \"david\", \"david\", \"david\", \"david\", \"david\", \"davidian\", \"day\", \"day\", \"day\", \"day\", \"day\", \"dealer\", \"dear\", \"death\", \"death\", \"death\", \"decision\", \"default\", \"defenseman\", \"deity\", \"demonstrate\", \"department\", \"department\", \"department\", \"department\", \"depend\", \"depend\", \"description\", \"description\", \"design\", \"design\", \"design\", \"det\", \"detect\", \"detector\", \"detroit\", \"develop\", \"develop\", \"develop\", \"development\", \"device\", \"device\", \"devil\", \"die\", \"die\", \"directory\", \"discharge\", \"discipline\", \"discuss\", \"discussion\", \"discussion\", \"disease\", \"disk\", \"disk\", \"display\", \"distribution_na\", \"distribution_na\", \"distribution_usa\", \"distribution_usa\", \"distribution_world\", \"distribution_world\", \"distribution_world\", \"distribution_world\", \"div\", \"division\", \"division\", \"division\", \"do\", \"do\", \"do\", \"do\", \"do\", \"doc\", \"doctor\", \"dod\", \"dog\", \"dollar\", \"door\", \"draft\", \"drawing\", \"dress\", \"drive\", \"drive\", \"driver\", \"driver\", \"drug\", \"earth\", \"earth\", \"earth\", \"ease\", \"economic\", \"edge\", \"edition\", \"editor\", \"edward\", \"eeg\", \"eg\", \"electronic\", \"electronic\", \"email\", \"email\", \"email\", \"emergency\", \"encrypt\", \"encryption\", \"energy\", \"engine\", \"engineering\", \"enjoy\", \"enjoy\", \"enjoyment\", \"ensure\", \"ensure\", \"entry\", \"ep\", \"equal\", \"equal\", \"equal\", \"error\", \"error\", \"error\", \"error\", \"espn\", \"establish\", \"estimate\", \"even\", \"even\", \"even\", \"even\", \"even\", \"example\", \"example\", \"example\", \"excellent\", \"exist\", \"exist\", \"expand\", \"extra\", \"extra\", \"eye\", \"eye\", \"face\", \"face\", \"fact\", \"fact\", \"faith\", \"familiar\", \"fan\", \"faq\", \"faq\", \"father\", \"fax\", \"fax\", \"fax\", \"fd\", \"february\", \"federal\", \"fight\", \"fight\", \"file\", \"file\", \"final\", \"final\", \"final\", \"final_standing\", \"finger\", \"finland\", \"fire\", \"fire\", \"fire\", \"firearm\", \"firm\", \"first\", \"first\", \"first\", \"first\", \"first\", \"first\", \"first\", \"first\", \"first\", \"flight\", \"fly\", \"fly\", \"fly\", \"follow\", \"follow\", \"follow\", \"follow\", \"follow\", \"font\", \"food\", \"food\", \"food\", \"foot\", \"foot\", \"forget\", \"forget\", \"format\", \"forum\", \"fox\", \"fp\", \"frame\", \"france\", \"frank\", \"frequency\", \"friday\", \"ftp\", \"fuel\", \"function\", \"function\", \"function\", \"game\", \"gas\", \"gay\", \"gd\", \"gene\", \"genoa\", \"genocide\", \"george\", \"george\", \"german\", \"get\", \"get\", \"get\", \"gfci\", \"gif\", \"girl\", \"give\", \"give\", \"give\", \"go\", \"go\", \"go\", \"goal\", \"god\", \"gold\", \"good\", \"good\", \"good\", \"good\", \"good\", \"gordon_bank\", \"gov\", \"government\", \"government\", \"government\", \"gps\", \"gq\", \"gr\", \"graphic\", \"greek\", \"greek\", \"ground\", \"ground\", \"ground\", \"group\", \"group\", \"group\", \"group\", \"guard\", \"guide\", \"guide\", \"gun\", \"gun_control\", \"guru\", \"hall\", \"ham\", \"handgun\", \"hang\", \"happen\", \"happen\", \"hard_drive\", \"harry\", \"hat\", \"hate\", \"have\", \"have\", \"hawk\", \"hawk\", \"hd\", \"health\", \"heart\", \"heart\", \"heat\", \"heavy\", \"hell\", \"helmet\", \"help\", \"help\", \"help\", \"help\", \"help\", \"henry\", \"henry_spencer\", \"hi\", \"high\", \"high\", \"high\", \"high\", \"high\", \"high\", \"high\", \"high\", \"hill\", \"hit\", \"hit\", \"hit\", \"hitter\", \"hockey\", \"hockey_league\", \"hole\", \"homeopathic\", \"homeopathy\", \"homosexual\", \"honor\", \"hospital\", \"host\", \"host\", \"hour\", \"hour\", \"house\", \"house\", \"house\", \"house\", \"however\", \"however\", \"however\", \"hug\", \"human\", \"human\", \"hunt\", \"hurt\", \"ibm\", \"ice\", \"ide\", \"illegal\", \"illinois\", \"image\", \"image\", \"image\", \"imagine\", \"implement\", \"imply\", \"inc\", \"inc\", \"inc\", \"include\", \"include\", \"include\", \"include\", \"include\", \"info\", \"info\", \"info\", \"information\", \"information\", \"information\", \"information\", \"ins_cwru\", \"instal\", \"instal\", \"installation\", \"instance\", \"insurance\", \"int\", \"interactive\", \"internal\", \"international\", \"internet\", \"interview\", \"israel\", \"israeli\", \"issue\", \"issue\", \"issue\", \"issue\", \"jack\", \"jeff\", \"jew\", \"jewish\", \"jewish\", \"job\", \"ken\", \"key\", \"key_escrow\", \"kid\", \"kill\", \"kill\", \"king\", \"km\", \"know\", \"know\", \"know\", \"know\", \"know\", \"kurt\", \"la\", \"lamp\", \"land\", \"land\", \"lane\", \"laptop\", \"large\", \"large\", \"large\", \"large\", \"large\", \"large\", \"large\", \"large\", \"last_night\", \"lately\", \"laugh\", \"launch\", \"law\", \"law\", \"law_enforcement\", \"lawrence\", \"league\", \"lebanon\", \"legal\", \"legal\", \"legend\", \"lemieux\", \"lens\", \"let\", \"let\", \"let\", \"let\", \"level\", \"level\", \"level\", \"level\", \"level\", \"library\", \"libxmu\", \"life\", \"life\", \"life\", \"light\", \"light\", \"like\", \"like\", \"like\", \"limit\", \"line\", \"line\", \"list\", \"list\", \"list\", \"lock\", \"logical\", \"logo\", \"look\", \"look\", \"look\", \"lord\", \"lot\", \"lot\", \"love\", \"love\", \"love\", \"low\", \"low\", \"low\", \"low\", \"ltd\", \"lunar\", \"mac\", \"machine\", \"magazine\", \"magazine\", \"magic\", \"mail\", \"mailing_list\", \"make\", \"make\", \"make\", \"make\", \"man\", \"man\", \"man\", \"man\", \"man\", \"many\", \"many\", \"many\", \"many\", \"many\", \"mar\", \"march\", \"marriage\", \"married\", \"mass\", \"mass\", \"mass\", \"massacre\", \"master\", \"master\", \"material\", \"matthew\", \"max\", \"may\", \"may\", \"may\", \"may\", \"may\", \"mean\", \"mean\", \"mean\", \"mean\", \"mean\", \"medical\", \"medicine\", \"medium\", \"medium\", \"medium\", \"medium\", \"meg\", \"membership\", \"memory\", \"message\", \"message\", \"message\", \"metal\", \"mf\", \"mg\", \"mhz\", \"mid\", \"mike\", \"mike\", \"mike\", \"mile\", \"military\", \"military\", \"militia\", \"miller\", \"million\", \"min\", \"minnesota\", \"misc\", \"mission\", \"mit\", \"mode\", \"model\", \"model\", \"modem\", \"mon\", \"money\", \"money\", \"monitor\", \"monitor\", \"mont_pierce\", \"monthly\", \"moon\", \"moral\", \"mormon\", \"morning\", \"morris\", \"mother\", \"motif\", \"motor\", \"motorcycle\", \"mount\", \"mouse\", \"movement\", \"mr\", \"mr\", \"mr_stephanopoulo\", \"ms_window\", \"msg\", \"much\", \"much\", \"much\", \"multi\", \"multi\", \"must\", \"must\", \"must\", \"must\", \"must\", \"mutlu\", \"mystery\", \"nasa\", \"national\", \"national\", \"national\", \"nc\", \"nec\", \"need\", \"need\", \"need\", \"need\", \"need\", \"need\", \"neighbor\", \"network\", \"network\", \"neutral\", \"never\", \"never\", \"never\", \"never\", \"new\", \"new\", \"new\", \"new\", \"new\", \"new\", \"new\", \"new\", \"new_brunswick\", \"new_york\", \"new_york\", \"new_york\", \"news\", \"news\", \"news\", \"newsgroup\", \"newsletter\", \"nhl\", \"nice\", \"nick\", \"nntp_post\", \"normal\", \"not\", \"not\", \"not\", \"not\", \"nsa\", \"nt\", \"nt\", \"nyi\", \"nyr\", \"object\", \"obvious\", \"offer\", \"offer\", \"ohio\", \"oil\", \"ontario\", \"orbit\", \"org\", \"organization\", \"organization\", \"originator\", \"ott\", \"ought\", \"outlet\", \"package\", \"page\", \"page\", \"pain\", \"painful\", \"panel\", \"part\", \"part\", \"part\", \"part\", \"part\", \"party\", \"passage\", \"patient\", \"paul\", \"pay\", \"pay\", \"pc\", \"peace\", \"penguin\", \"penn_state\", \"people\", \"people\", \"people\", \"people\", \"perhaps\", \"perhaps\", \"period\", \"period\", \"period\", \"permit\", \"peter\", \"phi\", \"phone\", \"phone\", \"phone\", \"physical\", \"pick\", \"pick\", \"pin\", \"pipe\", \"pipe\", \"pit\", \"pitch\", \"pittsburgh\", \"pittsburgh\", \"plane\", \"plate\", \"play\", \"play\", \"play\", \"player\", \"playoff\", \"pm\", \"point\", \"point\", \"point\", \"point\", \"police\", \"policy\", \"pool\", \"pop\", \"population\", \"population\", \"population\", \"port\", \"portion\", \"post\", \"post\", \"post\", \"posting\", \"postscript\", \"power\", \"power\", \"power\", \"power\", \"power\", \"praise\", \"pray\", \"present\", \"present\", \"present\", \"president\", \"pressure\", \"pressure\", \"price\", \"price\", \"price\", \"principle\", \"printer\", \"privacy\", \"private\", \"private\", \"probe\", \"problem\", \"problem\", \"problem\", \"problem\", \"professional\", \"program\", \"program\", \"program\", \"program\", \"prohibit\", \"project\", \"project\", \"promise\", \"properly\", \"properly\", \"protect\", \"prove\", \"prove\", \"pub\", \"public\", \"public\", \"public\", \"pull\", \"pull\", \"punishment\", \"purchase\", \"pure\", \"qax\", \"question\", \"question\", \"question\", \"question\", \"quick\", \"radio\", \"ram\", \"ranger\", \"rat\", \"rather\", \"rather\", \"rating\", \"rd\", \"rd\", \"read\", \"read\", \"read\", \"read\", \"read\", \"read\", \"reader\", \"reason\", \"reason\", \"reason\", \"ref\", \"reference\", \"reference\", \"reference\", \"reference\", \"reference\", \"regulation\", \"relative\", \"relative\", \"relative\", \"religion\", \"reply\", \"reply\", \"reply\", \"reply\", \"reply\", \"report\", \"report\", \"report\", \"report\", \"research\", \"research\", \"research\", \"reserve\", \"reserve_university\", \"resource\", \"respect\", \"restriction\", \"return\", \"return\", \"return\", \"return\", \"return\", \"return\", \"return\", \"return\", \"return\", \"review\", \"richard\", \"richard\", \"rid\", \"ride\", \"right\", \"right\", \"right\", \"right\", \"rise\", \"risk\", \"road\", \"road\", \"road\", \"robert\", \"robert\", \"rocket\", \"rocket\", \"room\", \"room\", \"rough\", \"rule\", \"rule\", \"run\", \"run\", \"run\", \"run\", \"run\", \"run\", \"run\", \"russian\", \"s\", \"s\", \"safely\", \"sale\", \"sale\", \"san_francisco\", \"san_jose\", \"san_jose\", \"satan\", \"satellite\", \"say\", \"say\", \"say\", \"say\", \"scale\", \"scale\", \"schedule\", \"science\", \"science\", \"scientific\", \"scientific\", \"scoop\", \"score\", \"screen\", \"screw\", \"scripture\", \"scsi\", \"seal\", \"search\", \"season\", \"seat\", \"second\", \"second\", \"second\", \"second\", \"second\", \"secretary\", \"secure\", \"security\", \"security\", \"security\", \"see\", \"see\", \"see\", \"see\", \"seize\", \"sell\", \"sell\", \"sell\", \"sell\", \"senate\", \"send\", \"send\", \"send\", \"sense\", \"sense\", \"serdar_argic\", \"server\", \"service\", \"service\", \"service\", \"service\", \"service\", \"set\", \"set\", \"set\", \"set\", \"set\", \"set\", \"setup\", \"sex\", \"shape\", \"shell\", \"shell\", \"shift\", \"shift\", \"shipping\", \"shk\", \"should\", \"signal\", \"sin\", \"sinner\", \"site\", \"site\", \"size\", \"size\", \"size\", \"size\", \"size\", \"size\", \"slap\", \"slave\", \"smith\", \"smith\", \"software\", \"software\", \"soldier\", \"somewhere\", \"soon\", \"soon\", \"soon\", \"soul\", \"sound\", \"sound\", \"sound\", \"source\", \"source\", \"source\", \"source\", \"source\", \"soviet\", \"space\", \"spacecraft\", \"spank\", \"spanking\", \"speaker\", \"specifically\", \"stand\", \"standard\", \"standard\", \"standard\", \"start\", \"start\", \"start\", \"start\", \"stat\", \"state\", \"state\", \"state\", \"state\", \"statement\", \"station\", \"statistic\", \"stay\", \"steer\", \"stick\", \"stl\", \"string\", \"student\", \"student\", \"student\", \"study\", \"study\", \"stupid\", \"success\", \"suck\", \"sumgait\", \"summer\", \"sun\", \"sunday\", \"supply\", \"supply\", \"supply\", \"support\", \"support\", \"support\", \"support\", \"support\", \"switch\", \"system\", \"system\", \"system\", \"system\", \"system\", \"system\", \"table\", \"table\", \"take\", \"take\", \"take\", \"talk\", \"talk\", \"talk\", \"talk\", \"tampa_bay\", \"tank\", \"tap\", \"tape\", \"tax\", \"tax\", \"teach\", \"team\", \"technology\", \"technology\", \"technology\", \"tel\", \"tell\", \"tell\", \"tell\", \"tell\", \"tell\", \"term\", \"term\", \"terminal\", \"territory\", \"terrorist\", \"texas\", \"text\", \"text\", \"thank\", \"thank\", \"thank\", \"that\", \"that\", \"theory\", \"thing\", \"thing\", \"thing\", \"thing\", \"think\", \"think\", \"think\", \"think\", \"thinking\", \"thus\", \"thus\", \"thus\", \"ticket\", \"tiger\", \"time\", \"time\", \"time\", \"time\", \"time\", \"timeout\", \"timer\", \"tm\", \"today\", \"today\", \"today\", \"today\", \"today\", \"tomorrow\", \"tonight\", \"tor\", \"toronto_zoology\", \"total\", \"total\", \"total\", \"total\", \"trade\", \"trade\", \"trade\", \"train\", \"treatment\", \"tree\", \"trial\", \"true\", \"true\", \"true\", \"true\", \"truth\", \"truth\", \"try\", \"try\", \"try\", \"try\", \"turk\", \"turkey\", \"turkish\", \"unit\", \"unit\", \"unit\", \"univ\", \"univ\", \"university\", \"university\", \"university\", \"university\", \"university\", \"university\", \"upgrade\", \"urbana\", \"usa\", \"usa\", \"usa\", \"usa\", \"usa\", \"use\", \"use\", \"use\", \"use\", \"use\", \"use\", \"use\", \"useful\", \"usenet\", \"user\", \"user\", \"user\", \"value\", \"value\", \"value\", \"van\", \"vancouver\", \"vay\", \"vay\", \"vay\", \"vay\", \"verse\", \"version\", \"version\", \"vesa\", \"vesa_local\", \"vga\", \"video\", \"view\", \"view\", \"view\", \"vlb\", \"voice\", \"volt\", \"voltage\", \"vote\", \"vote\", \"vram\", \"wait\", \"wait\", \"wait\", \"wait\", \"wall\", \"want\", \"want\", \"want\", \"want\", \"washington\", \"washington\", \"water\", \"wave\", \"way\", \"way\", \"way\", \"weapon\", \"weekend\", \"well\", \"well\", \"well\", \"widget\", \"win\", \"win\", \"win\", \"wind\", \"window\", \"window_manager\", \"wing\", \"wing\", \"winnipeg_jet\", \"wire\", \"wiretap\", \"wiring\", \"woman\", \"woman\", \"wonder\", \"wonder\", \"word\", \"word\", \"word\", \"word\", \"work\", \"work\", \"work\", \"work\", \"work\", \"work\", \"work\", \"world\", \"world\", \"world\", \"world\", \"world\", \"worship\", \"would\", \"would\", \"would\", \"would\", \"write\", \"write\", \"write\", \"write\", \"xfree\", \"xga\", \"xlib\", \"xterm\", \"yalanci\", \"yalanci\", \"yalanci\", \"yalanci\", \"yalanci\", \"yalanci\", \"yalanci\", \"yalanci\", \"yalanci\", \"yalanci\", \"yalanci\", \"yalanci\", \"yalanci\", \"year\", \"year\", \"year\", \"year\", \"year\", \"year\", \"yesterday\", \"yet\", \"yet\", \"young\", \"young\", \"zoroastrian\"]}, \"R\": 30, \"lambda.step\": 0.01, \"plot.opts\": {\"xlab\": \"PC1\", \"ylab\": \"PC2\"}, \"topic.order\": [8, 14, 19, 3, 16, 11, 18, 13, 6, 17, 7, 10, 15, 4, 9, 20, 12, 5, 1, 2]};\n",
              "\n",
              "function LDAvis_load_lib(url, callback){\n",
              "  var s = document.createElement('script');\n",
              "  s.src = url;\n",
              "  s.async = true;\n",
              "  s.onreadystatechange = s.onload = callback;\n",
              "  s.onerror = function(){console.warn(\"failed to load library \" + url);};\n",
              "  document.getElementsByTagName(\"head\")[0].appendChild(s);\n",
              "}\n",
              "\n",
              "if(typeof(LDAvis) !== \"undefined\"){\n",
              "   // already loaded: just create the visualization\n",
              "   !function(LDAvis){\n",
              "       new LDAvis(\"#\" + \"ldavis_el971405072015966562724926326\", ldavis_el971405072015966562724926326_data);\n",
              "   }(LDAvis);\n",
              "}else if(typeof define === \"function\" && define.amd){\n",
              "   // require.js is available: use it to load d3/LDAvis\n",
              "   require.config({paths: {d3: \"https://cdnjs.cloudflare.com/ajax/libs/d3/3.5.5/d3.min\"}});\n",
              "   require([\"d3\"], function(d3){\n",
              "      window.d3 = d3;\n",
              "      LDAvis_load_lib(\"https://cdn.rawgit.com/bmabey/pyLDAvis/files/ldavis.v1.0.0.js\", function(){\n",
              "        new LDAvis(\"#\" + \"ldavis_el971405072015966562724926326\", ldavis_el971405072015966562724926326_data);\n",
              "      });\n",
              "    });\n",
              "}else{\n",
              "    // require.js not available: dynamically load d3 & LDAvis\n",
              "    LDAvis_load_lib(\"https://cdnjs.cloudflare.com/ajax/libs/d3/3.5.5/d3.min.js\", function(){\n",
              "         LDAvis_load_lib(\"https://cdn.rawgit.com/bmabey/pyLDAvis/files/ldavis.v1.0.0.js\", function(){\n",
              "                 new LDAvis(\"#\" + \"ldavis_el971405072015966562724926326\", ldavis_el971405072015966562724926326_data);\n",
              "            })\n",
              "         });\n",
              "}\n",
              "</script>"
            ],
            "text/plain": [
              "PreparedData(topic_coordinates=            Freq  cluster  topics         x         y\n",
              "topic                                                \n",
              "7      16.244669        1       1  0.336874  0.001190\n",
              "13     15.224102        1       2  0.291046  0.003240\n",
              "18     14.581161        1       3  0.328823  0.128125\n",
              "2       6.162413        1       4  0.091751 -0.226490\n",
              "15      5.974064        1       5  0.059637 -0.222490\n",
              "10      4.344126        1       6 -0.085006  0.113064\n",
              "17      4.177528        1       7  0.060773  0.183159\n",
              "12      3.603081        1       8 -0.021552  0.036676\n",
              "5       3.365274        1       9 -0.022905  0.021306\n",
              "16      3.271726        1      10 -0.029259 -0.219704\n",
              "6       3.222450        1      11 -0.063024  0.016652\n",
              "9       2.968454        1      12 -0.062882 -0.139433\n",
              "14      2.740066        1      13 -0.088884  0.062642\n",
              "3       2.731153        1      14 -0.047749  0.117430\n",
              "8       2.291951        1      15 -0.111450 -0.003697\n",
              "19      2.124722        1      16 -0.113691  0.023413\n",
              "11      2.077352        1      17 -0.092438  0.110492\n",
              "4       1.694701        1      18 -0.134203 -0.001626\n",
              "0       1.679200        1      19 -0.164223  0.028009\n",
              "1       1.521805        1      20 -0.131638 -0.031959, topic_info=      Category          Freq          Term         Total  loglift  logprob\n",
              "term                                                                      \n",
              "4146   Default  57084.000000            ax  57084.000000  30.0000  30.0000\n",
              "21     Default  12491.000000          line  12491.000000  29.0000  29.0000\n",
              "82     Default  16291.000000           not  16291.000000  28.0000  28.0000\n",
              "30     Default  11142.000000  organization  11142.000000  27.0000  27.0000\n",
              "3721   Default   3843.000000           max   3843.000000  26.0000  26.0000\n",
              "65     Default  10452.000000            do  10452.000000  25.0000  25.0000\n",
              "322    Default   9655.000000         write   9655.000000  24.0000  24.0000\n",
              "55     Default   7586.000000       article   7586.000000  23.0000  23.0000\n",
              "244    Default   8046.000000            be   8046.000000  22.0000  22.0000\n",
              "154    Default  11782.000000         would  11782.000000  21.0000  21.0000\n",
              "303    Default   6905.000000           say   6905.000000  20.0000  20.0000\n",
              "226    Default   5803.000000            go   5803.000000  19.0000  19.0000\n",
              "29     Default   4407.000000     nntp_post   4407.000000  18.0000  18.0000\n",
              "16     Default   4083.000000          host   4083.000000  17.0000  17.0000\n",
              "118    Default   6852.000000           get   6852.000000  16.0000  16.0000\n",
              "46     Default   5027.000000    university   5027.000000  15.0000  15.0000\n",
              "1911   Default   1863.000000         space   1863.000000  14.0000  14.0000\n",
              "215    Default   2294.000000        window   2294.000000  13.0000  13.0000\n",
              "36     Default   3735.000000             s   3735.000000  12.0000  12.0000\n",
              "18     Default   7291.000000          know   7291.000000  11.0000  11.0000\n",
              "50     Default   3461.000000          year   3461.000000  10.0000  10.0000\n",
              "317    Default   4598.000000           use   4598.000000   9.0000   9.0000\n",
              "2726   Default   1540.000000          game   1540.000000   8.0000   8.0000\n",
              "23     Default   1949.000000          mail   1949.000000   7.0000   7.0000\n",
              "681    Default   3006.000000         right   3006.000000   6.0000   6.0000\n",
              "967    Default   1685.000000     christian   1685.000000   5.0000   5.0000\n",
              "1362   Default   1746.000000    government   1746.000000   4.0000   4.0000\n",
              "567    Default   1464.000000          team   1464.000000   3.0000   3.0000\n",
              "206    Default   3380.000000        system   3380.000000   2.0000   2.0000\n",
              "60     Default   2012.000000          card   2012.000000   1.0000   1.0000\n",
              "...        ...           ...           ...           ...      ...      ...\n",
              "11736  Topic20    119.371208          guru    120.323120   4.1773  -5.3260\n",
              "3548   Topic20    117.623718  countersteer    118.575630   4.1772  -5.3407\n",
              "10436  Topic20    113.026375       bradley    113.978287   4.1769  -5.3806\n",
              "280    Topic20    112.217010          lane    113.168922   4.1768  -5.3878\n",
              "4913   Topic20    107.557198         forum    108.509109   4.1765  -5.4302\n",
              "7111   Topic20    101.312622           int    102.264534   4.1759  -5.4900\n",
              "6768   Topic20     97.988144         scoop     98.940056   4.1756  -5.5233\n",
              "1548   Topic20     92.962753          vram     93.914665   4.1751  -5.5760\n",
              "23677  Topic20     92.560043     enjoyment     93.511955   4.1750  -5.5803\n",
              "20303  Topic20     91.103676          nick     92.055588   4.1749  -5.5962\n",
              "13531  Topic20     88.575111        libxmu     89.527023   4.1746  -5.6243\n",
              "10134  Topic20     87.897942      callback     88.849854   4.1745  -5.6320\n",
              "4748   Topic20     85.062584           ati     86.014496   4.1741  -5.6648\n",
              "3568   Topic20     83.131752        safely     84.083664   4.1739  -5.6878\n",
              "6308   Topic20     80.993217      detector     81.945129   4.1736  -5.7138\n",
              "5064   Topic20     75.671188       drawing     76.623100   4.1728  -5.7818\n",
              "4044   Topic20     71.420029     ms_window     72.371941   4.1720  -5.8396\n",
              "3571   Topic20     71.192719         steer     72.144630   4.1720  -5.8428\n",
              "2237   Topic20    261.737488      properly    330.148926   3.9531  -4.5409\n",
              "3553   Topic20    378.351044      function    519.989258   3.8673  -4.1724\n",
              "306    Topic20    142.246796         shift    163.463699   4.0462  -5.1506\n",
              "2350   Topic20    497.686066         value    864.271362   3.6334  -3.8982\n",
              "161    Topic20    247.969482          code    911.077454   2.8840  -4.5949\n",
              "397    Topic20    184.928253         error    663.466003   2.9078  -4.8882\n",
              "1131   Topic20    147.243683        return    725.517090   2.5905  -5.1161\n",
              "535    Topic20    154.639771           set   1435.255005   1.9573  -5.0671\n",
              "10030  Topic20    102.335632       compile    240.647217   3.3302  -5.4799\n",
              "7388   Topic20    104.816536     character    416.527832   2.8055  -5.4560\n",
              "945    Topic20    107.785202          size    595.062012   2.4767  -5.4281\n",
              "1281   Topic20     99.081169         build   1050.697876   1.8240  -5.5123\n",
              "\n",
              "[998 rows x 6 columns], token_table=       Topic      Freq         Term\n",
              "term                               \n",
              "2128      19  0.998901            _\n",
              "2647       2  0.810068       accept\n",
              "2647       7  0.176539       accept\n",
              "2647      20  0.012291       accept\n",
              "2079       5  0.998574       access\n",
              "338        5  0.998741      advance\n",
              "2653       1  0.997637       advice\n",
              "20220     12  0.996584    aerospace\n",
              "4672      10  0.856124       agency\n",
              "4672      13  0.141872       agency\n",
              "3662       8  0.185765          ago\n",
              "3662      16  0.812268          ago\n",
              "14829     14  0.994178          ahl\n",
              "637        1  0.997051          air\n",
              "9530      11  0.992349         alan\n",
              "501       10  0.996905    algorithm\n",
              "384        1  0.260701         also\n",
              "384        2  0.373181         also\n",
              "384        3  0.058104         also\n",
              "384        4  0.064901         also\n",
              "384        5  0.203254         also\n",
              "384        7  0.015129         also\n",
              "384       12  0.024557         also\n",
              "2139       9  0.990378    amendment\n",
              "1250       3  0.307612     american\n",
              "1250       8  0.152386     american\n",
              "1250       9  0.539505     american\n",
              "5348      12  0.995584          amp\n",
              "12918      6  0.986726      anaheim\n",
              "3084       9  0.269073     analysis\n",
              "...      ...       ...          ...\n",
              "322        7  0.018539        write\n",
              "28759      4  0.997999        xfree\n",
              "31839     19  0.994647          xga\n",
              "3414      19  0.993775         xlib\n",
              "2103      17  0.995623        xterm\n",
              "71892      1  0.005270      yalanci\n",
              "71892      2  0.026349      yalanci\n",
              "71892      3  0.005270      yalanci\n",
              "71892      5  0.010540      yalanci\n",
              "71892      7  0.005270      yalanci\n",
              "71892      8  0.005270      yalanci\n",
              "71892      9  0.005270      yalanci\n",
              "71892     11  0.005270      yalanci\n",
              "71892     13  0.010540      yalanci\n",
              "71892     15  0.005270      yalanci\n",
              "71892     17  0.901147      yalanci\n",
              "71892     18  0.005270      yalanci\n",
              "71892     20  0.005270      yalanci\n",
              "50         2  0.034381         year\n",
              "50         3  0.426735         year\n",
              "50         8  0.149372         year\n",
              "50        11  0.210045         year\n",
              "50        14  0.140126         year\n",
              "50        17  0.039293         year\n",
              "1140      11  0.993157    yesterday\n",
              "830        2  0.904870          yet\n",
              "830        4  0.094209          yet\n",
              "3395       3  0.915307        young\n",
              "3395      14  0.083210        young\n",
              "23559      7  0.993330  zoroastrian\n",
              "\n",
              "[1606 rows x 3 columns], R=30, lambda_step=0.01, plot_opts={'xlab': 'PC1', 'ylab': 'PC2'}, topic_order=[8, 14, 19, 3, 16, 11, 18, 13, 6, 17, 7, 10, 15, 4, 9, 20, 12, 5, 1, 2])"
            ]
          },
          "metadata": {
            "tags": []
          },
          "execution_count": 23
        }
      ]
    },
    {
      "metadata": {
        "id": "PfsdNPDE5Anx",
        "colab_type": "text"
      },
      "cell_type": "markdown",
      "source": [
        "### So how to infer pyLDAvis’s output?\n",
        "\n",
        "Each bubble on the left-hand side plot represents a topic. The larger the bubble, the more prevalent is that topic.\n",
        "\n",
        "A good topic model will have fairly big, non-overlapping bubbles scattered throughout the chart instead of being clustered in one quadrant.\n",
        "\n",
        "A model with too many topics, will typically have many overlaps, small sized bubbles clustered in one region of the chart.\n",
        "\n",
        "Alright, if you move the cursor over one of the bubbles, the words and bars on the right-hand side will update. These words are the salient keywords that form the selected topic.\n",
        "\n",
        "We have successfully built a good looking topic model.\n",
        "\n",
        "Given our prior knowledge of the number of natural topics in the document, finding the best model was fairly straightforward.\n",
        "\n",
        "Upnext, we will improve upon this model by using Mallet’s version of LDA algorithm and then we will focus on how to arrive at the optimal number of topics given any large corpus of text."
      ]
    },
    {
      "metadata": {
        "id": "IVgD2RBy5DVB",
        "colab_type": "code",
        "colab": {}
      },
      "cell_type": "code",
      "source": [
        ""
      ],
      "execution_count": 0,
      "outputs": []
    }
  ]
}